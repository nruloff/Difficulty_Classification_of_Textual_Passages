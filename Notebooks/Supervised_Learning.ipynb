{
 "cells": [
  {
   "cell_type": "code",
   "execution_count": 1,
   "id": "naughty-uruguay",
   "metadata": {
    "collapsed": true,
    "id": "naughty-uruguay",
    "jupyter": {
     "outputs_hidden": true
    },
    "tags": []
   },
   "outputs": [
    {
     "name": "stdout",
     "output_type": "stream",
     "text": [
      "Collecting altair\n",
      "  Downloading altair-4.2.2-py3-none-any.whl (813 kB)\n",
      "\u001b[K     |████████████████████████████████| 813 kB 9.0 MB/s eta 0:00:01\n",
      "\u001b[?25hRequirement already satisfied: jinja2 in /home/ubuntu/.local/lib/python3.8/site-packages (from altair) (3.0.3)\n",
      "Requirement already satisfied: jsonschema>=3.0 in /home/ubuntu/.local/lib/python3.8/site-packages (from altair) (4.4.0)\n",
      "Collecting toolz\n",
      "  Downloading toolz-0.12.0-py3-none-any.whl (55 kB)\n",
      "\u001b[K     |████████████████████████████████| 55 kB 12.0 MB/s  eta 0:00:01\n",
      "\u001b[?25hRequirement already satisfied: entrypoints in /home/ubuntu/.local/lib/python3.8/site-packages (from altair) (0.4)\n",
      "Requirement already satisfied: numpy in /opt/conda/lib/python3.8/site-packages (from altair) (1.21.5)\n",
      "Requirement already satisfied: pandas>=0.18 in /opt/conda/lib/python3.8/site-packages (from altair) (1.3.5)\n",
      "Requirement already satisfied: attrs>=17.4.0 in /opt/conda/lib/python3.8/site-packages (from jsonschema>=3.0->altair) (21.4.0)\n",
      "Requirement already satisfied: pyrsistent!=0.17.0,!=0.17.1,!=0.17.2,>=0.14.0 in /home/ubuntu/.local/lib/python3.8/site-packages (from jsonschema>=3.0->altair) (0.18.1)\n",
      "Requirement already satisfied: importlib-resources>=1.4.0 in /home/ubuntu/.local/lib/python3.8/site-packages (from jsonschema>=3.0->altair) (5.4.0)\n",
      "Requirement already satisfied: zipp>=3.1.0 in /home/ubuntu/.local/lib/python3.8/site-packages (from importlib-resources>=1.4.0->jsonschema>=3.0->altair) (3.7.0)\n",
      "Requirement already satisfied: python-dateutil>=2.7.3 in /opt/conda/lib/python3.8/site-packages (from pandas>=0.18->altair) (2.8.2)\n",
      "Requirement already satisfied: pytz>=2017.3 in /opt/conda/lib/python3.8/site-packages (from pandas>=0.18->altair) (2021.3)\n",
      "Requirement already satisfied: six>=1.5 in /opt/conda/lib/python3.8/site-packages (from python-dateutil>=2.7.3->pandas>=0.18->altair) (1.16.0)\n",
      "Requirement already satisfied: MarkupSafe>=2.0 in /home/ubuntu/.local/lib/python3.8/site-packages (from jinja2->altair) (2.1.0)\n",
      "Installing collected packages: toolz, altair\n",
      "Successfully installed altair-4.2.2 toolz-0.12.0\n",
      "Requirement already satisfied: altair in /opt/conda/lib/python3.8/site-packages (4.2.2)\n",
      "Requirement already satisfied: pandas>=0.18 in /opt/conda/lib/python3.8/site-packages (from altair) (1.3.5)\n",
      "Requirement already satisfied: numpy in /opt/conda/lib/python3.8/site-packages (from altair) (1.21.5)\n",
      "Requirement already satisfied: jsonschema>=3.0 in /home/ubuntu/.local/lib/python3.8/site-packages (from altair) (4.4.0)\n",
      "Requirement already satisfied: toolz in /opt/conda/lib/python3.8/site-packages (from altair) (0.12.0)\n",
      "Requirement already satisfied: jinja2 in /home/ubuntu/.local/lib/python3.8/site-packages (from altair) (3.0.3)\n",
      "Requirement already satisfied: entrypoints in /home/ubuntu/.local/lib/python3.8/site-packages (from altair) (0.4)\n",
      "Requirement already satisfied: importlib-resources>=1.4.0 in /home/ubuntu/.local/lib/python3.8/site-packages (from jsonschema>=3.0->altair) (5.4.0)\n",
      "Requirement already satisfied: attrs>=17.4.0 in /opt/conda/lib/python3.8/site-packages (from jsonschema>=3.0->altair) (21.4.0)\n",
      "Requirement already satisfied: pyrsistent!=0.17.0,!=0.17.1,!=0.17.2,>=0.14.0 in /home/ubuntu/.local/lib/python3.8/site-packages (from jsonschema>=3.0->altair) (0.18.1)\n",
      "Requirement already satisfied: zipp>=3.1.0 in /home/ubuntu/.local/lib/python3.8/site-packages (from importlib-resources>=1.4.0->jsonschema>=3.0->altair) (3.7.0)\n",
      "Requirement already satisfied: pytz>=2017.3 in /opt/conda/lib/python3.8/site-packages (from pandas>=0.18->altair) (2021.3)\n",
      "Requirement already satisfied: python-dateutil>=2.7.3 in /opt/conda/lib/python3.8/site-packages (from pandas>=0.18->altair) (2.8.2)\n",
      "Requirement already satisfied: six>=1.5 in /opt/conda/lib/python3.8/site-packages (from python-dateutil>=2.7.3->pandas>=0.18->altair) (1.16.0)\n",
      "Requirement already satisfied: MarkupSafe>=2.0 in /home/ubuntu/.local/lib/python3.8/site-packages (from jinja2->altair) (2.1.0)\n",
      "Collecting nltk\n",
      "  Downloading nltk-3.8.1-py3-none-any.whl (1.5 MB)\n",
      "\u001b[K     |████████████████████████████████| 1.5 MB 7.7 MB/s eta 0:00:01\n",
      "\u001b[?25hRequirement already satisfied: tqdm in /opt/conda/lib/python3.8/site-packages (from nltk) (4.62.3)\n",
      "Collecting regex>=2021.8.3\n",
      "  Downloading regex-2022.10.31-cp38-cp38-manylinux_2_17_x86_64.manylinux2014_x86_64.whl (772 kB)\n",
      "\u001b[K     |████████████████████████████████| 772 kB 126.6 MB/s eta 0:00:01\n",
      "\u001b[?25hRequirement already satisfied: click in /home/ubuntu/.local/lib/python3.8/site-packages (from nltk) (8.0.4)\n",
      "Requirement already satisfied: joblib in /opt/conda/lib/python3.8/site-packages (from nltk) (1.1.0)\n",
      "Installing collected packages: regex, nltk\n",
      "Successfully installed nltk-3.8.1 regex-2022.10.31\n",
      "Collecting tensorflow\n",
      "  Downloading tensorflow-2.11.0-cp38-cp38-manylinux_2_17_x86_64.manylinux2014_x86_64.whl (588.3 MB)\n",
      "\u001b[K     |████████████████████████████████| 588.3 MB 15 kB/s /s eta 0:00:01\n",
      "\u001b[?25hCollecting keras<2.12,>=2.11.0\n",
      "  Downloading keras-2.11.0-py2.py3-none-any.whl (1.7 MB)\n",
      "\u001b[K     |████████████████████████████████| 1.7 MB 117.6 MB/s eta 0:00:01\n",
      "\u001b[?25hCollecting libclang>=13.0.0\n",
      "  Downloading libclang-15.0.6.1-py2.py3-none-manylinux2010_x86_64.whl (21.5 MB)\n",
      "\u001b[K     |████████████████████████████████| 21.5 MB 135.5 MB/s eta 0:00:01\n",
      "\u001b[?25hCollecting grpcio<2.0,>=1.24.3\n",
      "  Downloading grpcio-1.51.3-cp38-cp38-manylinux_2_17_x86_64.manylinux2014_x86_64.whl (4.8 MB)\n",
      "\u001b[K     |████████████████████████████████| 4.8 MB 128.5 MB/s eta 0:00:01\n",
      "\u001b[?25hRequirement already satisfied: numpy>=1.20 in /opt/conda/lib/python3.8/site-packages (from tensorflow) (1.21.5)\n",
      "Collecting google-pasta>=0.1.1\n",
      "  Downloading google_pasta-0.2.0-py3-none-any.whl (57 kB)\n",
      "\u001b[K     |████████████████████████████████| 57 kB 13.7 MB/s  eta 0:00:01\n",
      "\u001b[?25hCollecting h5py>=2.9.0\n",
      "  Downloading h5py-3.8.0-cp38-cp38-manylinux_2_17_x86_64.manylinux2014_x86_64.whl (4.7 MB)\n",
      "\u001b[K     |████████████████████████████████| 4.7 MB 129.5 MB/s eta 0:00:01\n",
      "\u001b[?25hCollecting protobuf<3.20,>=3.9.2\n",
      "  Downloading protobuf-3.19.6-cp38-cp38-manylinux_2_17_x86_64.manylinux2014_x86_64.whl (1.1 MB)\n",
      "\u001b[K     |████████████████████████████████| 1.1 MB 119.6 MB/s eta 0:00:01\n",
      "\u001b[?25hCollecting wrapt>=1.11.0\n",
      "  Downloading wrapt-1.15.0-cp38-cp38-manylinux_2_5_x86_64.manylinux1_x86_64.manylinux_2_17_x86_64.manylinux2014_x86_64.whl (81 kB)\n",
      "\u001b[K     |████████████████████████████████| 81 kB 27.8 MB/s  eta 0:00:01\n",
      "\u001b[?25hRequirement already satisfied: setuptools in /opt/conda/lib/python3.8/site-packages (from tensorflow) (60.9.3)\n",
      "Requirement already satisfied: typing-extensions>=3.6.6 in /opt/conda/lib/python3.8/site-packages (from tensorflow) (4.1.1)\n",
      "Collecting astunparse>=1.6.0\n",
      "  Downloading astunparse-1.6.3-py2.py3-none-any.whl (12 kB)\n",
      "Collecting absl-py>=1.0.0\n",
      "  Downloading absl_py-1.4.0-py3-none-any.whl (126 kB)\n",
      "\u001b[K     |████████████████████████████████| 126 kB 138.5 MB/s eta 0:00:01\n",
      "\u001b[?25hCollecting gast<=0.4.0,>=0.2.1\n",
      "  Downloading gast-0.4.0-py3-none-any.whl (9.8 kB)\n",
      "Collecting flatbuffers>=2.0\n",
      "  Downloading flatbuffers-23.1.21-py2.py3-none-any.whl (26 kB)\n",
      "Collecting opt-einsum>=2.3.2\n",
      "  Downloading opt_einsum-3.3.0-py3-none-any.whl (65 kB)\n",
      "\u001b[K     |████████████████████████████████| 65 kB 10.4 MB/s  eta 0:00:01\n",
      "\u001b[?25hRequirement already satisfied: packaging in /opt/conda/lib/python3.8/site-packages (from tensorflow) (21.3)\n",
      "Collecting tensorflow-estimator<2.12,>=2.11.0\n",
      "  Downloading tensorflow_estimator-2.11.0-py2.py3-none-any.whl (439 kB)\n",
      "\u001b[K     |████████████████████████████████| 439 kB 142.4 MB/s eta 0:00:01\n",
      "\u001b[?25hCollecting tensorboard<2.12,>=2.11\n",
      "  Downloading tensorboard-2.11.2-py3-none-any.whl (6.0 MB)\n",
      "\u001b[K     |████████████████████████████████| 6.0 MB 136.2 MB/s eta 0:00:01                        | 542 kB 136.2 MB/s eta 0:00:01\n",
      "\u001b[?25hRequirement already satisfied: six>=1.12.0 in /opt/conda/lib/python3.8/site-packages (from tensorflow) (1.16.0)\n",
      "Collecting tensorflow-io-gcs-filesystem>=0.23.1\n",
      "  Downloading tensorflow_io_gcs_filesystem-0.31.0-cp38-cp38-manylinux_2_12_x86_64.manylinux2010_x86_64.whl (2.4 MB)\n",
      "\u001b[K     |████████████████████████████████| 2.4 MB 111.0 MB/s eta 0:00:01\n",
      "\u001b[?25hCollecting termcolor>=1.1.0\n",
      "  Downloading termcolor-2.2.0-py3-none-any.whl (6.6 kB)\n",
      "Requirement already satisfied: wheel<1.0,>=0.23.0 in /opt/conda/lib/python3.8/site-packages (from astunparse>=1.6.0->tensorflow) (0.37.1)\n",
      "Collecting markdown>=2.6.8\n",
      "  Downloading Markdown-3.4.1-py3-none-any.whl (93 kB)\n",
      "\u001b[K     |████████████████████████████████| 93 kB 3.7 MB/s s eta 0:00:01\n",
      "\u001b[?25hRequirement already satisfied: requests<3,>=2.21.0 in /opt/conda/lib/python3.8/site-packages (from tensorboard<2.12,>=2.11->tensorflow) (2.26.0)\n",
      "Collecting google-auth<3,>=1.6.3\n",
      "  Downloading google_auth-2.16.1-py2.py3-none-any.whl (177 kB)\n",
      "\u001b[K     |████████████████████████████████| 177 kB 134.7 MB/s eta 0:00:01\n",
      "\u001b[?25hCollecting tensorboard-plugin-wit>=1.6.0\n",
      "  Downloading tensorboard_plugin_wit-1.8.1-py3-none-any.whl (781 kB)\n",
      "\u001b[K     |████████████████████████████████| 781 kB 119.2 MB/s eta 0:00:01\n",
      "\u001b[?25hCollecting google-auth-oauthlib<0.5,>=0.4.1\n",
      "  Downloading google_auth_oauthlib-0.4.6-py2.py3-none-any.whl (18 kB)\n",
      "Collecting tensorboard-data-server<0.7.0,>=0.6.0\n",
      "  Downloading tensorboard_data_server-0.6.1-py3-none-manylinux2010_x86_64.whl (4.9 MB)\n",
      "\u001b[K     |████████████████████████████████| 4.9 MB 136.6 MB/s eta 0:00:01\n",
      "\u001b[?25hRequirement already satisfied: werkzeug>=1.0.1 in /opt/conda/lib/python3.8/site-packages (from tensorboard<2.12,>=2.11->tensorflow) (2.0.3)\n",
      "Requirement already satisfied: pyasn1-modules>=0.2.1 in /opt/conda/lib/python3.8/site-packages (from google-auth<3,>=1.6.3->tensorboard<2.12,>=2.11->tensorflow) (0.2.8)\n",
      "Collecting rsa<5,>=3.1.4\n",
      "  Downloading rsa-4.9-py3-none-any.whl (34 kB)\n",
      "Collecting cachetools<6.0,>=2.0.0\n",
      "  Downloading cachetools-5.3.0-py3-none-any.whl (9.3 kB)\n",
      "Requirement already satisfied: requests-oauthlib>=0.7.0 in /opt/conda/lib/python3.8/site-packages (from google-auth-oauthlib<0.5,>=0.4.1->tensorboard<2.12,>=2.11->tensorflow) (1.3.0)\n",
      "Requirement already satisfied: importlib-metadata>=4.4 in /opt/conda/lib/python3.8/site-packages (from markdown>=2.6.8->tensorboard<2.12,>=2.11->tensorflow) (4.11.1)\n",
      "Requirement already satisfied: zipp>=0.5 in /home/ubuntu/.local/lib/python3.8/site-packages (from importlib-metadata>=4.4->markdown>=2.6.8->tensorboard<2.12,>=2.11->tensorflow) (3.7.0)\n",
      "Requirement already satisfied: pyasn1<0.5.0,>=0.4.6 in /opt/conda/lib/python3.8/site-packages (from pyasn1-modules>=0.2.1->google-auth<3,>=1.6.3->tensorboard<2.12,>=2.11->tensorflow) (0.4.8)\n",
      "Requirement already satisfied: idna<4,>=2.5 in /opt/conda/lib/python3.8/site-packages (from requests<3,>=2.21.0->tensorboard<2.12,>=2.11->tensorflow) (3.2)\n",
      "Requirement already satisfied: charset-normalizer~=2.0.0 in /opt/conda/lib/python3.8/site-packages (from requests<3,>=2.21.0->tensorboard<2.12,>=2.11->tensorflow) (2.0.4)\n",
      "Requirement already satisfied: certifi>=2017.4.17 in /opt/conda/lib/python3.8/site-packages (from requests<3,>=2.21.0->tensorboard<2.12,>=2.11->tensorflow) (2021.10.8)\n",
      "Requirement already satisfied: urllib3<1.27,>=1.21.1 in /opt/conda/lib/python3.8/site-packages (from requests<3,>=2.21.0->tensorboard<2.12,>=2.11->tensorflow) (1.26.6)\n",
      "Requirement already satisfied: oauthlib>=3.0.0 in /opt/conda/lib/python3.8/site-packages (from requests-oauthlib>=0.7.0->google-auth-oauthlib<0.5,>=0.4.1->tensorboard<2.12,>=2.11->tensorflow) (3.1.1)\n",
      "Requirement already satisfied: pyparsing!=3.0.5,>=2.0.2 in /opt/conda/lib/python3.8/site-packages (from packaging->tensorflow) (3.0.7)\n",
      "Installing collected packages: rsa, cachetools, google-auth, tensorboard-plugin-wit, tensorboard-data-server, protobuf, markdown, grpcio, google-auth-oauthlib, absl-py, wrapt, termcolor, tensorflow-io-gcs-filesystem, tensorflow-estimator, tensorboard, opt-einsum, libclang, keras, h5py, google-pasta, gast, flatbuffers, astunparse, tensorflow\n",
      "Successfully installed absl-py-1.4.0 astunparse-1.6.3 cachetools-5.3.0 flatbuffers-23.1.21 gast-0.4.0 google-auth-2.16.1 google-auth-oauthlib-0.4.6 google-pasta-0.2.0 grpcio-1.51.3 h5py-3.8.0 keras-2.11.0 libclang-15.0.6.1 markdown-3.4.1 opt-einsum-3.3.0 protobuf-3.19.6 rsa-4.9 tensorboard-2.11.2 tensorboard-data-server-0.6.1 tensorboard-plugin-wit-1.8.1 tensorflow-2.11.0 tensorflow-estimator-2.11.0 tensorflow-io-gcs-filesystem-0.31.0 termcolor-2.2.0 wrapt-1.15.0\n"
     ]
    },
    {
     "name": "stderr",
     "output_type": "stream",
     "text": [
      "2023-02-27 17:47:34.407003: I tensorflow/core/platform/cpu_feature_guard.cc:193] This TensorFlow binary is optimized with oneAPI Deep Neural Network Library (oneDNN) to use the following CPU instructions in performance-critical operations:  AVX2 AVX512F FMA\n",
      "To enable them in other operations, rebuild TensorFlow with the appropriate compiler flags.\n",
      "2023-02-27 17:47:34.523142: W tensorflow/compiler/xla/stream_executor/platform/default/dso_loader.cc:64] Could not load dynamic library 'libcudart.so.11.0'; dlerror: libcudart.so.11.0: cannot open shared object file: No such file or directory; LD_LIBRARY_PATH: /opt/oracle/instantclient_12_1:/usr/lib/jvm/java-11-openjdk-amd64/jre/lib/amd64/server:\n",
      "2023-02-27 17:47:34.523175: I tensorflow/compiler/xla/stream_executor/cuda/cudart_stub.cc:29] Ignore above cudart dlerror if you do not have a GPU set up on your machine.\n",
      "2023-02-27 17:47:35.124492: W tensorflow/compiler/xla/stream_executor/platform/default/dso_loader.cc:64] Could not load dynamic library 'libnvinfer.so.7'; dlerror: libnvinfer.so.7: cannot open shared object file: No such file or directory; LD_LIBRARY_PATH: /opt/oracle/instantclient_12_1:/usr/lib/jvm/java-11-openjdk-amd64/jre/lib/amd64/server:\n",
      "2023-02-27 17:47:35.124785: W tensorflow/compiler/xla/stream_executor/platform/default/dso_loader.cc:64] Could not load dynamic library 'libnvinfer_plugin.so.7'; dlerror: libnvinfer_plugin.so.7: cannot open shared object file: No such file or directory; LD_LIBRARY_PATH: /opt/oracle/instantclient_12_1:/usr/lib/jvm/java-11-openjdk-amd64/jre/lib/amd64/server:\n",
      "2023-02-27 17:47:35.124826: W tensorflow/compiler/tf2tensorrt/utils/py_utils.cc:38] TF-TRT Warning: Cannot dlopen some TensorRT libraries. If you would like to use Nvidia GPU with TensorRT, please make sure the missing libraries mentioned above are installed properly.\n"
     ]
    }
   ],
   "source": [
    "!pip install altair\n",
    "!pip install altair\n",
    "!pip install nltk\n",
    "!pip install tensorflow\n",
    "\n",
    "import numpy as np\n",
    "import pandas as pd\n",
    "import altair as alt\n",
    "from tqdm import tqdm\n",
    "import time\n",
    "import re\n",
    "from scipy.sparse import hstack\n",
    "\n",
    "import nltk\n",
    "from nltk.corpus import stopwords, wordnet\n",
    "from nltk import pos_tag\n",
    "from nltk.stem import WordNetLemmatizer\n",
    "\n",
    "from sklearn.compose import ColumnTransformer\n",
    "from sklearn.preprocessing import RobustScaler, MinMaxScaler, StandardScaler\n",
    "from sklearn.feature_extraction.text import CountVectorizer, TfidfVectorizer\n",
    "from sklearn.model_selection import train_test_split, GridSearchCV, cross_validate, KFold\n",
    "from sklearn.naive_bayes import BernoulliNB, MultinomialNB\n",
    "from sklearn.linear_model import LogisticRegression\n",
    "from sklearn.ensemble import RandomForestClassifier, GradientBoostingClassifier\n",
    "\n",
    "import tensorflow as tf\n",
    "import keras\n",
    "from keras import layers\n",
    "from keras.layers import TextVectorization"
   ]
  },
  {
   "cell_type": "code",
   "execution_count": 2,
   "id": "guilty-decrease",
   "metadata": {
    "colab": {
     "base_uri": "https://localhost:8080/"
    },
    "id": "guilty-decrease",
    "outputId": "38e43ca5-dcca-4fa8-c54e-9401301e45ff",
    "tags": []
   },
   "outputs": [
    {
     "name": "stderr",
     "output_type": "stream",
     "text": [
      "[nltk_data] Downloading package punkt to /home/ubuntu/nltk_data...\n",
      "[nltk_data]   Unzipping tokenizers/punkt.zip.\n",
      "[nltk_data] Downloading package omw-1.4 to /home/ubuntu/nltk_data...\n",
      "[nltk_data] Downloading package stopwords to /home/ubuntu/nltk_data...\n",
      "[nltk_data]   Unzipping corpora/stopwords.zip.\n",
      "[nltk_data] Downloading package wordnet to /home/ubuntu/nltk_data...\n",
      "[nltk_data] Downloading package averaged_perceptron_tagger to\n",
      "[nltk_data]     /home/ubuntu/nltk_data...\n",
      "[nltk_data]   Unzipping taggers/averaged_perceptron_tagger.zip.\n"
     ]
    },
    {
     "data": {
      "text/plain": [
       "True"
      ]
     },
     "execution_count": 2,
     "metadata": {},
     "output_type": "execute_result"
    }
   ],
   "source": [
    "nltk.download('punkt')\n",
    "nltk.download('omw-1.4')\n",
    "nltk.download('stopwords')\n",
    "nltk.download('wordnet')\n",
    "nltk.download('averaged_perceptron_tagger')"
   ]
  },
  {
   "cell_type": "markdown",
   "id": "H-WZn89uTQv1",
   "metadata": {
    "id": "H-WZn89uTQv1"
   },
   "source": [
    "# Data Preparation"
   ]
  },
  {
   "cell_type": "markdown",
   "id": "afbc9095-563c-4c2c-b592-9c94925b4e6f",
   "metadata": {},
   "source": [
    "# Binary/ Count/ TFIDF Vectorization"
   ]
  },
  {
   "cell_type": "markdown",
   "id": "DHiIfoBDTV7U",
   "metadata": {
    "id": "DHiIfoBDTV7U",
    "tags": []
   },
   "source": [
    "## 1) Import New Dataset"
   ]
  },
  {
   "cell_type": "code",
   "execution_count": 3,
   "id": "8j5eWS6dIfbC",
   "metadata": {
    "id": "8j5eWS6dIfbC"
   },
   "outputs": [],
   "source": [
    "# Load data from CSV file\n",
    "new_data = pd.read_csv('../results/new_text_data.csv')\n",
    "\n",
    "# Drop all rows that contain Null Entries in 'lemma_text' column\n",
    "new_data = new_data.dropna(subset=['lemma_text'])"
   ]
  },
  {
   "cell_type": "markdown",
   "id": "Ese2wtG4TEaw",
   "metadata": {
    "id": "Ese2wtG4TEaw"
   },
   "source": [
    "## 2) Binary/Count/TFIDF Vectorization"
   ]
  },
  {
   "cell_type": "code",
   "execution_count": 4,
   "id": "HO2WOG5iI54K",
   "metadata": {
    "id": "HO2WOG5iI54K"
   },
   "outputs": [],
   "source": [
    "# Function to identify all columns that are not 'label' in a DataFrame\n",
    "def determine_X_feat(df):\n",
    "    all_features = df.columns.to_list()\n",
    "    X_feat = []\n",
    "    for feat in all_features:\n",
    "        if feat != 'label':\n",
    "            X_feat.append(feat)\n",
    "    return X_feat"
   ]
  },
  {
   "cell_type": "code",
   "execution_count": 5,
   "id": "iD4W24J0IakD",
   "metadata": {
    "id": "iD4W24J0IakD"
   },
   "outputs": [],
   "source": [
    "def scikit_column_transformer(text_df = new_data, text_type = 'original_text', vector_type = 'Count',\n",
    "                              scaler='Robust', ngrams_value=1, max_features_value=None, sequence_length=500, \n",
    "                              test_size=0.2, random_state=21):\n",
    "  \n",
    "    # Reduce the input dataframe to only include either the original_text or lemma_text columns\n",
    "    if text_type == 'original_text':\n",
    "        final_text_df = text_df.drop(columns=['lemma_text'])\n",
    "        final_text_df = final_text_df.rename(columns={'original_text': 'text'})\n",
    "        \n",
    "    elif text_type == 'lemma_text':\n",
    "        final_text_df = text_df.drop(columns=['original_text'])\n",
    "        final_text_df = final_text_df.rename(columns={'lemma_text': 'text'})\n",
    "        \n",
    "    else:\n",
    "        return 'Incorrect input for text_type argument'\n",
    "\n",
    "\n",
    "    # Perform the Train-Test Split Based on Input Data\n",
    "    X_feat = determine_X_feat(final_text_df)\n",
    "    X_train, X_test, y_train, y_test = train_test_split(final_text_df[X_feat], final_text_df['label'],\n",
    "                                                      test_size=test_size, random_state=random_state)\n",
    "\n",
    "\n",
    "    # Select Vectors for text data and POS data\n",
    "    if vector_type == 'Count':\n",
    "        text_vector = CountVectorizer(ngram_range=(1, ngrams_value),max_features=max_features_value)\n",
    "        pos_vector = CountVectorizer(ngram_range=(1, ngrams_value), preprocessor=None,\n",
    "                                     token_pattern=r'[^\\s]+', lowercase=False)\n",
    "    elif vector_type == 'Tfidf':\n",
    "        text_vector = TfidfVectorizer(ngram_range=(1, ngrams_value), max_features=max_features_value)\n",
    "        pos_vector = TfidfVectorizer(ngram_range=(1, ngrams_value),\n",
    "                                     token_pattern=r'[^\\s]+', lowercase=False)\n",
    "    elif vector_type == 'Binary':\n",
    "        text_vector = CountVectorizer(binary=True, ngram_range=(1, ngrams_value),max_features=max_features_value)\n",
    "        pos_vector = CountVectorizer(binary=True, ngram_range=(1, ngrams_value), preprocessor=None,\n",
    "                                     token_pattern=r'[^\\s]+', lowercase=False)\n",
    "    elif vector_type == 'Indice':\n",
    "        text_vector = TextVectorization(output_mode=\"int\", max_tokens=max_features_value,\n",
    "                                   output_sequence_length=sequence_length, ngrams=(1, ngrams_value))\n",
    "    else:\n",
    "        return 'Incorrect input for vector_type argument'\n",
    "\n",
    "\n",
    "    # Select the desired scaler based on input string\n",
    "    dict_of_scalers = {'Robust': RobustScaler(), 'MinMax': MinMaxScaler(),\n",
    "                       'Standard': StandardScaler(), 'drop': 'drop'}\n",
    "    \n",
    "    try:\n",
    "        selected_feature_scaler = dict_of_scalers[scaler]\n",
    "    except:\n",
    "        return 'Incorrect input for scaler argument - must be either Count, MinMax, Standard or drop'\n",
    "\n",
    "\n",
    "    # Use Scikit-Learn Column Transformer to vectorize the text data and the POS data,\n",
    "    # and transform the additional features by selected scaler\n",
    "    if vector_type != 'Indice':\n",
    "        column_trans = ColumnTransformer([('vector_text', text_vector, 'text'), \n",
    "                                        ('vector_pos_tags', pos_vector, 'pos_tag_tokens')], \n",
    "                                      remainder = selected_feature_scaler)\n",
    "\n",
    "        # Perform Fit_Transform on X_train and transform on X_test  \n",
    "        X_train_matrix = column_trans.fit_transform(X_train)\n",
    "        X_test_matrix = column_trans.transform(X_test)\n",
    "\n",
    "    else:\n",
    "        column_trans = None\n",
    "\n",
    "        # Perform Fit_Transform on X_train and transform on X_test\n",
    "        text_vector.adapt(X_train['text'])\n",
    "        X_train_matrix = text_vector(X_train['text'])\n",
    "        X_test_matrix = text_vector(X_test['text'])\n",
    "\n",
    "    return column_trans, X_train_matrix, y_train, X_test_matrix, y_test"
   ]
  },
  {
   "cell_type": "code",
   "execution_count": 6,
   "id": "BPkraC_GIokv",
   "metadata": {
    "id": "BPkraC_GIokv"
   },
   "outputs": [],
   "source": [
    "# Generate Vectorized and Scaled DataFrames for Supervised Learning\n",
    "tfidf_trans, X_train_tfidf, y_train_tfidf, X_test_tfidf, y_test_tfidf =\\\n",
    "    scikit_column_transformer(text_df=new_data, text_type='lemma_text',max_features_value=40000,\n",
    "                              vector_type='Tfidf', scaler='Robust')\n",
    "\n",
    "binary_trans, X_train_bin, y_train_bin, X_test_bin, y_test_bin =\\\n",
    "    scikit_column_transformer(text_df=new_data, text_type='lemma_text', max_features_value=40000,\n",
    "                              vector_type='Binary', scaler='Robust')\n",
    "\n",
    "count_trans, X_train_count, y_train_count, X_test_count, y_test_count =\\\n",
    "    scikit_column_transformer(text_df=new_data, text_type='lemma_text', max_features_value=40000,\n",
    "                              vector_type='Count', scaler='MinMax')"
   ]
  },
  {
   "cell_type": "markdown",
   "id": "728844e1-4b8d-4e00-a190-217c8fed58a1",
   "metadata": {},
   "source": [
    "# Indice Vectorization"
   ]
  },
  {
   "cell_type": "markdown",
   "id": "a1e3750e-5aa9-4c35-8fd4-ec27f6587a67",
   "metadata": {},
   "source": [
    "## 1) Import original dataset"
   ]
  },
  {
   "cell_type": "code",
   "execution_count": 7,
   "id": "1ba436b5-5373-4414-b4d3-4e030dfc4506",
   "metadata": {},
   "outputs": [],
   "source": [
    "old_data_1 = pd.read_csv('https://raw.githubusercontent.com/nruloff/Difficulty_Classification_of_Textual_Passages/main/Data/WikiLarge_Train_part_1.csv')\n",
    "old_data_2 = pd.read_csv('https://raw.githubusercontent.com/nruloff/Difficulty_Classification_of_Textual_Passages/main/Data/WikiLarge_Train_part_2.csv')\n",
    "old_data_3 = pd.read_csv('https://raw.githubusercontent.com/nruloff/Difficulty_Classification_of_Textual_Passages/main/Data/WikiLarge_Train_part_3.csv')\n",
    "old_data = pd.concat([old_data_1, old_data_2, old_data_3], ignore_index=True)\n",
    "\n",
    "X_train, X_test, y_train_indice, y_test_indice = \\\n",
    "    train_test_split(old_data['original_text'], old_data['label'], test_size=0.2, random_state=21)"
   ]
  },
  {
   "cell_type": "markdown",
   "id": "804aab09-6c35-4948-be31-5bb99affd2ea",
   "metadata": {},
   "source": [
    "## 2) Indice Vectorization"
   ]
  },
  {
   "cell_type": "code",
   "execution_count": 8,
   "id": "c08dce30-a584-4d09-b16c-20b7b96be882",
   "metadata": {},
   "outputs": [],
   "source": [
    "# refer https://towardsdatascience.com/predicting-the-difficulty-of-texts-using-machine-learning-and-getting-a-visual-representation-of-75f5a96b92e5\n",
    "\n",
    "def preprocessing(text_series):\n",
    "    text_list = []\n",
    "    lemmatizer = WordNetLemmatizer()\n",
    "    \n",
    "    for text in tqdm(text_series.values):\n",
    "        text = re.sub('[^a-zA-Z]|LRB|RRB', ' ', text)\n",
    "        text = text.lower()\n",
    "        text = nltk.word_tokenize(text)\n",
    "        #text = [word for word in text if not word in set(stopwords.words(\"english\"))]\n",
    "        text = [lemmatizer.lemmatize(word) for word in text]\n",
    "        text = \" \".join(text)\n",
    "        \n",
    "        text_list.append(text)\n",
    "    \n",
    "    return text_list"
   ]
  },
  {
   "cell_type": "code",
   "execution_count": 9,
   "id": "ae52b87c-bbff-4620-a492-7f9d41c95da1",
   "metadata": {},
   "outputs": [],
   "source": [
    "def indVec(trainText_series, testText_series, ngrams=1, max_features=40000, sequence_length=500):\n",
    "    trainTextPreprocessed = preprocessing(trainText_series)\n",
    "    testTextPreprocessed = preprocessing(testText_series)\n",
    "    \n",
    "    vector = TextVectorization(output_mode=\"int\", max_tokens=max_features,\n",
    "                               output_sequence_length=sequence_length, ngrams=(1, ngrams))\n",
    "    vector.adapt(trainTextPreprocessed)\n",
    "    trainText_matrix = vector(trainTextPreprocessed)\n",
    "    testText_matrix = vector(testTextPreprocessed)\n",
    "    \n",
    "    return (trainText_matrix, testText_matrix)"
   ]
  },
  {
   "cell_type": "code",
   "execution_count": 10,
   "id": "0521de92-2def-407a-babb-d45f3d44f03d",
   "metadata": {
    "collapsed": true,
    "jupyter": {
     "outputs_hidden": true
    },
    "tags": []
   },
   "outputs": [
    {
     "name": "stderr",
     "output_type": "stream",
     "text": [
      "100%|██████████| 333414/333414 [00:53<00:00, 6190.30it/s]\n",
      "100%|██████████| 83354/83354 [00:13<00:00, 6364.83it/s]\n",
      "2023-02-27 17:49:25.579633: W tensorflow/compiler/xla/stream_executor/platform/default/dso_loader.cc:64] Could not load dynamic library 'libcuda.so.1'; dlerror: libcuda.so.1: cannot open shared object file: No such file or directory; LD_LIBRARY_PATH: /opt/oracle/instantclient_12_1:/usr/lib/jvm/java-11-openjdk-amd64/jre/lib/amd64/server:\n",
      "2023-02-27 17:49:25.579677: W tensorflow/compiler/xla/stream_executor/cuda/cuda_driver.cc:265] failed call to cuInit: UNKNOWN ERROR (303)\n",
      "2023-02-27 17:49:25.579717: I tensorflow/compiler/xla/stream_executor/cuda/cuda_diagnostics.cc:156] kernel driver does not appear to be running on this host (run-63fceaf10fc863061e25bcc6-v9z6f): /proc/driver/nvidia/version does not exist\n",
      "2023-02-27 17:49:25.579999: I tensorflow/core/platform/cpu_feature_guard.cc:193] This TensorFlow binary is optimized with oneAPI Deep Neural Network Library (oneDNN) to use the following CPU instructions in performance-critical operations:  AVX2 AVX512F FMA\n",
      "To enable them in other operations, rebuild TensorFlow with the appropriate compiler flags.\n"
     ]
    }
   ],
   "source": [
    "X_train_indice, X_test_indice = indVec(X_train, X_test)"
   ]
  },
  {
   "cell_type": "markdown",
   "id": "Q2TYaWOf3YUR",
   "metadata": {
    "id": "Q2TYaWOf3YUR"
   },
   "source": [
    "# Supervised Learning"
   ]
  },
  {
   "cell_type": "markdown",
   "id": "personal-spending",
   "metadata": {
    "id": "personal-spending"
   },
   "source": [
    "## 1) Naive Bayes"
   ]
  },
  {
   "cell_type": "markdown",
   "id": "cellular-transformation",
   "metadata": {
    "id": "cellular-transformation"
   },
   "source": [
    "### a) Bernoulli"
   ]
  },
  {
   "cell_type": "code",
   "execution_count": 11,
   "id": "primary-excuse",
   "metadata": {
    "colab": {
     "base_uri": "https://localhost:8080/"
    },
    "id": "primary-excuse",
    "outputId": "b2aea5fe-96e7-458f-a1d4-bae8dda66a71"
   },
   "outputs": [
    {
     "name": "stderr",
     "output_type": "stream",
     "text": [
      "100%|██████████| 4/4 [00:01<00:00,  2.18it/s]"
     ]
    },
    {
     "name": "stdout",
     "output_type": "stream",
     "text": [
      "\n",
      "\n",
      "total run time: 0.030609321594238282 mins\n"
     ]
    },
    {
     "name": "stderr",
     "output_type": "stream",
     "text": [
      "\n"
     ]
    }
   ],
   "source": [
    "start_time = time.time()\n",
    "\n",
    "# train Bernoulli model\n",
    "# optimize the hyperparameters\n",
    "res = pd.DataFrame(columns=['alpha', 'trainScore', 'testScore'])\n",
    "\n",
    "for alpha in tqdm([0.01, 0.1, 1, 10]):\n",
    "    clf = BernoulliNB(alpha=alpha)\n",
    "        \n",
    "    clf.fit(X_train_bin, y_train_bin)\n",
    "    trainScore = clf.score(X_train_bin, y_train_bin)\n",
    "    testScore = clf.score(X_test_bin, y_test_bin)\n",
    "\n",
    "    res = res.append({'alpha':alpha, 'trainScore':trainScore, 'testScore':testScore},\n",
    "                    ignore_index=True)\n",
    "\n",
    "# get run time\n",
    "end_time = time.time()\n",
    "delta_time = end_time - start_time\n",
    "print('\\n')\n",
    "print(\"total run time: {} mins\".format(delta_time/60))"
   ]
  },
  {
   "cell_type": "code",
   "execution_count": 12,
   "id": "stuck-outside",
   "metadata": {
    "colab": {
     "base_uri": "https://localhost:8080/",
     "height": 178
    },
    "id": "stuck-outside",
    "outputId": "ee4f9c3f-22c5-4e76-f836-120cd16fe236"
   },
   "outputs": [
    {
     "data": {
      "text/html": [
       "\n",
       "<div id=\"altair-viz-5583fc9c3516486aa27ee4561edfe2f9\"></div>\n",
       "<script type=\"text/javascript\">\n",
       "  var VEGA_DEBUG = (typeof VEGA_DEBUG == \"undefined\") ? {} : VEGA_DEBUG;\n",
       "  (function(spec, embedOpt){\n",
       "    let outputDiv = document.currentScript.previousElementSibling;\n",
       "    if (outputDiv.id !== \"altair-viz-5583fc9c3516486aa27ee4561edfe2f9\") {\n",
       "      outputDiv = document.getElementById(\"altair-viz-5583fc9c3516486aa27ee4561edfe2f9\");\n",
       "    }\n",
       "    const paths = {\n",
       "      \"vega\": \"https://cdn.jsdelivr.net/npm//vega@5?noext\",\n",
       "      \"vega-lib\": \"https://cdn.jsdelivr.net/npm//vega-lib?noext\",\n",
       "      \"vega-lite\": \"https://cdn.jsdelivr.net/npm//vega-lite@4.17.0?noext\",\n",
       "      \"vega-embed\": \"https://cdn.jsdelivr.net/npm//vega-embed@6?noext\",\n",
       "    };\n",
       "\n",
       "    function maybeLoadScript(lib, version) {\n",
       "      var key = `${lib.replace(\"-\", \"\")}_version`;\n",
       "      return (VEGA_DEBUG[key] == version) ?\n",
       "        Promise.resolve(paths[lib]) :\n",
       "        new Promise(function(resolve, reject) {\n",
       "          var s = document.createElement('script');\n",
       "          document.getElementsByTagName(\"head\")[0].appendChild(s);\n",
       "          s.async = true;\n",
       "          s.onload = () => {\n",
       "            VEGA_DEBUG[key] = version;\n",
       "            return resolve(paths[lib]);\n",
       "          };\n",
       "          s.onerror = () => reject(`Error loading script: ${paths[lib]}`);\n",
       "          s.src = paths[lib];\n",
       "        });\n",
       "    }\n",
       "\n",
       "    function showError(err) {\n",
       "      outputDiv.innerHTML = `<div class=\"error\" style=\"color:red;\">${err}</div>`;\n",
       "      throw err;\n",
       "    }\n",
       "\n",
       "    function displayChart(vegaEmbed) {\n",
       "      vegaEmbed(outputDiv, spec, embedOpt)\n",
       "        .catch(err => showError(`Javascript Error: ${err.message}<br>This usually means there's a typo in your chart specification. See the javascript console for the full traceback.`));\n",
       "    }\n",
       "\n",
       "    if(typeof define === \"function\" && define.amd) {\n",
       "      requirejs.config({paths});\n",
       "      require([\"vega-embed\"], displayChart, err => showError(`Error loading script: ${err.message}`));\n",
       "    } else {\n",
       "      maybeLoadScript(\"vega\", \"5\")\n",
       "        .then(() => maybeLoadScript(\"vega-lite\", \"4.17.0\"))\n",
       "        .then(() => maybeLoadScript(\"vega-embed\", \"6\"))\n",
       "        .catch(showError)\n",
       "        .then(() => displayChart(vegaEmbed));\n",
       "    }\n",
       "  })({\"config\": {\"view\": {\"continuousWidth\": 400, \"continuousHeight\": 300}}, \"data\": {\"name\": \"data-7dbd86c7024751fc01ff590d3bc56f77\"}, \"mark\": \"line\", \"encoding\": {\"color\": {\"field\": \"group\", \"type\": \"nominal\"}, \"tooltip\": {\"field\": \"score\", \"type\": \"quantitative\"}, \"x\": {\"field\": \"alpha\", \"type\": \"nominal\"}, \"y\": {\"field\": \"score\", \"scale\": {\"domain\": [0.5, 1]}, \"type\": \"quantitative\"}}, \"height\": 100, \"width\": 100, \"$schema\": \"https://vega.github.io/schema/vega-lite/v4.17.0.json\", \"datasets\": {\"data-7dbd86c7024751fc01ff590d3bc56f77\": [{\"alpha\": 0.01, \"group\": \"trainScore\", \"score\": 0.6470581857607517}, {\"alpha\": 0.1, \"group\": \"trainScore\", \"score\": 0.6464329598843512}, {\"alpha\": 1.0, \"group\": \"trainScore\", \"score\": 0.6442175641488977}, {\"alpha\": 10.0, \"group\": \"trainScore\", \"score\": 0.640057824358511}, {\"alpha\": 0.01, \"group\": \"testScore\", \"score\": 0.6351138417058185}, {\"alpha\": 0.1, \"group\": \"testScore\", \"score\": 0.635446331767257}, {\"alpha\": 1.0, \"group\": \"testScore\", \"score\": 0.6360245753523672}, {\"alpha\": 10.0, \"group\": \"testScore\", \"score\": 0.6370654138055656}]}}, {\"mode\": \"vega-lite\"});\n",
       "</script>"
      ],
      "text/plain": [
       "alt.Chart(...)"
      ]
     },
     "execution_count": 12,
     "metadata": {},
     "output_type": "execute_result"
    }
   ],
   "source": [
    "# plot the hyperparameters search result\n",
    "\n",
    "resLong = res.melt(id_vars=['alpha'], value_vars=['trainScore', 'testScore'],\n",
    "         var_name='group', value_name='score')\n",
    "\n",
    "Lineplot = alt.Chart(resLong).mark_line().encode(\n",
    "    x = 'alpha:N',\n",
    "    y = alt.Y('score', scale=alt.Scale(domain=[0.5,1])),\n",
    "    color = 'group',\n",
    "    tooltip = 'score'\n",
    ").properties(width=100, height=100)\n",
    "\n",
    "Lineplot"
   ]
  },
  {
   "cell_type": "code",
   "execution_count": 13,
   "id": "biRNyT_2ZJt7",
   "metadata": {
    "id": "biRNyT_2ZJt7"
   },
   "outputs": [],
   "source": [
    "# generate report result\n",
    "ber = BernoulliNB(alpha=1)\n",
    "ber_re = cross_validate(clf, X_train_bin, y_train_bin, cv=5, scoring=['accuracy', 'recall'])"
   ]
  },
  {
   "cell_type": "code",
   "execution_count": 14,
   "id": "EhKygHHRZVrt",
   "metadata": {
    "colab": {
     "base_uri": "https://localhost:8080/",
     "height": 300
    },
    "id": "EhKygHHRZVrt",
    "outputId": "8df425f2-8024-4a1f-9a3f-b20677d502c1"
   },
   "outputs": [
    {
     "data": {
      "text/html": [
       "<div>\n",
       "<style scoped>\n",
       "    .dataframe tbody tr th:only-of-type {\n",
       "        vertical-align: middle;\n",
       "    }\n",
       "\n",
       "    .dataframe tbody tr th {\n",
       "        vertical-align: top;\n",
       "    }\n",
       "\n",
       "    .dataframe thead th {\n",
       "        text-align: right;\n",
       "    }\n",
       "</style>\n",
       "<table border=\"1\" class=\"dataframe\">\n",
       "  <thead>\n",
       "    <tr style=\"text-align: right;\">\n",
       "      <th></th>\n",
       "      <th>fit_time</th>\n",
       "      <th>score_time</th>\n",
       "      <th>test_accuracy</th>\n",
       "      <th>test_recall</th>\n",
       "    </tr>\n",
       "  </thead>\n",
       "  <tbody>\n",
       "    <tr>\n",
       "      <th>count</th>\n",
       "      <td>5.000000</td>\n",
       "      <td>5.000000</td>\n",
       "      <td>5.000000</td>\n",
       "      <td>5.000000</td>\n",
       "    </tr>\n",
       "    <tr>\n",
       "      <th>mean</th>\n",
       "      <td>0.201058</td>\n",
       "      <td>0.054039</td>\n",
       "      <td>0.634084</td>\n",
       "      <td>0.605773</td>\n",
       "    </tr>\n",
       "    <tr>\n",
       "      <th>std</th>\n",
       "      <td>0.000936</td>\n",
       "      <td>0.001264</td>\n",
       "      <td>0.002080</td>\n",
       "      <td>0.002484</td>\n",
       "    </tr>\n",
       "    <tr>\n",
       "      <th>min</th>\n",
       "      <td>0.199986</td>\n",
       "      <td>0.053243</td>\n",
       "      <td>0.630864</td>\n",
       "      <td>0.602244</td>\n",
       "    </tr>\n",
       "    <tr>\n",
       "      <th>25%</th>\n",
       "      <td>0.200522</td>\n",
       "      <td>0.053445</td>\n",
       "      <td>0.633086</td>\n",
       "      <td>0.604090</td>\n",
       "    </tr>\n",
       "    <tr>\n",
       "      <th>50%</th>\n",
       "      <td>0.200917</td>\n",
       "      <td>0.053516</td>\n",
       "      <td>0.635381</td>\n",
       "      <td>0.607080</td>\n",
       "    </tr>\n",
       "    <tr>\n",
       "      <th>75%</th>\n",
       "      <td>0.201421</td>\n",
       "      <td>0.053713</td>\n",
       "      <td>0.635508</td>\n",
       "      <td>0.607564</td>\n",
       "    </tr>\n",
       "    <tr>\n",
       "      <th>max</th>\n",
       "      <td>0.202443</td>\n",
       "      <td>0.056280</td>\n",
       "      <td>0.635580</td>\n",
       "      <td>0.607890</td>\n",
       "    </tr>\n",
       "  </tbody>\n",
       "</table>\n",
       "</div>"
      ],
      "text/plain": [
       "       fit_time  score_time  test_accuracy  test_recall\n",
       "count  5.000000    5.000000       5.000000     5.000000\n",
       "mean   0.201058    0.054039       0.634084     0.605773\n",
       "std    0.000936    0.001264       0.002080     0.002484\n",
       "min    0.199986    0.053243       0.630864     0.602244\n",
       "25%    0.200522    0.053445       0.633086     0.604090\n",
       "50%    0.200917    0.053516       0.635381     0.607080\n",
       "75%    0.201421    0.053713       0.635508     0.607564\n",
       "max    0.202443    0.056280       0.635580     0.607890"
      ]
     },
     "execution_count": 14,
     "metadata": {},
     "output_type": "execute_result"
    }
   ],
   "source": [
    "pd.DataFrame(ber_re).describe()"
   ]
  },
  {
   "cell_type": "markdown",
   "id": "polish-encoding",
   "metadata": {
    "id": "polish-encoding"
   },
   "source": [
    "### b) Multinominal"
   ]
  },
  {
   "cell_type": "code",
   "execution_count": 15,
   "id": "rubber-treatment",
   "metadata": {
    "colab": {
     "base_uri": "https://localhost:8080/"
    },
    "id": "rubber-treatment",
    "outputId": "56a3db0f-850b-410a-ff66-d11a305b9206"
   },
   "outputs": [
    {
     "name": "stderr",
     "output_type": "stream",
     "text": [
      "100%|██████████| 4/4 [00:00<00:00,  5.94it/s]"
     ]
    },
    {
     "name": "stdout",
     "output_type": "stream",
     "text": [
      "\n",
      "\n",
      "total run time: 0.011260414123535156 mins\n"
     ]
    },
    {
     "name": "stderr",
     "output_type": "stream",
     "text": [
      "\n"
     ]
    }
   ],
   "source": [
    "start_time = time.time()\n",
    "\n",
    "# train Multinominal model\n",
    "res = pd.DataFrame(columns=['alpha', 'trainScore', 'testScore'])\n",
    "\n",
    "for alpha in tqdm([0.1, 1, 10, 100]):\n",
    "    clf = MultinomialNB(alpha=alpha)\n",
    "\n",
    "    clf.fit(X_train_count, y_train_count)\n",
    "    trainScore = clf.score(X_train_count, y_train_count)\n",
    "    testScore = clf.score(X_test_count, y_test_count)\n",
    "\n",
    "    res = res.append({'alpha':alpha, 'trainScore':trainScore, 'testScore':testScore},\n",
    "                    ignore_index=True)\n",
    "\n",
    "# get run time\n",
    "end_time = time.time()\n",
    "delta_time = end_time - start_time\n",
    "print('\\n')\n",
    "print(\"total run time: {} mins\".format(delta_time/60))"
   ]
  },
  {
   "cell_type": "code",
   "execution_count": 16,
   "id": "acute-courtesy",
   "metadata": {
    "colab": {
     "base_uri": "https://localhost:8080/",
     "height": 175
    },
    "id": "acute-courtesy",
    "outputId": "921c011b-3667-491f-838c-0b7020680389"
   },
   "outputs": [
    {
     "data": {
      "text/html": [
       "\n",
       "<div id=\"altair-viz-128abf3e11524e4c9e2afa4919e286af\"></div>\n",
       "<script type=\"text/javascript\">\n",
       "  var VEGA_DEBUG = (typeof VEGA_DEBUG == \"undefined\") ? {} : VEGA_DEBUG;\n",
       "  (function(spec, embedOpt){\n",
       "    let outputDiv = document.currentScript.previousElementSibling;\n",
       "    if (outputDiv.id !== \"altair-viz-128abf3e11524e4c9e2afa4919e286af\") {\n",
       "      outputDiv = document.getElementById(\"altair-viz-128abf3e11524e4c9e2afa4919e286af\");\n",
       "    }\n",
       "    const paths = {\n",
       "      \"vega\": \"https://cdn.jsdelivr.net/npm//vega@5?noext\",\n",
       "      \"vega-lib\": \"https://cdn.jsdelivr.net/npm//vega-lib?noext\",\n",
       "      \"vega-lite\": \"https://cdn.jsdelivr.net/npm//vega-lite@4.17.0?noext\",\n",
       "      \"vega-embed\": \"https://cdn.jsdelivr.net/npm//vega-embed@6?noext\",\n",
       "    };\n",
       "\n",
       "    function maybeLoadScript(lib, version) {\n",
       "      var key = `${lib.replace(\"-\", \"\")}_version`;\n",
       "      return (VEGA_DEBUG[key] == version) ?\n",
       "        Promise.resolve(paths[lib]) :\n",
       "        new Promise(function(resolve, reject) {\n",
       "          var s = document.createElement('script');\n",
       "          document.getElementsByTagName(\"head\")[0].appendChild(s);\n",
       "          s.async = true;\n",
       "          s.onload = () => {\n",
       "            VEGA_DEBUG[key] = version;\n",
       "            return resolve(paths[lib]);\n",
       "          };\n",
       "          s.onerror = () => reject(`Error loading script: ${paths[lib]}`);\n",
       "          s.src = paths[lib];\n",
       "        });\n",
       "    }\n",
       "\n",
       "    function showError(err) {\n",
       "      outputDiv.innerHTML = `<div class=\"error\" style=\"color:red;\">${err}</div>`;\n",
       "      throw err;\n",
       "    }\n",
       "\n",
       "    function displayChart(vegaEmbed) {\n",
       "      vegaEmbed(outputDiv, spec, embedOpt)\n",
       "        .catch(err => showError(`Javascript Error: ${err.message}<br>This usually means there's a typo in your chart specification. See the javascript console for the full traceback.`));\n",
       "    }\n",
       "\n",
       "    if(typeof define === \"function\" && define.amd) {\n",
       "      requirejs.config({paths});\n",
       "      require([\"vega-embed\"], displayChart, err => showError(`Error loading script: ${err.message}`));\n",
       "    } else {\n",
       "      maybeLoadScript(\"vega\", \"5\")\n",
       "        .then(() => maybeLoadScript(\"vega-lite\", \"4.17.0\"))\n",
       "        .then(() => maybeLoadScript(\"vega-embed\", \"6\"))\n",
       "        .catch(showError)\n",
       "        .then(() => displayChart(vegaEmbed));\n",
       "    }\n",
       "  })({\"config\": {\"view\": {\"continuousWidth\": 400, \"continuousHeight\": 300}}, \"data\": {\"name\": \"data-2e33b04ef34e5ee25f946f2800a28a04\"}, \"mark\": \"line\", \"encoding\": {\"color\": {\"field\": \"group\", \"type\": \"nominal\"}, \"tooltip\": {\"field\": \"score\", \"type\": \"quantitative\"}, \"x\": {\"field\": \"alpha\", \"type\": \"nominal\"}, \"y\": {\"field\": \"score\", \"scale\": {\"domain\": [0.5, 1]}, \"type\": \"quantitative\"}}, \"height\": 100, \"width\": 100, \"$schema\": \"https://vega.github.io/schema/vega-lite/v4.17.0.json\", \"datasets\": {\"data-2e33b04ef34e5ee25f946f2800a28a04\": [{\"alpha\": 0.1, \"group\": \"trainScore\", \"score\": 0.7005854716299241}, {\"alpha\": 1.0, \"group\": \"trainScore\", \"score\": 0.6992518973617636}, {\"alpha\": 10.0, \"group\": \"trainScore\", \"score\": 0.6916443801951572}, {\"alpha\": 100.0, \"group\": \"trainScore\", \"score\": 0.547040115648717}, {\"alpha\": 0.1, \"group\": \"testScore\", \"score\": 0.6417491868449584}, {\"alpha\": 1.0, \"group\": \"testScore\", \"score\": 0.6459703650162631}, {\"alpha\": 10.0, \"group\": \"testScore\", \"score\": 0.6616985905312613}, {\"alpha\": 100.0, \"group\": \"testScore\", \"score\": 0.5409613299602457}]}}, {\"mode\": \"vega-lite\"});\n",
       "</script>"
      ],
      "text/plain": [
       "alt.Chart(...)"
      ]
     },
     "execution_count": 16,
     "metadata": {},
     "output_type": "execute_result"
    }
   ],
   "source": [
    "resLong = res.melt(id_vars=['alpha'], value_vars=['trainScore', 'testScore'],\n",
    "         var_name='group', value_name='score')\n",
    "\n",
    "Lineplot = alt.Chart(resLong).mark_line().encode(\n",
    "    x = 'alpha:N',\n",
    "    y = alt.Y('score', scale=alt.Scale(domain=[0.5,1])),\n",
    "    color = 'group',\n",
    "    tooltip = 'score'\n",
    ").properties(width=100, height=100)\n",
    "\n",
    "Lineplot"
   ]
  },
  {
   "cell_type": "code",
   "execution_count": 17,
   "id": "j8ujDEV7b85d",
   "metadata": {
    "id": "j8ujDEV7b85d"
   },
   "outputs": [],
   "source": [
    "# generate report result\n",
    "mul = MultinomialNB(alpha=10)\n",
    "mul_re = cross_validate(mul, X_train_count, y_train_count, cv=5, scoring=['accuracy', 'recall'])"
   ]
  },
  {
   "cell_type": "code",
   "execution_count": 18,
   "id": "-XYn3ZTZcO-k",
   "metadata": {
    "colab": {
     "base_uri": "https://localhost:8080/",
     "height": 300
    },
    "id": "-XYn3ZTZcO-k",
    "outputId": "bac8981d-c4cf-46ba-af91-1a9929ff19ce"
   },
   "outputs": [
    {
     "data": {
      "text/html": [
       "<div>\n",
       "<style scoped>\n",
       "    .dataframe tbody tr th:only-of-type {\n",
       "        vertical-align: middle;\n",
       "    }\n",
       "\n",
       "    .dataframe tbody tr th {\n",
       "        vertical-align: top;\n",
       "    }\n",
       "\n",
       "    .dataframe thead th {\n",
       "        text-align: right;\n",
       "    }\n",
       "</style>\n",
       "<table border=\"1\" class=\"dataframe\">\n",
       "  <thead>\n",
       "    <tr style=\"text-align: right;\">\n",
       "      <th></th>\n",
       "      <th>fit_time</th>\n",
       "      <th>score_time</th>\n",
       "      <th>test_accuracy</th>\n",
       "      <th>test_recall</th>\n",
       "    </tr>\n",
       "  </thead>\n",
       "  <tbody>\n",
       "    <tr>\n",
       "      <th>count</th>\n",
       "      <td>5.000000</td>\n",
       "      <td>5.000000</td>\n",
       "      <td>5.000000</td>\n",
       "      <td>5.000000</td>\n",
       "    </tr>\n",
       "    <tr>\n",
       "      <th>mean</th>\n",
       "      <td>0.100820</td>\n",
       "      <td>0.029361</td>\n",
       "      <td>0.656147</td>\n",
       "      <td>0.696581</td>\n",
       "    </tr>\n",
       "    <tr>\n",
       "      <th>std</th>\n",
       "      <td>0.000360</td>\n",
       "      <td>0.000263</td>\n",
       "      <td>0.002467</td>\n",
       "      <td>0.002180</td>\n",
       "    </tr>\n",
       "    <tr>\n",
       "      <th>min</th>\n",
       "      <td>0.100377</td>\n",
       "      <td>0.029025</td>\n",
       "      <td>0.652891</td>\n",
       "      <td>0.694282</td>\n",
       "    </tr>\n",
       "    <tr>\n",
       "      <th>25%</th>\n",
       "      <td>0.100632</td>\n",
       "      <td>0.029227</td>\n",
       "      <td>0.655240</td>\n",
       "      <td>0.695765</td>\n",
       "    </tr>\n",
       "    <tr>\n",
       "      <th>50%</th>\n",
       "      <td>0.100737</td>\n",
       "      <td>0.029300</td>\n",
       "      <td>0.655764</td>\n",
       "      <td>0.696164</td>\n",
       "    </tr>\n",
       "    <tr>\n",
       "      <th>75%</th>\n",
       "      <td>0.101062</td>\n",
       "      <td>0.029610</td>\n",
       "      <td>0.657318</td>\n",
       "      <td>0.696526</td>\n",
       "    </tr>\n",
       "    <tr>\n",
       "      <th>max</th>\n",
       "      <td>0.101292</td>\n",
       "      <td>0.029646</td>\n",
       "      <td>0.659523</td>\n",
       "      <td>0.700170</td>\n",
       "    </tr>\n",
       "  </tbody>\n",
       "</table>\n",
       "</div>"
      ],
      "text/plain": [
       "       fit_time  score_time  test_accuracy  test_recall\n",
       "count  5.000000    5.000000       5.000000     5.000000\n",
       "mean   0.100820    0.029361       0.656147     0.696581\n",
       "std    0.000360    0.000263       0.002467     0.002180\n",
       "min    0.100377    0.029025       0.652891     0.694282\n",
       "25%    0.100632    0.029227       0.655240     0.695765\n",
       "50%    0.100737    0.029300       0.655764     0.696164\n",
       "75%    0.101062    0.029610       0.657318     0.696526\n",
       "max    0.101292    0.029646       0.659523     0.700170"
      ]
     },
     "execution_count": 18,
     "metadata": {},
     "output_type": "execute_result"
    }
   ],
   "source": [
    "pd.DataFrame(mul_re).describe()"
   ]
  },
  {
   "cell_type": "markdown",
   "id": "compliant-festival",
   "metadata": {
    "id": "compliant-festival"
   },
   "source": [
    "## 2) Logistic Regression"
   ]
  },
  {
   "cell_type": "code",
   "execution_count": 19,
   "id": "taken-watson",
   "metadata": {
    "colab": {
     "base_uri": "https://localhost:8080/"
    },
    "id": "taken-watson",
    "outputId": "8855191c-2be5-4d96-e94d-e5914032a274"
   },
   "outputs": [
    {
     "name": "stderr",
     "output_type": "stream",
     "text": [
      "100%|██████████| 4/4 [02:36<00:00, 39.19s/it]"
     ]
    },
    {
     "name": "stdout",
     "output_type": "stream",
     "text": [
      "\n",
      "\n",
      "total run time: 2.6129480679829915 mins\n"
     ]
    },
    {
     "name": "stderr",
     "output_type": "stream",
     "text": [
      "\n"
     ]
    }
   ],
   "source": [
    "start_time = time.time()\n",
    "\n",
    "# train logistic regression model\n",
    "res = pd.DataFrame(columns=['C', 'trainScore', 'testScore'])\n",
    "\n",
    "for C in tqdm([0.01, 0.1, 1, 10]):\n",
    "    clf = LogisticRegression(C=C, solver='lbfgs', n_jobs=-1,\n",
    "                              random_state=0, max_iter=1000)\n",
    "    \n",
    "    clf.fit(X_train_tfidf, y_train_tfidf)\n",
    "    trainScore = clf.score(X_train_tfidf, y_train_tfidf)\n",
    "    testScore = clf.score(X_test_tfidf, y_test_tfidf)\n",
    "\n",
    "    res = res.append({'C':C, 'trainScore':trainScore, 'testScore':testScore},\n",
    "                ignore_index=True)\n",
    "\n",
    "# get run time\n",
    "end_time = time.time()\n",
    "delta_time = end_time - start_time\n",
    "print('\\n')\n",
    "print(\"total run time: {} mins\".format(delta_time/60))"
   ]
  },
  {
   "cell_type": "code",
   "execution_count": 20,
   "id": "approximate-negotiation",
   "metadata": {
    "colab": {
     "base_uri": "https://localhost:8080/",
     "height": 178
    },
    "id": "approximate-negotiation",
    "outputId": "fe469dfc-0ab7-4340-a773-229ea28341aa"
   },
   "outputs": [
    {
     "data": {
      "text/html": [
       "\n",
       "<div id=\"altair-viz-26c2ac27ec054002854078f7167f15cb\"></div>\n",
       "<script type=\"text/javascript\">\n",
       "  var VEGA_DEBUG = (typeof VEGA_DEBUG == \"undefined\") ? {} : VEGA_DEBUG;\n",
       "  (function(spec, embedOpt){\n",
       "    let outputDiv = document.currentScript.previousElementSibling;\n",
       "    if (outputDiv.id !== \"altair-viz-26c2ac27ec054002854078f7167f15cb\") {\n",
       "      outputDiv = document.getElementById(\"altair-viz-26c2ac27ec054002854078f7167f15cb\");\n",
       "    }\n",
       "    const paths = {\n",
       "      \"vega\": \"https://cdn.jsdelivr.net/npm//vega@5?noext\",\n",
       "      \"vega-lib\": \"https://cdn.jsdelivr.net/npm//vega-lib?noext\",\n",
       "      \"vega-lite\": \"https://cdn.jsdelivr.net/npm//vega-lite@4.17.0?noext\",\n",
       "      \"vega-embed\": \"https://cdn.jsdelivr.net/npm//vega-embed@6?noext\",\n",
       "    };\n",
       "\n",
       "    function maybeLoadScript(lib, version) {\n",
       "      var key = `${lib.replace(\"-\", \"\")}_version`;\n",
       "      return (VEGA_DEBUG[key] == version) ?\n",
       "        Promise.resolve(paths[lib]) :\n",
       "        new Promise(function(resolve, reject) {\n",
       "          var s = document.createElement('script');\n",
       "          document.getElementsByTagName(\"head\")[0].appendChild(s);\n",
       "          s.async = true;\n",
       "          s.onload = () => {\n",
       "            VEGA_DEBUG[key] = version;\n",
       "            return resolve(paths[lib]);\n",
       "          };\n",
       "          s.onerror = () => reject(`Error loading script: ${paths[lib]}`);\n",
       "          s.src = paths[lib];\n",
       "        });\n",
       "    }\n",
       "\n",
       "    function showError(err) {\n",
       "      outputDiv.innerHTML = `<div class=\"error\" style=\"color:red;\">${err}</div>`;\n",
       "      throw err;\n",
       "    }\n",
       "\n",
       "    function displayChart(vegaEmbed) {\n",
       "      vegaEmbed(outputDiv, spec, embedOpt)\n",
       "        .catch(err => showError(`Javascript Error: ${err.message}<br>This usually means there's a typo in your chart specification. See the javascript console for the full traceback.`));\n",
       "    }\n",
       "\n",
       "    if(typeof define === \"function\" && define.amd) {\n",
       "      requirejs.config({paths});\n",
       "      require([\"vega-embed\"], displayChart, err => showError(`Error loading script: ${err.message}`));\n",
       "    } else {\n",
       "      maybeLoadScript(\"vega\", \"5\")\n",
       "        .then(() => maybeLoadScript(\"vega-lite\", \"4.17.0\"))\n",
       "        .then(() => maybeLoadScript(\"vega-embed\", \"6\"))\n",
       "        .catch(showError)\n",
       "        .then(() => displayChart(vegaEmbed));\n",
       "    }\n",
       "  })({\"config\": {\"view\": {\"continuousWidth\": 400, \"continuousHeight\": 300}}, \"data\": {\"name\": \"data-cef63ffdb1b6960207ca22d9443beba4\"}, \"mark\": \"line\", \"encoding\": {\"color\": {\"field\": \"group\", \"type\": \"nominal\"}, \"tooltip\": {\"field\": \"score\", \"type\": \"quantitative\"}, \"x\": {\"field\": \"C\", \"type\": \"nominal\"}, \"y\": {\"field\": \"score\", \"scale\": {\"domain\": [0.5, 1]}, \"type\": \"quantitative\"}}, \"height\": 100, \"width\": 100, \"$schema\": \"https://vega.github.io/schema/vega-lite/v4.17.0.json\", \"datasets\": {\"data-cef63ffdb1b6960207ca22d9443beba4\": [{\"C\": 0.01, \"group\": \"trainScore\", \"score\": 0.668579689194073}, {\"C\": 0.1, \"group\": \"trainScore\", \"score\": 0.7002168413444163}, {\"C\": 1.0, \"group\": \"trainScore\", \"score\": 0.7286049873509216}, {\"C\": 10.0, \"group\": \"trainScore\", \"score\": 0.7468991687748464}, {\"C\": 0.01, \"group\": \"testScore\", \"score\": 0.6683628478496567}, {\"C\": 0.1, \"group\": \"testScore\", \"score\": 0.6892085290928803}, {\"C\": 1.0, \"group\": \"testScore\", \"score\": 0.6860426454644019}, {\"C\": 10.0, \"group\": \"testScore\", \"score\": 0.6663534513913987}]}}, {\"mode\": \"vega-lite\"});\n",
       "</script>"
      ],
      "text/plain": [
       "alt.Chart(...)"
      ]
     },
     "execution_count": 20,
     "metadata": {},
     "output_type": "execute_result"
    }
   ],
   "source": [
    "resLong = res.melt(id_vars=['C'], value_vars=['trainScore', 'testScore'],\n",
    "         var_name='group', value_name='score')\n",
    "\n",
    "Lineplot = alt.Chart(resLong).mark_line().encode(\n",
    "    x = 'C:N',\n",
    "    y = alt.Y('score', scale=alt.Scale(domain=[0.5,1])),\n",
    "    color = 'group',\n",
    "    tooltip = 'score'\n",
    ").properties(width=100, height=100)\n",
    "\n",
    "Lineplot"
   ]
  },
  {
   "cell_type": "code",
   "execution_count": 21,
   "id": "0AgyD-BHdspG",
   "metadata": {
    "id": "0AgyD-BHdspG"
   },
   "outputs": [],
   "source": [
    "# generate report result\n",
    "logRe = LogisticRegression(C=0.1, solver='lbfgs', max_iter=1500)\n",
    "logRe_re = cross_validate(logRe, X_train_tfidf, y_train_tfidf, cv=5, scoring=['accuracy', 'recall'])"
   ]
  },
  {
   "cell_type": "code",
   "execution_count": 22,
   "id": "rDuinVU_dw_2",
   "metadata": {
    "id": "rDuinVU_dw_2"
   },
   "outputs": [
    {
     "data": {
      "text/html": [
       "<div>\n",
       "<style scoped>\n",
       "    .dataframe tbody tr th:only-of-type {\n",
       "        vertical-align: middle;\n",
       "    }\n",
       "\n",
       "    .dataframe tbody tr th {\n",
       "        vertical-align: top;\n",
       "    }\n",
       "\n",
       "    .dataframe thead th {\n",
       "        text-align: right;\n",
       "    }\n",
       "</style>\n",
       "<table border=\"1\" class=\"dataframe\">\n",
       "  <thead>\n",
       "    <tr style=\"text-align: right;\">\n",
       "      <th></th>\n",
       "      <th>fit_time</th>\n",
       "      <th>score_time</th>\n",
       "      <th>test_accuracy</th>\n",
       "      <th>test_recall</th>\n",
       "    </tr>\n",
       "  </thead>\n",
       "  <tbody>\n",
       "    <tr>\n",
       "      <th>count</th>\n",
       "      <td>5.000000</td>\n",
       "      <td>5.000000</td>\n",
       "      <td>5.000000</td>\n",
       "      <td>5.000000</td>\n",
       "    </tr>\n",
       "    <tr>\n",
       "      <th>mean</th>\n",
       "      <td>29.887921</td>\n",
       "      <td>0.038750</td>\n",
       "      <td>0.685963</td>\n",
       "      <td>0.688496</td>\n",
       "    </tr>\n",
       "    <tr>\n",
       "      <th>std</th>\n",
       "      <td>2.443775</td>\n",
       "      <td>0.003256</td>\n",
       "      <td>0.002444</td>\n",
       "      <td>0.004504</td>\n",
       "    </tr>\n",
       "    <tr>\n",
       "      <th>min</th>\n",
       "      <td>25.727132</td>\n",
       "      <td>0.036759</td>\n",
       "      <td>0.682364</td>\n",
       "      <td>0.680890</td>\n",
       "    </tr>\n",
       "    <tr>\n",
       "      <th>25%</th>\n",
       "      <td>29.876733</td>\n",
       "      <td>0.036906</td>\n",
       "      <td>0.684930</td>\n",
       "      <td>0.688237</td>\n",
       "    </tr>\n",
       "    <tr>\n",
       "      <th>50%</th>\n",
       "      <td>30.917706</td>\n",
       "      <td>0.037333</td>\n",
       "      <td>0.686357</td>\n",
       "      <td>0.690156</td>\n",
       "    </tr>\n",
       "    <tr>\n",
       "      <th>75%</th>\n",
       "      <td>30.921098</td>\n",
       "      <td>0.038276</td>\n",
       "      <td>0.687477</td>\n",
       "      <td>0.690807</td>\n",
       "    </tr>\n",
       "    <tr>\n",
       "      <th>max</th>\n",
       "      <td>31.996933</td>\n",
       "      <td>0.044478</td>\n",
       "      <td>0.688688</td>\n",
       "      <td>0.692388</td>\n",
       "    </tr>\n",
       "  </tbody>\n",
       "</table>\n",
       "</div>"
      ],
      "text/plain": [
       "        fit_time  score_time  test_accuracy  test_recall\n",
       "count   5.000000    5.000000       5.000000     5.000000\n",
       "mean   29.887921    0.038750       0.685963     0.688496\n",
       "std     2.443775    0.003256       0.002444     0.004504\n",
       "min    25.727132    0.036759       0.682364     0.680890\n",
       "25%    29.876733    0.036906       0.684930     0.688237\n",
       "50%    30.917706    0.037333       0.686357     0.690156\n",
       "75%    30.921098    0.038276       0.687477     0.690807\n",
       "max    31.996933    0.044478       0.688688     0.692388"
      ]
     },
     "execution_count": 22,
     "metadata": {},
     "output_type": "execute_result"
    }
   ],
   "source": [
    "pd.DataFrame(logRe_re).describe()"
   ]
  },
  {
   "cell_type": "markdown",
   "id": "latter-estonia",
   "metadata": {
    "id": "latter-estonia"
   },
   "source": [
    "## 3) Ensembles"
   ]
  },
  {
   "cell_type": "markdown",
   "id": "stupid-crowd",
   "metadata": {
    "id": "stupid-crowd"
   },
   "source": [
    "### a) Random Forest"
   ]
  },
  {
   "cell_type": "code",
   "execution_count": 23,
   "id": "eleven-halloween",
   "metadata": {
    "colab": {
     "base_uri": "https://localhost:8080/"
    },
    "id": "eleven-halloween",
    "outputId": "74eb12ac-aef9-4382-8066-4214d850f462"
   },
   "outputs": [
    {
     "name": "stderr",
     "output_type": "stream",
     "text": [
      "  0%|          | 0/3 [00:00<?, ?it/s]\n",
      "  0%|          | 0/4 [00:00<?, ?it/s]\u001b[A\n",
      " 25%|██▌       | 1/4 [00:00<00:01,  1.93it/s]\u001b[A\n",
      " 50%|█████     | 2/4 [00:05<00:06,  3.06s/it]\u001b[A\n",
      " 75%|███████▌  | 3/4 [00:21<00:08,  8.95s/it]\u001b[A\n",
      "100%|██████████| 4/4 [00:46<00:00, 11.53s/it]\u001b[A\n",
      " 33%|███▎      | 1/3 [00:46<01:32, 46.13s/it]\n",
      "  0%|          | 0/4 [00:00<?, ?it/s]\u001b[A\n",
      " 25%|██▌       | 1/4 [00:01<00:03,  1.27s/it]\u001b[A\n",
      " 50%|█████     | 2/4 [00:26<00:31, 15.51s/it]\u001b[A/opt/conda/lib/python3.8/site-packages/sklearn/linear_model/_logistic.py:814: ConvergenceWarning: lbfgs failed to converge (status=1):\n",
      "STOP: TOTAL NO. of ITERATIONS REACHED LIMIT.\n",
      "\n",
      "Increase the number of iterations (max_iter) or scale the data as shown in:\n",
      "    https://scikit-learn.org/stable/modules/preprocessing.html\n",
      "Please also refer to the documentation for alternative solver options:\n",
      "    https://scikit-learn.org/stable/modules/linear_model.html#logistic-regression\n",
      "  n_iter_i = _check_optimize_result(\n",
      "/opt/conda/lib/python3.8/site-packages/sklearn/linear_model/_logistic.py:814: ConvergenceWarning: lbfgs failed to converge (status=1):\n",
      "STOP: TOTAL NO. of ITERATIONS REACHED LIMIT.\n",
      "\n",
      "Increase the number of iterations (max_iter) or scale the data as shown in:\n",
      "    https://scikit-learn.org/stable/modules/preprocessing.html\n",
      "Please also refer to the documentation for alternative solver options:\n",
      "    https://scikit-learn.org/stable/modules/linear_model.html#logistic-regression\n",
      "  n_iter_i = _check_optimize_result(\n",
      "\n",
      " 75%|███████▌  | 3/4 [01:57<00:49, 49.79s/it]\u001b[A\n",
      "100%|██████████| 4/4 [04:31<00:00, 67.92s/it]\u001b[A\n",
      " 67%|██████▋   | 2/3 [05:17<02:58, 178.81s/it]\n",
      "  0%|          | 0/4 [00:00<?, ?it/s]\u001b[A\n",
      " 25%|██▌       | 1/4 [00:02<00:06,  2.10s/it]\u001b[A\n",
      " 50%|█████     | 2/4 [00:51<00:59, 29.67s/it]\u001b[A\n",
      " 75%|███████▌  | 3/4 [03:49<01:37, 97.66s/it]\u001b[A\n",
      "100%|██████████| 4/4 [08:52<00:00, 133.06s/it]\u001b[A\n",
      "100%|██████████| 3/3 [14:10<00:00, 283.35s/it]"
     ]
    },
    {
     "name": "stdout",
     "output_type": "stream",
     "text": [
      "\n",
      "\n",
      "total run time: 14.16754190524419 mins\n"
     ]
    },
    {
     "name": "stderr",
     "output_type": "stream",
     "text": [
      "\n"
     ]
    }
   ],
   "source": [
    "start_time = time.time()\n",
    "\n",
    "# train random forest model\n",
    "res = pd.DataFrame(columns=['n_estimators', 'max_depth', 'trainScore', 'testScore'])\n",
    "\n",
    "\n",
    "for n_estimators in tqdm([10, 100, 200]):\n",
    "    for max_depth in tqdm([5, 50, 100, 250]):\n",
    "        clf = RandomForestClassifier(n_estimators=n_estimators, max_depth=max_depth,\n",
    "                                     n_jobs=-1, random_state=0)\n",
    "        \n",
    "        clf.fit(X_train_tfidf, y_train_tfidf)\n",
    "        trainScore = clf.score(X_train_tfidf, y_train_tfidf)\n",
    "        testScore = clf.score(X_test_tfidf, y_test_tfidf)\n",
    "\n",
    "        res = res.append({'n_estimators':n_estimators, 'max_depth':max_depth,\n",
    "                          'trainScore':trainScore, 'testScore':testScore},\n",
    "                          ignore_index=True)\n",
    "\n",
    "# get run time\n",
    "end_time = time.time()\n",
    "delta_time = end_time - start_time\n",
    "print('\\n')\n",
    "print(\"total run time: {} mins\".format(delta_time/60))"
   ]
  },
  {
   "cell_type": "code",
   "execution_count": 25,
   "id": "digital-fabric",
   "metadata": {
    "colab": {
     "base_uri": "https://localhost:8080/",
     "height": 407
    },
    "id": "digital-fabric",
    "outputId": "663a1d7f-3bc9-42b9-b546-0a3d23670d7f"
   },
   "outputs": [
    {
     "data": {
      "text/html": [
       "\n",
       "<div id=\"altair-viz-8dd3938c98eb43bb94f02dd1b5188279\"></div>\n",
       "<script type=\"text/javascript\">\n",
       "  var VEGA_DEBUG = (typeof VEGA_DEBUG == \"undefined\") ? {} : VEGA_DEBUG;\n",
       "  (function(spec, embedOpt){\n",
       "    let outputDiv = document.currentScript.previousElementSibling;\n",
       "    if (outputDiv.id !== \"altair-viz-8dd3938c98eb43bb94f02dd1b5188279\") {\n",
       "      outputDiv = document.getElementById(\"altair-viz-8dd3938c98eb43bb94f02dd1b5188279\");\n",
       "    }\n",
       "    const paths = {\n",
       "      \"vega\": \"https://cdn.jsdelivr.net/npm//vega@5?noext\",\n",
       "      \"vega-lib\": \"https://cdn.jsdelivr.net/npm//vega-lib?noext\",\n",
       "      \"vega-lite\": \"https://cdn.jsdelivr.net/npm//vega-lite@4.17.0?noext\",\n",
       "      \"vega-embed\": \"https://cdn.jsdelivr.net/npm//vega-embed@6?noext\",\n",
       "    };\n",
       "\n",
       "    function maybeLoadScript(lib, version) {\n",
       "      var key = `${lib.replace(\"-\", \"\")}_version`;\n",
       "      return (VEGA_DEBUG[key] == version) ?\n",
       "        Promise.resolve(paths[lib]) :\n",
       "        new Promise(function(resolve, reject) {\n",
       "          var s = document.createElement('script');\n",
       "          document.getElementsByTagName(\"head\")[0].appendChild(s);\n",
       "          s.async = true;\n",
       "          s.onload = () => {\n",
       "            VEGA_DEBUG[key] = version;\n",
       "            return resolve(paths[lib]);\n",
       "          };\n",
       "          s.onerror = () => reject(`Error loading script: ${paths[lib]}`);\n",
       "          s.src = paths[lib];\n",
       "        });\n",
       "    }\n",
       "\n",
       "    function showError(err) {\n",
       "      outputDiv.innerHTML = `<div class=\"error\" style=\"color:red;\">${err}</div>`;\n",
       "      throw err;\n",
       "    }\n",
       "\n",
       "    function displayChart(vegaEmbed) {\n",
       "      vegaEmbed(outputDiv, spec, embedOpt)\n",
       "        .catch(err => showError(`Javascript Error: ${err.message}<br>This usually means there's a typo in your chart specification. See the javascript console for the full traceback.`));\n",
       "    }\n",
       "\n",
       "    if(typeof define === \"function\" && define.amd) {\n",
       "      requirejs.config({paths});\n",
       "      require([\"vega-embed\"], displayChart, err => showError(`Error loading script: ${err.message}`));\n",
       "    } else {\n",
       "      maybeLoadScript(\"vega\", \"5\")\n",
       "        .then(() => maybeLoadScript(\"vega-lite\", \"4.17.0\"))\n",
       "        .then(() => maybeLoadScript(\"vega-embed\", \"6\"))\n",
       "        .catch(showError)\n",
       "        .then(() => displayChart(vegaEmbed));\n",
       "    }\n",
       "  })({\"config\": {\"view\": {\"continuousWidth\": 400, \"continuousHeight\": 300}}, \"hconcat\": [{\"data\": {\"name\": \"data-16da325631eec3d2cd92a8ef171da2d0\"}, \"mark\": {\"type\": \"rect\", \"stroke\": \"white\"}, \"encoding\": {\"color\": {\"field\": \"testScore\", \"type\": \"quantitative\"}, \"tooltip\": {\"field\": \"testScore\", \"type\": \"quantitative\"}, \"x\": {\"field\": \"n_estimators\", \"type\": \"nominal\"}, \"y\": {\"field\": \"max_depth\", \"type\": \"nominal\"}}, \"height\": 100, \"width\": 100}, {\"data\": {\"name\": \"data-447ea0a1ccff82bca5f14c8fbba544ed\"}, \"mark\": \"line\", \"encoding\": {\"color\": {\"field\": \"group\", \"type\": \"nominal\"}, \"column\": {\"field\": \"max_depth\", \"type\": \"quantitative\"}, \"x\": {\"field\": \"n_estimators\", \"type\": \"nominal\"}, \"y\": {\"field\": \"score\", \"scale\": {\"domain\": [0.5, 1]}, \"type\": \"quantitative\"}}, \"height\": 100, \"width\": 100}], \"$schema\": \"https://vega.github.io/schema/vega-lite/v4.17.0.json\", \"datasets\": {\"data-16da325631eec3d2cd92a8ef171da2d0\": [{\"n_estimators\": 10.0, \"max_depth\": 5.0, \"trainScore\": 0.6232959884351283, \"testScore\": 0.6232743043006866}, {\"n_estimators\": 10.0, \"max_depth\": 50.0, \"trainScore\": 0.7766967835200578, \"testScore\": 0.6600216841344416}, {\"n_estimators\": 10.0, \"max_depth\": 100.0, \"trainScore\": 0.9229851825081316, \"testScore\": 0.649526563064691}, {\"n_estimators\": 10.0, \"max_depth\": 250.0, \"trainScore\": 0.9815540296349837, \"testScore\": 0.6341886519696422}, {\"n_estimators\": 100.0, \"max_depth\": 5.0, \"trainScore\": 0.6494940368630285, \"testScore\": 0.6473292374412721}, {\"n_estimators\": 100.0, \"max_depth\": 50.0, \"trainScore\": 0.7982616552222623, \"testScore\": 0.6738706179978315}, {\"n_estimators\": 100.0, \"max_depth\": 100.0, \"trainScore\": 0.9658944705457174, \"testScore\": 0.6675966750993856}, {\"n_estimators\": 100.0, \"max_depth\": 250.0, \"trainScore\": 0.9973328514636791, \"testScore\": 0.6589519335019877}, {\"n_estimators\": 200.0, \"max_depth\": 5.0, \"trainScore\": 0.6505674015178894, \"testScore\": 0.649049512106975}, {\"n_estimators\": 200.0, \"max_depth\": 50.0, \"trainScore\": 0.7987206360679436, \"testScore\": 0.674969280809541}, {\"n_estimators\": 200.0, \"max_depth\": 100.0, \"trainScore\": 0.9687206360679437, \"testScore\": 0.6678424286230574}, {\"n_estimators\": 200.0, \"max_depth\": 250.0, \"trainScore\": 0.9973581496205276, \"testScore\": 0.6597325623418865}], \"data-447ea0a1ccff82bca5f14c8fbba544ed\": [{\"n_estimators\": 10.0, \"max_depth\": 5.0, \"group\": \"trainScore\", \"score\": 0.6232959884351283}, {\"n_estimators\": 10.0, \"max_depth\": 50.0, \"group\": \"trainScore\", \"score\": 0.7766967835200578}, {\"n_estimators\": 10.0, \"max_depth\": 100.0, \"group\": \"trainScore\", \"score\": 0.9229851825081316}, {\"n_estimators\": 10.0, \"max_depth\": 250.0, \"group\": \"trainScore\", \"score\": 0.9815540296349837}, {\"n_estimators\": 100.0, \"max_depth\": 5.0, \"group\": \"trainScore\", \"score\": 0.6494940368630285}, {\"n_estimators\": 100.0, \"max_depth\": 50.0, \"group\": \"trainScore\", \"score\": 0.7982616552222623}, {\"n_estimators\": 100.0, \"max_depth\": 100.0, \"group\": \"trainScore\", \"score\": 0.9658944705457174}, {\"n_estimators\": 100.0, \"max_depth\": 250.0, \"group\": \"trainScore\", \"score\": 0.9973328514636791}, {\"n_estimators\": 200.0, \"max_depth\": 5.0, \"group\": \"trainScore\", \"score\": 0.6505674015178894}, {\"n_estimators\": 200.0, \"max_depth\": 50.0, \"group\": \"trainScore\", \"score\": 0.7987206360679436}, {\"n_estimators\": 200.0, \"max_depth\": 100.0, \"group\": \"trainScore\", \"score\": 0.9687206360679437}, {\"n_estimators\": 200.0, \"max_depth\": 250.0, \"group\": \"trainScore\", \"score\": 0.9973581496205276}, {\"n_estimators\": 10.0, \"max_depth\": 5.0, \"group\": \"testScore\", \"score\": 0.6232743043006866}, {\"n_estimators\": 10.0, \"max_depth\": 50.0, \"group\": \"testScore\", \"score\": 0.6600216841344416}, {\"n_estimators\": 10.0, \"max_depth\": 100.0, \"group\": \"testScore\", \"score\": 0.649526563064691}, {\"n_estimators\": 10.0, \"max_depth\": 250.0, \"group\": \"testScore\", \"score\": 0.6341886519696422}, {\"n_estimators\": 100.0, \"max_depth\": 5.0, \"group\": \"testScore\", \"score\": 0.6473292374412721}, {\"n_estimators\": 100.0, \"max_depth\": 50.0, \"group\": \"testScore\", \"score\": 0.6738706179978315}, {\"n_estimators\": 100.0, \"max_depth\": 100.0, \"group\": \"testScore\", \"score\": 0.6675966750993856}, {\"n_estimators\": 100.0, \"max_depth\": 250.0, \"group\": \"testScore\", \"score\": 0.6589519335019877}, {\"n_estimators\": 200.0, \"max_depth\": 5.0, \"group\": \"testScore\", \"score\": 0.649049512106975}, {\"n_estimators\": 200.0, \"max_depth\": 50.0, \"group\": \"testScore\", \"score\": 0.674969280809541}, {\"n_estimators\": 200.0, \"max_depth\": 100.0, \"group\": \"testScore\", \"score\": 0.6678424286230574}, {\"n_estimators\": 200.0, \"max_depth\": 250.0, \"group\": \"testScore\", \"score\": 0.6597325623418865}]}}, {\"mode\": \"vega-lite\"});\n",
       "</script>"
      ],
      "text/plain": [
       "alt.HConcatChart(...)"
      ]
     },
     "execution_count": 25,
     "metadata": {},
     "output_type": "execute_result"
    }
   ],
   "source": [
    "Heatmap = alt.Chart(res).mark_rect(stroke='white').encode(\n",
    "    x = 'n_estimators:N',\n",
    "    y = 'max_depth:N',\n",
    "    color = 'testScore',\n",
    "    tooltip = 'testScore'\n",
    ").properties(width=100, height=100)\n",
    "\n",
    "\n",
    "resLong = res.melt(id_vars=['n_estimators', 'max_depth'], value_vars=['trainScore', 'testScore'],\n",
    "         var_name='group', value_name='score')\n",
    "\n",
    "Lineplot = alt.Chart(resLong).mark_line().encode(\n",
    "    x = 'n_estimators:N',\n",
    "    y = alt.Y('score', scale=alt.Scale(domain=[0.5,1])),\n",
    "    color = 'group',\n",
    "    column = 'max_depth'\n",
    ").properties(width=100, height=100)\n",
    "\n",
    "(Heatmap | Lineplot)"
   ]
  },
  {
   "cell_type": "code",
   "execution_count": 26,
   "id": "QpOHAx_TpiAS",
   "metadata": {
    "id": "QpOHAx_TpiAS"
   },
   "outputs": [],
   "source": [
    "# generate report result\n",
    "randFr = RandomForestClassifier(n_estimators=100, max_depth=50,\n",
    "                                     n_jobs=-1, random_state=0)\n",
    "randFr_re = cross_validate(randFr, X_train_tfidf, y_train_tfidf, cv=5, scoring=['accuracy', 'recall'])"
   ]
  },
  {
   "cell_type": "code",
   "execution_count": 27,
   "id": "ifXrZhMY9O_P",
   "metadata": {
    "id": "ifXrZhMY9O_P"
   },
   "outputs": [
    {
     "data": {
      "text/html": [
       "<div>\n",
       "<style scoped>\n",
       "    .dataframe tbody tr th:only-of-type {\n",
       "        vertical-align: middle;\n",
       "    }\n",
       "\n",
       "    .dataframe tbody tr th {\n",
       "        vertical-align: top;\n",
       "    }\n",
       "\n",
       "    .dataframe thead th {\n",
       "        text-align: right;\n",
       "    }\n",
       "</style>\n",
       "<table border=\"1\" class=\"dataframe\">\n",
       "  <thead>\n",
       "    <tr style=\"text-align: right;\">\n",
       "      <th></th>\n",
       "      <th>fit_time</th>\n",
       "      <th>score_time</th>\n",
       "      <th>test_accuracy</th>\n",
       "      <th>test_recall</th>\n",
       "    </tr>\n",
       "  </thead>\n",
       "  <tbody>\n",
       "    <tr>\n",
       "      <th>count</th>\n",
       "      <td>5.000000</td>\n",
       "      <td>5.000000</td>\n",
       "      <td>5.000000</td>\n",
       "      <td>5.000000</td>\n",
       "    </tr>\n",
       "    <tr>\n",
       "      <th>mean</th>\n",
       "      <td>19.031434</td>\n",
       "      <td>0.136392</td>\n",
       "      <td>0.673509</td>\n",
       "      <td>0.712636</td>\n",
       "    </tr>\n",
       "    <tr>\n",
       "      <th>std</th>\n",
       "      <td>1.097752</td>\n",
       "      <td>0.003268</td>\n",
       "      <td>0.002600</td>\n",
       "      <td>0.005767</td>\n",
       "    </tr>\n",
       "    <tr>\n",
       "      <th>min</th>\n",
       "      <td>18.315338</td>\n",
       "      <td>0.133120</td>\n",
       "      <td>0.669443</td>\n",
       "      <td>0.703004</td>\n",
       "    </tr>\n",
       "    <tr>\n",
       "      <th>25%</th>\n",
       "      <td>18.331895</td>\n",
       "      <td>0.133252</td>\n",
       "      <td>0.672588</td>\n",
       "      <td>0.712704</td>\n",
       "    </tr>\n",
       "    <tr>\n",
       "      <th>50%</th>\n",
       "      <td>18.730489</td>\n",
       "      <td>0.137272</td>\n",
       "      <td>0.674286</td>\n",
       "      <td>0.713355</td>\n",
       "    </tr>\n",
       "    <tr>\n",
       "      <th>75%</th>\n",
       "      <td>18.828076</td>\n",
       "      <td>0.137412</td>\n",
       "      <td>0.675298</td>\n",
       "      <td>0.716504</td>\n",
       "    </tr>\n",
       "    <tr>\n",
       "      <th>max</th>\n",
       "      <td>20.951374</td>\n",
       "      <td>0.140903</td>\n",
       "      <td>0.675931</td>\n",
       "      <td>0.717616</td>\n",
       "    </tr>\n",
       "  </tbody>\n",
       "</table>\n",
       "</div>"
      ],
      "text/plain": [
       "        fit_time  score_time  test_accuracy  test_recall\n",
       "count   5.000000    5.000000       5.000000     5.000000\n",
       "mean   19.031434    0.136392       0.673509     0.712636\n",
       "std     1.097752    0.003268       0.002600     0.005767\n",
       "min    18.315338    0.133120       0.669443     0.703004\n",
       "25%    18.331895    0.133252       0.672588     0.712704\n",
       "50%    18.730489    0.137272       0.674286     0.713355\n",
       "75%    18.828076    0.137412       0.675298     0.716504\n",
       "max    20.951374    0.140903       0.675931     0.717616"
      ]
     },
     "execution_count": 27,
     "metadata": {},
     "output_type": "execute_result"
    }
   ],
   "source": [
    "pd.DataFrame(randFr_re).describe()"
   ]
  },
  {
   "cell_type": "markdown",
   "id": "premium-ordinance",
   "metadata": {
    "id": "premium-ordinance"
   },
   "source": [
    "### b) Gradient Boosting"
   ]
  },
  {
   "cell_type": "code",
   "execution_count": 28,
   "id": "growing-particular",
   "metadata": {
    "colab": {
     "base_uri": "https://localhost:8080/",
     "height": 603
    },
    "id": "growing-particular",
    "outputId": "e52ef126-d20c-4d53-851e-58b38372128e"
   },
   "outputs": [
    {
     "name": "stderr",
     "output_type": "stream",
     "text": [
      "  0%|          | 0/3 [00:00<?, ?it/s]\n",
      "  0%|          | 0/4 [00:00<?, ?it/s]\u001b[A\n",
      " 25%|██▌       | 1/4 [00:34<01:43, 34.67s/it]\u001b[A\n",
      " 50%|█████     | 2/4 [01:09<01:09, 34.78s/it]\u001b[A\n",
      " 75%|███████▌  | 3/4 [01:44<00:34, 34.72s/it]\u001b[A\n",
      "100%|██████████| 4/4 [02:18<00:00, 34.74s/it]\u001b[A\n",
      " 33%|███▎      | 1/3 [02:18<04:37, 138.95s/it]\n",
      "  0%|          | 0/4 [00:00<?, ?it/s]\u001b[A\n",
      " 25%|██▌       | 1/4 [05:46<17:18, 346.10s/it]\u001b[A\n",
      " 50%|█████     | 2/4 [11:30<11:30, 345.22s/it]\u001b[A\n",
      " 75%|███████▌  | 3/4 [17:13<05:43, 343.93s/it]\u001b[A\n",
      "100%|██████████| 4/4 [22:57<00:00, 344.50s/it]\u001b[A\n",
      " 67%|██████▋   | 2/3 [25:16<14:27, 867.80s/it]\n",
      "  0%|          | 0/4 [00:00<?, ?it/s]\u001b[A\n",
      " 25%|██▌       | 1/4 [11:33<34:40, 693.50s/it]\u001b[A\n",
      " 50%|█████     | 2/4 [23:00<22:59, 689.82s/it]\u001b[A\n",
      " 75%|███████▌  | 3/4 [34:23<11:26, 686.62s/it]\u001b[A\n",
      "100%|██████████| 4/4 [45:52<00:00, 688.23s/it]\u001b[A\n",
      "100%|██████████| 3/3 [1:11:09<00:00, 1423.29s/it]"
     ]
    },
    {
     "name": "stdout",
     "output_type": "stream",
     "text": [
      "\n",
      "\n",
      "total run time: 71.16457213163376 mins\n"
     ]
    },
    {
     "name": "stderr",
     "output_type": "stream",
     "text": [
      "\n"
     ]
    }
   ],
   "source": [
    "start_time = time.time()\n",
    "\n",
    "# train Gradient Boosting model\n",
    "res = pd.DataFrame(columns=['n_estimators', 'leraning_rate', 'trainScore', 'testScore'])\n",
    "\n",
    "for n_estimators in tqdm([10, 100, 200]):\n",
    "    for learning_rate in tqdm([0.01, 0.1, 1, 10]):\n",
    "        clf = GradientBoostingClassifier(n_estimators=n_estimators, learning_rate=learning_rate,\n",
    "                                     random_state=0)\n",
    "        \n",
    "        clf.fit(X_train_tfidf, y_train_tfidf)\n",
    "        trainScore = clf.score(X_train_tfidf, y_train_tfidf)\n",
    "        testScore = clf.score(X_test_tfidf, y_test_tfidf)\n",
    "\n",
    "        res = res.append({'n_estimators':n_estimators, 'learning_rate':learning_rate,\n",
    "                          'trainScore':trainScore, 'testScore':testScore},\n",
    "                          ignore_index=True)\n",
    "\n",
    "# get run time\n",
    "end_time = time.time()\n",
    "delta_time = end_time - start_time\n",
    "print('\\n')\n",
    "print(\"total run time: {} mins\".format(delta_time/60))"
   ]
  },
  {
   "cell_type": "code",
   "execution_count": 29,
   "id": "tutorial-atmosphere",
   "metadata": {
    "id": "tutorial-atmosphere"
   },
   "outputs": [
    {
     "data": {
      "text/html": [
       "\n",
       "<div id=\"altair-viz-a8d02e10775d471abed99fb7ee91b5a4\"></div>\n",
       "<script type=\"text/javascript\">\n",
       "  var VEGA_DEBUG = (typeof VEGA_DEBUG == \"undefined\") ? {} : VEGA_DEBUG;\n",
       "  (function(spec, embedOpt){\n",
       "    let outputDiv = document.currentScript.previousElementSibling;\n",
       "    if (outputDiv.id !== \"altair-viz-a8d02e10775d471abed99fb7ee91b5a4\") {\n",
       "      outputDiv = document.getElementById(\"altair-viz-a8d02e10775d471abed99fb7ee91b5a4\");\n",
       "    }\n",
       "    const paths = {\n",
       "      \"vega\": \"https://cdn.jsdelivr.net/npm//vega@5?noext\",\n",
       "      \"vega-lib\": \"https://cdn.jsdelivr.net/npm//vega-lib?noext\",\n",
       "      \"vega-lite\": \"https://cdn.jsdelivr.net/npm//vega-lite@4.17.0?noext\",\n",
       "      \"vega-embed\": \"https://cdn.jsdelivr.net/npm//vega-embed@6?noext\",\n",
       "    };\n",
       "\n",
       "    function maybeLoadScript(lib, version) {\n",
       "      var key = `${lib.replace(\"-\", \"\")}_version`;\n",
       "      return (VEGA_DEBUG[key] == version) ?\n",
       "        Promise.resolve(paths[lib]) :\n",
       "        new Promise(function(resolve, reject) {\n",
       "          var s = document.createElement('script');\n",
       "          document.getElementsByTagName(\"head\")[0].appendChild(s);\n",
       "          s.async = true;\n",
       "          s.onload = () => {\n",
       "            VEGA_DEBUG[key] = version;\n",
       "            return resolve(paths[lib]);\n",
       "          };\n",
       "          s.onerror = () => reject(`Error loading script: ${paths[lib]}`);\n",
       "          s.src = paths[lib];\n",
       "        });\n",
       "    }\n",
       "\n",
       "    function showError(err) {\n",
       "      outputDiv.innerHTML = `<div class=\"error\" style=\"color:red;\">${err}</div>`;\n",
       "      throw err;\n",
       "    }\n",
       "\n",
       "    function displayChart(vegaEmbed) {\n",
       "      vegaEmbed(outputDiv, spec, embedOpt)\n",
       "        .catch(err => showError(`Javascript Error: ${err.message}<br>This usually means there's a typo in your chart specification. See the javascript console for the full traceback.`));\n",
       "    }\n",
       "\n",
       "    if(typeof define === \"function\" && define.amd) {\n",
       "      requirejs.config({paths});\n",
       "      require([\"vega-embed\"], displayChart, err => showError(`Error loading script: ${err.message}`));\n",
       "    } else {\n",
       "      maybeLoadScript(\"vega\", \"5\")\n",
       "        .then(() => maybeLoadScript(\"vega-lite\", \"4.17.0\"))\n",
       "        .then(() => maybeLoadScript(\"vega-embed\", \"6\"))\n",
       "        .catch(showError)\n",
       "        .then(() => displayChart(vegaEmbed));\n",
       "    }\n",
       "  })({\"config\": {\"view\": {\"continuousWidth\": 400, \"continuousHeight\": 300}}, \"hconcat\": [{\"data\": {\"name\": \"data-7984b4905bdb7e8d6a3f066b69ad1c7d\"}, \"mark\": {\"type\": \"rect\", \"stroke\": \"white\"}, \"encoding\": {\"color\": {\"field\": \"testScore\", \"type\": \"quantitative\"}, \"tooltip\": {\"field\": \"testScore\", \"type\": \"quantitative\"}, \"x\": {\"field\": \"n_estimators\", \"type\": \"nominal\"}, \"y\": {\"field\": \"learning_rate\", \"type\": \"nominal\"}}, \"height\": 100, \"width\": 100}, {\"data\": {\"name\": \"data-6451ea64733fc496ed028c3ba75de276\"}, \"mark\": \"line\", \"encoding\": {\"color\": {\"field\": \"group\", \"type\": \"nominal\"}, \"column\": {\"field\": \"learning_rate\", \"type\": \"quantitative\"}, \"x\": {\"field\": \"n_estimators\", \"type\": \"nominal\"}, \"y\": {\"field\": \"score\", \"scale\": {\"domain\": [0.5, 1]}, \"type\": \"quantitative\"}}, \"height\": 100, \"width\": 100}], \"$schema\": \"https://vega.github.io/schema/vega-lite/v4.17.0.json\", \"datasets\": {\"data-7984b4905bdb7e8d6a3f066b69ad1c7d\": [{\"n_estimators\": 10.0, \"leraning_rate\": null, \"trainScore\": 0.6377303939284423, \"testScore\": 0.6384531984098302, \"learning_rate\": 0.01}, {\"n_estimators\": 10.0, \"leraning_rate\": null, \"trainScore\": 0.6549656667871341, \"testScore\": 0.6553089989157933, \"learning_rate\": 0.1}, {\"n_estimators\": 10.0, \"leraning_rate\": null, \"trainScore\": 0.673548970003614, \"testScore\": 0.6736393205637875, \"learning_rate\": 1.0}, {\"n_estimators\": 10.0, \"leraning_rate\": null, \"trainScore\": 0.522840621611854, \"testScore\": 0.5187856884712685, \"learning_rate\": 10.0}, {\"n_estimators\": 100.0, \"leraning_rate\": null, \"trainScore\": 0.6550090350560174, \"testScore\": 0.654672930972172, \"learning_rate\": 0.01}, {\"n_estimators\": 100.0, \"leraning_rate\": null, \"trainScore\": 0.6818431514275388, \"testScore\": 0.6794506685941453, \"learning_rate\": 0.1}, {\"n_estimators\": 100.0, \"leraning_rate\": null, \"trainScore\": 0.7079183230936031, \"testScore\": 0.696508854354897, \"learning_rate\": 1.0}, {\"n_estimators\": 100.0, \"leraning_rate\": null, \"trainScore\": 0.522840621611854, \"testScore\": 0.5187856884712685, \"learning_rate\": 10.0}, {\"n_estimators\": 200.0, \"leraning_rate\": null, \"trainScore\": 0.6628117094325985, \"testScore\": 0.6625659559089266, \"learning_rate\": 0.01}, {\"n_estimators\": 200.0, \"leraning_rate\": null, \"trainScore\": 0.6909649439826527, \"testScore\": 0.6872714130827611, \"learning_rate\": 0.1}, {\"n_estimators\": 200.0, \"leraning_rate\": null, \"trainScore\": 0.7221250451752801, \"testScore\": 0.6990820383086375, \"learning_rate\": 1.0}, {\"n_estimators\": 200.0, \"leraning_rate\": null, \"trainScore\": 0.522840621611854, \"testScore\": 0.5187856884712685, \"learning_rate\": 10.0}], \"data-6451ea64733fc496ed028c3ba75de276\": [{\"n_estimators\": 10.0, \"learning_rate\": 0.01, \"group\": \"trainScore\", \"score\": 0.6377303939284423}, {\"n_estimators\": 10.0, \"learning_rate\": 0.1, \"group\": \"trainScore\", \"score\": 0.6549656667871341}, {\"n_estimators\": 10.0, \"learning_rate\": 1.0, \"group\": \"trainScore\", \"score\": 0.673548970003614}, {\"n_estimators\": 10.0, \"learning_rate\": 10.0, \"group\": \"trainScore\", \"score\": 0.522840621611854}, {\"n_estimators\": 100.0, \"learning_rate\": 0.01, \"group\": \"trainScore\", \"score\": 0.6550090350560174}, {\"n_estimators\": 100.0, \"learning_rate\": 0.1, \"group\": \"trainScore\", \"score\": 0.6818431514275388}, {\"n_estimators\": 100.0, \"learning_rate\": 1.0, \"group\": \"trainScore\", \"score\": 0.7079183230936031}, {\"n_estimators\": 100.0, \"learning_rate\": 10.0, \"group\": \"trainScore\", \"score\": 0.522840621611854}, {\"n_estimators\": 200.0, \"learning_rate\": 0.01, \"group\": \"trainScore\", \"score\": 0.6628117094325985}, {\"n_estimators\": 200.0, \"learning_rate\": 0.1, \"group\": \"trainScore\", \"score\": 0.6909649439826527}, {\"n_estimators\": 200.0, \"learning_rate\": 1.0, \"group\": \"trainScore\", \"score\": 0.7221250451752801}, {\"n_estimators\": 200.0, \"learning_rate\": 10.0, \"group\": \"trainScore\", \"score\": 0.522840621611854}, {\"n_estimators\": 10.0, \"learning_rate\": 0.01, \"group\": \"testScore\", \"score\": 0.6384531984098302}, {\"n_estimators\": 10.0, \"learning_rate\": 0.1, \"group\": \"testScore\", \"score\": 0.6553089989157933}, {\"n_estimators\": 10.0, \"learning_rate\": 1.0, \"group\": \"testScore\", \"score\": 0.6736393205637875}, {\"n_estimators\": 10.0, \"learning_rate\": 10.0, \"group\": \"testScore\", \"score\": 0.5187856884712685}, {\"n_estimators\": 100.0, \"learning_rate\": 0.01, \"group\": \"testScore\", \"score\": 0.654672930972172}, {\"n_estimators\": 100.0, \"learning_rate\": 0.1, \"group\": \"testScore\", \"score\": 0.6794506685941453}, {\"n_estimators\": 100.0, \"learning_rate\": 1.0, \"group\": \"testScore\", \"score\": 0.696508854354897}, {\"n_estimators\": 100.0, \"learning_rate\": 10.0, \"group\": \"testScore\", \"score\": 0.5187856884712685}, {\"n_estimators\": 200.0, \"learning_rate\": 0.01, \"group\": \"testScore\", \"score\": 0.6625659559089266}, {\"n_estimators\": 200.0, \"learning_rate\": 0.1, \"group\": \"testScore\", \"score\": 0.6872714130827611}, {\"n_estimators\": 200.0, \"learning_rate\": 1.0, \"group\": \"testScore\", \"score\": 0.6990820383086375}, {\"n_estimators\": 200.0, \"learning_rate\": 10.0, \"group\": \"testScore\", \"score\": 0.5187856884712685}]}}, {\"mode\": \"vega-lite\"});\n",
       "</script>"
      ],
      "text/plain": [
       "alt.HConcatChart(...)"
      ]
     },
     "execution_count": 29,
     "metadata": {},
     "output_type": "execute_result"
    }
   ],
   "source": [
    "Heatmap = alt.Chart(res).mark_rect(stroke='white').encode(\n",
    "    x = 'n_estimators:N',\n",
    "    y = 'learning_rate:N',\n",
    "    color = 'testScore',\n",
    "    tooltip = 'testScore'\n",
    ").properties(width=100, height=100)\n",
    "\n",
    "\n",
    "resLong = res.melt(id_vars=['n_estimators', 'learning_rate'], value_vars=['trainScore', 'testScore'],\n",
    "         var_name='group', value_name='score')\n",
    "\n",
    "Lineplot = alt.Chart(resLong).mark_line().encode(\n",
    "    x = 'n_estimators:N',\n",
    "    y = alt.Y('score', scale=alt.Scale(domain=[0.5,1])),\n",
    "    color = 'group',\n",
    "    column = 'learning_rate'\n",
    ").properties(width=100, height=100)\n",
    "\n",
    "(Heatmap | Lineplot)"
   ]
  },
  {
   "cell_type": "code",
   "execution_count": 30,
   "id": "xsd7oMObrwR_",
   "metadata": {
    "id": "xsd7oMObrwR_"
   },
   "outputs": [],
   "source": [
    "# generate report result\n",
    "gradB = GradientBoostingClassifier(n_estimators=100, learning_rate=1,\n",
    "                                     random_state=0)\n",
    "gradB_re = cross_validate(gradB, X_train_tfidf, y_train_tfidf, cv=5, scoring=['accuracy', 'recall'])"
   ]
  },
  {
   "cell_type": "code",
   "execution_count": 31,
   "id": "D9qnzoVmsMrk",
   "metadata": {
    "id": "D9qnzoVmsMrk"
   },
   "outputs": [
    {
     "data": {
      "text/html": [
       "<div>\n",
       "<style scoped>\n",
       "    .dataframe tbody tr th:only-of-type {\n",
       "        vertical-align: middle;\n",
       "    }\n",
       "\n",
       "    .dataframe tbody tr th {\n",
       "        vertical-align: top;\n",
       "    }\n",
       "\n",
       "    .dataframe thead th {\n",
       "        text-align: right;\n",
       "    }\n",
       "</style>\n",
       "<table border=\"1\" class=\"dataframe\">\n",
       "  <thead>\n",
       "    <tr style=\"text-align: right;\">\n",
       "      <th></th>\n",
       "      <th>fit_time</th>\n",
       "      <th>score_time</th>\n",
       "      <th>test_accuracy</th>\n",
       "      <th>test_recall</th>\n",
       "    </tr>\n",
       "  </thead>\n",
       "  <tbody>\n",
       "    <tr>\n",
       "      <th>count</th>\n",
       "      <td>5.000000</td>\n",
       "      <td>5.000000</td>\n",
       "      <td>5.000000</td>\n",
       "      <td>5.000000</td>\n",
       "    </tr>\n",
       "    <tr>\n",
       "      <th>mean</th>\n",
       "      <td>274.188533</td>\n",
       "      <td>0.110713</td>\n",
       "      <td>0.695201</td>\n",
       "      <td>0.712303</td>\n",
       "    </tr>\n",
       "    <tr>\n",
       "      <th>std</th>\n",
       "      <td>0.456321</td>\n",
       "      <td>0.002288</td>\n",
       "      <td>0.001687</td>\n",
       "      <td>0.002094</td>\n",
       "    </tr>\n",
       "    <tr>\n",
       "      <th>min</th>\n",
       "      <td>273.838341</td>\n",
       "      <td>0.108605</td>\n",
       "      <td>0.692609</td>\n",
       "      <td>0.709917</td>\n",
       "    </tr>\n",
       "    <tr>\n",
       "      <th>25%</th>\n",
       "      <td>273.865618</td>\n",
       "      <td>0.108909</td>\n",
       "      <td>0.694850</td>\n",
       "      <td>0.711509</td>\n",
       "    </tr>\n",
       "    <tr>\n",
       "      <th>50%</th>\n",
       "      <td>274.050493</td>\n",
       "      <td>0.110570</td>\n",
       "      <td>0.695175</td>\n",
       "      <td>0.711799</td>\n",
       "    </tr>\n",
       "    <tr>\n",
       "      <th>75%</th>\n",
       "      <td>274.234958</td>\n",
       "      <td>0.111163</td>\n",
       "      <td>0.696422</td>\n",
       "      <td>0.712704</td>\n",
       "    </tr>\n",
       "    <tr>\n",
       "      <th>max</th>\n",
       "      <td>274.953253</td>\n",
       "      <td>0.114320</td>\n",
       "      <td>0.696946</td>\n",
       "      <td>0.715589</td>\n",
       "    </tr>\n",
       "  </tbody>\n",
       "</table>\n",
       "</div>"
      ],
      "text/plain": [
       "         fit_time  score_time  test_accuracy  test_recall\n",
       "count    5.000000    5.000000       5.000000     5.000000\n",
       "mean   274.188533    0.110713       0.695201     0.712303\n",
       "std      0.456321    0.002288       0.001687     0.002094\n",
       "min    273.838341    0.108605       0.692609     0.709917\n",
       "25%    273.865618    0.108909       0.694850     0.711509\n",
       "50%    274.050493    0.110570       0.695175     0.711799\n",
       "75%    274.234958    0.111163       0.696422     0.712704\n",
       "max    274.953253    0.114320       0.696946     0.715589"
      ]
     },
     "execution_count": 31,
     "metadata": {},
     "output_type": "execute_result"
    }
   ],
   "source": [
    "pd.DataFrame(gradB_re).describe()"
   ]
  },
  {
   "cell_type": "markdown",
   "id": "random-senior",
   "metadata": {
    "id": "random-senior"
   },
   "source": [
    "## 4) Deep Learning"
   ]
  },
  {
   "cell_type": "markdown",
   "id": "amino-innocent",
   "metadata": {
    "id": "amino-innocent"
   },
   "source": [
    "### a) FFNN"
   ]
  },
  {
   "cell_type": "code",
   "execution_count": 32,
   "id": "yG06WOCfX87H",
   "metadata": {
    "id": "yG06WOCfX87H"
   },
   "outputs": [],
   "source": [
    "X_train_tfidf.sort_indices()\n",
    "X_test_tfidf.sort_indices()"
   ]
  },
  {
   "cell_type": "code",
   "execution_count": 33,
   "id": "9GyhghDHXtjx",
   "metadata": {
    "colab": {
     "base_uri": "https://localhost:8080/",
     "height": 1000
    },
    "collapsed": true,
    "id": "9GyhghDHXtjx",
    "jupyter": {
     "outputs_hidden": true
    },
    "outputId": "c4e2fb64-c5b3-49e4-f3b9-588c9842ef9e",
    "tags": []
   },
   "outputs": [
    {
     "name": "stderr",
     "output_type": "stream",
     "text": [
      "  0%|          | 0/4 [00:00<?, ?it/s]\n",
      "  0%|          | 0/3 [00:00<?, ?it/s]\u001b[A\n",
      "\n",
      "  0%|          | 0/2 [00:00<?, ?it/s]\u001b[A\u001b[A"
     ]
    },
    {
     "name": "stdout",
     "output_type": "stream",
     "text": [
      "Epoch 1/3\n",
      "2162/2162 [==============================] - 10s 4ms/step - loss: 0.5907 - accuracy: 0.6822 - val_loss: 0.5653 - val_accuracy: 0.6995\n",
      "Epoch 2/3\n",
      "2162/2162 [==============================] - 9s 4ms/step - loss: 0.5285 - accuracy: 0.7279 - val_loss: 0.5734 - val_accuracy: 0.6896\n",
      "Epoch 3/3\n",
      "2162/2162 [==============================] - 9s 4ms/step - loss: 0.4794 - accuracy: 0.7622 - val_loss: 0.6045 - val_accuracy: 0.6756\n"
     ]
    },
    {
     "name": "stderr",
     "output_type": "stream",
     "text": [
      "\n",
      "\n",
      " 50%|█████     | 1/2 [00:29<00:29, 29.21s/it]\u001b[A\u001b[A"
     ]
    },
    {
     "name": "stdout",
     "output_type": "stream",
     "text": [
      "Epoch 1/3\n",
      "2162/2162 [==============================] - 10s 4ms/step - loss: 0.5837 - accuracy: 0.6851 - val_loss: 0.5620 - val_accuracy: 0.7009\n",
      "Epoch 2/3\n",
      "2162/2162 [==============================] - 9s 4ms/step - loss: 0.5236 - accuracy: 0.7274 - val_loss: 0.5745 - val_accuracy: 0.6906\n",
      "Epoch 3/3\n",
      "2162/2162 [==============================] - 9s 4ms/step - loss: 0.4734 - accuracy: 0.7574 - val_loss: 0.6212 - val_accuracy: 0.6828\n"
     ]
    },
    {
     "name": "stderr",
     "output_type": "stream",
     "text": [
      "\n",
      "\n",
      "100%|██████████| 2/2 [00:58<00:00, 29.20s/it]\u001b[A\u001b[A\n",
      "\n",
      " 33%|███▎      | 1/3 [00:58<01:56, 58.41s/it]\u001b[A\n",
      "\n",
      "  0%|          | 0/2 [00:00<?, ?it/s]\u001b[A\u001b[A"
     ]
    },
    {
     "name": "stdout",
     "output_type": "stream",
     "text": [
      "Epoch 1/3\n",
      "2162/2162 [==============================] - 10s 4ms/step - loss: 0.5848 - accuracy: 0.6858 - val_loss: 0.5641 - val_accuracy: 0.7001\n",
      "Epoch 2/3\n",
      "2162/2162 [==============================] - 9s 4ms/step - loss: 0.5250 - accuracy: 0.7289 - val_loss: 0.5745 - val_accuracy: 0.6903\n",
      "Epoch 3/3\n",
      "2162/2162 [==============================] - 9s 4ms/step - loss: 0.4742 - accuracy: 0.7599 - val_loss: 0.6054 - val_accuracy: 0.6785\n"
     ]
    },
    {
     "name": "stderr",
     "output_type": "stream",
     "text": [
      "\n",
      "\n",
      " 50%|█████     | 1/2 [00:29<00:29, 29.70s/it]\u001b[A\u001b[A"
     ]
    },
    {
     "name": "stdout",
     "output_type": "stream",
     "text": [
      "Epoch 1/3\n",
      "2162/2162 [==============================] - 10s 4ms/step - loss: 0.5814 - accuracy: 0.6862 - val_loss: 0.5604 - val_accuracy: 0.7004\n",
      "Epoch 2/3\n",
      "2162/2162 [==============================] - 9s 4ms/step - loss: 0.5202 - accuracy: 0.7307 - val_loss: 0.5715 - val_accuracy: 0.6951\n",
      "Epoch 3/3\n",
      "2162/2162 [==============================] - 9s 4ms/step - loss: 0.4661 - accuracy: 0.7631 - val_loss: 0.6218 - val_accuracy: 0.6785\n"
     ]
    },
    {
     "name": "stderr",
     "output_type": "stream",
     "text": [
      "\n",
      "\n",
      "100%|██████████| 2/2 [00:59<00:00, 29.77s/it]\u001b[A\u001b[A\n",
      "\n",
      " 67%|██████▋   | 2/3 [01:57<00:59, 59.08s/it]\u001b[A\n",
      "\n",
      "  0%|          | 0/2 [00:00<?, ?it/s]\u001b[A\u001b[A"
     ]
    },
    {
     "name": "stdout",
     "output_type": "stream",
     "text": [
      "Epoch 1/3\n",
      "2162/2162 [==============================] - 10s 4ms/step - loss: 0.5879 - accuracy: 0.6837 - val_loss: 0.5648 - val_accuracy: 0.6989\n",
      "Epoch 2/3\n",
      "2162/2162 [==============================] - 9s 4ms/step - loss: 0.5277 - accuracy: 0.7279 - val_loss: 0.5714 - val_accuracy: 0.6942\n",
      "Epoch 3/3\n",
      "2162/2162 [==============================] - 9s 4ms/step - loss: 0.4801 - accuracy: 0.7561 - val_loss: 0.6073 - val_accuracy: 0.6864\n"
     ]
    },
    {
     "name": "stderr",
     "output_type": "stream",
     "text": [
      "\n",
      "\n",
      " 50%|█████     | 1/2 [00:30<00:30, 30.16s/it]\u001b[A\u001b[A"
     ]
    },
    {
     "name": "stdout",
     "output_type": "stream",
     "text": [
      "Epoch 1/3\n",
      "2162/2162 [==============================] - 10s 4ms/step - loss: 0.5796 - accuracy: 0.6874 - val_loss: 0.5619 - val_accuracy: 0.7005\n",
      "Epoch 2/3\n",
      "2162/2162 [==============================] - 9s 4ms/step - loss: 0.5175 - accuracy: 0.7319 - val_loss: 0.5713 - val_accuracy: 0.6912\n",
      "Epoch 3/3\n",
      "2162/2162 [==============================] - 9s 4ms/step - loss: 0.4628 - accuracy: 0.7664 - val_loss: 0.6114 - val_accuracy: 0.6781\n"
     ]
    },
    {
     "name": "stderr",
     "output_type": "stream",
     "text": [
      "\n",
      "\n",
      "100%|██████████| 2/2 [01:00<00:00, 30.21s/it]\u001b[A\u001b[A\n",
      "\n",
      "100%|██████████| 3/3 [02:58<00:00, 59.46s/it]\u001b[A\n",
      " 25%|██▌       | 1/4 [02:58<08:55, 178.40s/it]\n",
      "  0%|          | 0/3 [00:00<?, ?it/s]\u001b[A\n",
      "\n",
      "  0%|          | 0/2 [00:00<?, ?it/s]\u001b[A\u001b[A"
     ]
    },
    {
     "name": "stdout",
     "output_type": "stream",
     "text": [
      "Epoch 1/3\n",
      "2162/2162 [==============================] - 38s 17ms/step - loss: 0.5789 - accuracy: 0.6875 - val_loss: 0.5599 - val_accuracy: 0.7004\n",
      "Epoch 2/3\n",
      "2162/2162 [==============================] - 36s 17ms/step - loss: 0.5118 - accuracy: 0.7355 - val_loss: 0.5722 - val_accuracy: 0.6922\n",
      "Epoch 3/3\n",
      "2162/2162 [==============================] - 36s 16ms/step - loss: 0.4404 - accuracy: 0.7790 - val_loss: 0.6307 - val_accuracy: 0.6720\n"
     ]
    },
    {
     "name": "stderr",
     "output_type": "stream",
     "text": [
      "\n",
      "\n",
      " 50%|█████     | 1/2 [01:51<01:51, 111.26s/it]\u001b[A\u001b[A"
     ]
    },
    {
     "name": "stdout",
     "output_type": "stream",
     "text": [
      "Epoch 1/3\n",
      "2162/2162 [==============================] - 38s 17ms/step - loss: 0.5785 - accuracy: 0.6872 - val_loss: 0.5582 - val_accuracy: 0.7010\n",
      "Epoch 2/3\n",
      "2162/2162 [==============================] - 38s 18ms/step - loss: 0.5111 - accuracy: 0.7360 - val_loss: 0.5707 - val_accuracy: 0.6910\n",
      "Epoch 3/3\n",
      "2162/2162 [==============================] - 38s 17ms/step - loss: 0.4356 - accuracy: 0.7836 - val_loss: 0.6622 - val_accuracy: 0.6666\n"
     ]
    },
    {
     "name": "stderr",
     "output_type": "stream",
     "text": [
      "\n",
      "\n",
      "100%|██████████| 2/2 [03:46<00:00, 113.36s/it]\u001b[A\u001b[A\n",
      "\n",
      " 33%|███▎      | 1/3 [03:46<07:33, 226.73s/it]\u001b[A\n",
      "\n",
      "  0%|          | 0/2 [00:00<?, ?it/s]\u001b[A\u001b[A"
     ]
    },
    {
     "name": "stdout",
     "output_type": "stream",
     "text": [
      "Epoch 1/3\n",
      "2162/2162 [==============================] - 36s 16ms/step - loss: 0.5969 - accuracy: 0.6847 - val_loss: 0.5693 - val_accuracy: 0.7002\n",
      "Epoch 2/3\n",
      "2162/2162 [==============================] - 35s 16ms/step - loss: 0.5280 - accuracy: 0.7350 - val_loss: 0.5830 - val_accuracy: 0.6923\n",
      "Epoch 3/3\n",
      "2162/2162 [==============================] - 36s 17ms/step - loss: 0.4584 - accuracy: 0.7799 - val_loss: 0.6444 - val_accuracy: 0.6712\n"
     ]
    },
    {
     "name": "stderr",
     "output_type": "stream",
     "text": [
      "\n",
      "\n",
      " 50%|█████     | 1/2 [01:48<01:48, 108.89s/it]\u001b[A\u001b[A"
     ]
    },
    {
     "name": "stdout",
     "output_type": "stream",
     "text": [
      "Epoch 1/3\n",
      "2162/2162 [==============================] - 38s 17ms/step - loss: 0.5763 - accuracy: 0.6889 - val_loss: 0.5576 - val_accuracy: 0.7027\n",
      "Epoch 2/3\n",
      "2162/2162 [==============================] - 38s 17ms/step - loss: 0.5101 - accuracy: 0.7360 - val_loss: 0.5746 - val_accuracy: 0.6917\n",
      "Epoch 3/3\n",
      "2162/2162 [==============================] - 39s 18ms/step - loss: 0.4343 - accuracy: 0.7803 - val_loss: 0.6549 - val_accuracy: 0.6717\n"
     ]
    },
    {
     "name": "stderr",
     "output_type": "stream",
     "text": [
      "\n",
      "\n",
      "100%|██████████| 2/2 [03:44<00:00, 112.48s/it]\u001b[A\u001b[A\n",
      "\n",
      " 67%|██████▋   | 2/3 [07:31<03:45, 225.70s/it]\u001b[A\n",
      "\n",
      "  0%|          | 0/2 [00:00<?, ?it/s]\u001b[A\u001b[A"
     ]
    },
    {
     "name": "stdout",
     "output_type": "stream",
     "text": [
      "Epoch 1/3\n",
      "2162/2162 [==============================] - 38s 17ms/step - loss: 0.5761 - accuracy: 0.6892 - val_loss: 0.5563 - val_accuracy: 0.7033\n",
      "Epoch 2/3\n",
      "2162/2162 [==============================] - 37s 17ms/step - loss: 0.5093 - accuracy: 0.7371 - val_loss: 0.5758 - val_accuracy: 0.6888\n",
      "Epoch 3/3\n",
      "2162/2162 [==============================] - 36s 17ms/step - loss: 0.4324 - accuracy: 0.7822 - val_loss: 0.6555 - val_accuracy: 0.6728\n"
     ]
    },
    {
     "name": "stderr",
     "output_type": "stream",
     "text": [
      "\n",
      "\n",
      " 50%|█████     | 1/2 [01:51<01:51, 111.91s/it]\u001b[A\u001b[A"
     ]
    },
    {
     "name": "stdout",
     "output_type": "stream",
     "text": [
      "Epoch 1/3\n",
      "2162/2162 [==============================] - 38s 17ms/step - loss: 0.5745 - accuracy: 0.6898 - val_loss: 0.5571 - val_accuracy: 0.7017\n",
      "Epoch 2/3\n",
      "2162/2162 [==============================] - 38s 18ms/step - loss: 0.5091 - accuracy: 0.7365 - val_loss: 0.5767 - val_accuracy: 0.6916\n",
      "Epoch 3/3\n",
      "2162/2162 [==============================] - 38s 17ms/step - loss: 0.4340 - accuracy: 0.7813 - val_loss: 0.6376 - val_accuracy: 0.6736\n"
     ]
    },
    {
     "name": "stderr",
     "output_type": "stream",
     "text": [
      "\n",
      "\n",
      "100%|██████████| 2/2 [03:47<00:00, 113.63s/it]\u001b[A\u001b[A\n",
      "\n",
      "100%|██████████| 3/3 [11:18<00:00, 226.33s/it]\u001b[A\n",
      " 50%|█████     | 2/4 [14:17<15:45, 472.87s/it]\n",
      "  0%|          | 0/3 [00:00<?, ?it/s]\u001b[A\n",
      "\n",
      "  0%|          | 0/2 [00:00<?, ?it/s]\u001b[A\u001b[A"
     ]
    },
    {
     "name": "stdout",
     "output_type": "stream",
     "text": [
      "Epoch 1/3\n",
      "2162/2162 [==============================] - 72s 33ms/step - loss: 0.6030 - accuracy: 0.6826 - val_loss: 0.5755 - val_accuracy: 0.6982\n",
      "Epoch 2/3\n",
      "2162/2162 [==============================] - 71s 33ms/step - loss: 0.5371 - accuracy: 0.7294 - val_loss: 0.5755 - val_accuracy: 0.6918\n",
      "Epoch 3/3\n",
      "2162/2162 [==============================] - 74s 34ms/step - loss: 0.4678 - accuracy: 0.7757 - val_loss: 0.6343 - val_accuracy: 0.6751\n"
     ]
    },
    {
     "name": "stderr",
     "output_type": "stream",
     "text": [
      "\n",
      "\n",
      " 50%|█████     | 1/2 [03:38<03:38, 218.51s/it]\u001b[A\u001b[A"
     ]
    },
    {
     "name": "stdout",
     "output_type": "stream",
     "text": [
      "Epoch 1/3\n",
      "2162/2162 [==============================] - 71s 32ms/step - loss: 0.5756 - accuracy: 0.6892 - val_loss: 0.5564 - val_accuracy: 0.7026\n",
      "Epoch 2/3\n",
      "2162/2162 [==============================] - 70s 32ms/step - loss: 0.5079 - accuracy: 0.7376 - val_loss: 0.5722 - val_accuracy: 0.6947\n",
      "Epoch 3/3\n",
      "2162/2162 [==============================] - 70s 32ms/step - loss: 0.4283 - accuracy: 0.7859 - val_loss: 0.6539 - val_accuracy: 0.6722\n"
     ]
    },
    {
     "name": "stderr",
     "output_type": "stream",
     "text": [
      "\n",
      "\n",
      "100%|██████████| 2/2 [07:10<00:00, 215.21s/it]\u001b[A\u001b[A\n",
      "\n",
      " 33%|███▎      | 1/3 [07:10<14:20, 430.43s/it]\u001b[A\n",
      "\n",
      "  0%|          | 0/2 [00:00<?, ?it/s]\u001b[A\u001b[A"
     ]
    },
    {
     "name": "stdout",
     "output_type": "stream",
     "text": [
      "Epoch 1/3\n",
      "2162/2162 [==============================] - 69s 31ms/step - loss: 0.5762 - accuracy: 0.6884 - val_loss: 0.5568 - val_accuracy: 0.7022\n",
      "Epoch 2/3\n",
      "2162/2162 [==============================] - 68s 31ms/step - loss: 0.5082 - accuracy: 0.7375 - val_loss: 0.5735 - val_accuracy: 0.6908\n",
      "Epoch 3/3\n",
      "2162/2162 [==============================] - 67s 31ms/step - loss: 0.4282 - accuracy: 0.7860 - val_loss: 0.6572 - val_accuracy: 0.6674\n"
     ]
    },
    {
     "name": "stderr",
     "output_type": "stream",
     "text": [
      "\n",
      "\n",
      " 50%|█████     | 1/2 [03:25<03:25, 205.49s/it]\u001b[A\u001b[A"
     ]
    },
    {
     "name": "stdout",
     "output_type": "stream",
     "text": [
      "Epoch 1/3\n",
      "2162/2162 [==============================] - 72s 33ms/step - loss: 0.5753 - accuracy: 0.6899 - val_loss: 0.5557 - val_accuracy: 0.7010\n",
      "Epoch 2/3\n",
      "2162/2162 [==============================] - 71s 33ms/step - loss: 0.5086 - accuracy: 0.7357 - val_loss: 0.5722 - val_accuracy: 0.6933\n",
      "Epoch 3/3\n",
      "2162/2162 [==============================] - 72s 33ms/step - loss: 0.4264 - accuracy: 0.7852 - val_loss: 0.6641 - val_accuracy: 0.6702\n"
     ]
    },
    {
     "name": "stderr",
     "output_type": "stream",
     "text": [
      "\n",
      "\n",
      "100%|██████████| 2/2 [07:01<00:00, 210.62s/it]\u001b[A\u001b[A\n",
      "\n",
      " 67%|██████▋   | 2/3 [14:11<07:05, 425.02s/it]\u001b[A\n",
      "\n",
      "  0%|          | 0/2 [00:00<?, ?it/s]\u001b[A\u001b[A"
     ]
    },
    {
     "name": "stdout",
     "output_type": "stream",
     "text": [
      "Epoch 1/3\n",
      "2162/2162 [==============================] - 69s 31ms/step - loss: 0.5758 - accuracy: 0.6882 - val_loss: 0.5563 - val_accuracy: 0.7016\n",
      "Epoch 2/3\n",
      "2162/2162 [==============================] - 68s 31ms/step - loss: 0.5085 - accuracy: 0.7347 - val_loss: 0.5746 - val_accuracy: 0.6932\n",
      "Epoch 3/3\n",
      "2162/2162 [==============================] - 68s 31ms/step - loss: 0.4276 - accuracy: 0.7815 - val_loss: 0.6671 - val_accuracy: 0.6725\n"
     ]
    },
    {
     "name": "stderr",
     "output_type": "stream",
     "text": [
      "\n",
      "\n",
      " 50%|█████     | 1/2 [03:25<03:25, 205.42s/it]\u001b[A\u001b[A"
     ]
    },
    {
     "name": "stdout",
     "output_type": "stream",
     "text": [
      "Epoch 1/3\n",
      "2162/2162 [==============================] - 68s 31ms/step - loss: 0.5746 - accuracy: 0.6892 - val_loss: 0.5590 - val_accuracy: 0.7003\n",
      "Epoch 2/3\n",
      "2162/2162 [==============================] - 67s 31ms/step - loss: 0.5073 - accuracy: 0.7370 - val_loss: 0.5729 - val_accuracy: 0.6928\n",
      "Epoch 3/3\n",
      "2162/2162 [==============================] - 65s 30ms/step - loss: 0.4231 - accuracy: 0.7867 - val_loss: 0.6597 - val_accuracy: 0.6709\n"
     ]
    },
    {
     "name": "stderr",
     "output_type": "stream",
     "text": [
      "\n",
      "\n",
      "100%|██████████| 2/2 [06:46<00:00, 203.06s/it]\u001b[A\u001b[A\n",
      "\n",
      "100%|██████████| 3/3 [20:57<00:00, 419.26s/it]\u001b[A\n",
      " 75%|███████▌  | 3/4 [35:15<13:51, 831.29s/it]\n",
      "  0%|          | 0/3 [00:00<?, ?it/s]\u001b[A\n",
      "\n",
      "  0%|          | 0/2 [00:00<?, ?it/s]\u001b[A\u001b[A"
     ]
    },
    {
     "name": "stdout",
     "output_type": "stream",
     "text": [
      "Epoch 1/3\n",
      "2162/2162 [==============================] - 404s 186ms/step - loss: 0.5749 - accuracy: 0.6888 - val_loss: 0.5598 - val_accuracy: 0.7006\n",
      "Epoch 2/3\n",
      "2162/2162 [==============================] - 405s 187ms/step - loss: 0.5072 - accuracy: 0.7383 - val_loss: 0.5719 - val_accuracy: 0.6916\n",
      "Epoch 3/3\n",
      "2162/2162 [==============================] - 406s 188ms/step - loss: 0.4191 - accuracy: 0.7903 - val_loss: 0.6751 - val_accuracy: 0.6689\n"
     ]
    },
    {
     "name": "stderr",
     "output_type": "stream",
     "text": [
      "\n",
      "\n",
      " 50%|█████     | 1/2 [20:15<20:15, 1215.85s/it]\u001b[A\u001b[A"
     ]
    },
    {
     "name": "stdout",
     "output_type": "stream",
     "text": [
      "Epoch 1/3\n",
      "2162/2162 [==============================] - 407s 188ms/step - loss: 0.5751 - accuracy: 0.6895 - val_loss: 0.5588 - val_accuracy: 0.7013\n",
      "Epoch 2/3\n",
      "2162/2162 [==============================] - 405s 187ms/step - loss: 0.5071 - accuracy: 0.7367 - val_loss: 0.5713 - val_accuracy: 0.6935\n",
      "Epoch 3/3\n",
      "2162/2162 [==============================] - 406s 188ms/step - loss: 0.4189 - accuracy: 0.7885 - val_loss: 0.6480 - val_accuracy: 0.6707\n"
     ]
    },
    {
     "name": "stderr",
     "output_type": "stream",
     "text": [
      "\n",
      "\n",
      "100%|██████████| 2/2 [40:35<00:00, 1217.71s/it]\u001b[A\u001b[A\n",
      "\n",
      " 33%|███▎      | 1/3 [40:35<1:21:10, 2435.42s/it]\u001b[A\n",
      "\n",
      "  0%|          | 0/2 [00:00<?, ?it/s]\u001b[A\u001b[A"
     ]
    },
    {
     "name": "stdout",
     "output_type": "stream",
     "text": [
      "Epoch 1/3\n",
      "2162/2162 [==============================] - 407s 188ms/step - loss: 0.5753 - accuracy: 0.6896 - val_loss: 0.5572 - val_accuracy: 0.7017\n",
      "Epoch 2/3\n",
      "2162/2162 [==============================] - 406s 188ms/step - loss: 0.5061 - accuracy: 0.7381 - val_loss: 0.5723 - val_accuracy: 0.6951\n",
      "Epoch 3/3\n",
      "2162/2162 [==============================] - 406s 187ms/step - loss: 0.4164 - accuracy: 0.7912 - val_loss: 0.6806 - val_accuracy: 0.6653\n"
     ]
    },
    {
     "name": "stderr",
     "output_type": "stream",
     "text": [
      "\n",
      "\n",
      " 50%|█████     | 1/2 [20:19<20:19, 1219.65s/it]\u001b[A\u001b[A"
     ]
    },
    {
     "name": "stdout",
     "output_type": "stream",
     "text": [
      "Epoch 1/3\n",
      "2162/2162 [==============================] - 407s 188ms/step - loss: 0.5737 - accuracy: 0.6887 - val_loss: 0.5568 - val_accuracy: 0.7024\n",
      "Epoch 2/3\n",
      "2162/2162 [==============================] - 405s 187ms/step - loss: 0.5069 - accuracy: 0.7372 - val_loss: 0.5762 - val_accuracy: 0.6926\n",
      "Epoch 3/3\n",
      "2162/2162 [==============================] - 411s 190ms/step - loss: 0.4167 - accuracy: 0.7913 - val_loss: 0.6823 - val_accuracy: 0.6589\n"
     ]
    },
    {
     "name": "stderr",
     "output_type": "stream",
     "text": [
      "\n",
      "\n",
      "100%|██████████| 2/2 [40:43<00:00, 1221.95s/it]\u001b[A\u001b[A\n",
      "\n",
      " 67%|██████▋   | 2/3 [1:21:19<40:40, 2440.41s/it]\u001b[A\n",
      "\n",
      "  0%|          | 0/2 [00:00<?, ?it/s]\u001b[A\u001b[A"
     ]
    },
    {
     "name": "stdout",
     "output_type": "stream",
     "text": [
      "Epoch 1/3\n",
      "2162/2162 [==============================] - 410s 189ms/step - loss: 0.5745 - accuracy: 0.6893 - val_loss: 0.5574 - val_accuracy: 0.7016\n",
      "Epoch 2/3\n",
      "2162/2162 [==============================] - 407s 188ms/step - loss: 0.5070 - accuracy: 0.7364 - val_loss: 0.5773 - val_accuracy: 0.6928\n",
      "Epoch 3/3\n",
      "2162/2162 [==============================] - 408s 189ms/step - loss: 0.4167 - accuracy: 0.7900 - val_loss: 0.6739 - val_accuracy: 0.6647\n"
     ]
    },
    {
     "name": "stderr",
     "output_type": "stream",
     "text": [
      "\n",
      "\n",
      " 50%|█████     | 1/2 [20:26<20:26, 1226.52s/it]\u001b[A\u001b[A"
     ]
    },
    {
     "name": "stdout",
     "output_type": "stream",
     "text": [
      "Epoch 1/3\n",
      "2162/2162 [==============================] - 409s 189ms/step - loss: 0.5735 - accuracy: 0.6893 - val_loss: 0.5574 - val_accuracy: 0.7007\n",
      "Epoch 2/3\n",
      "2162/2162 [==============================] - 407s 188ms/step - loss: 0.5052 - accuracy: 0.7380 - val_loss: 0.5810 - val_accuracy: 0.6921\n",
      "Epoch 3/3\n",
      "2162/2162 [==============================] - 408s 188ms/step - loss: 0.4104 - accuracy: 0.7937 - val_loss: 0.6926 - val_accuracy: 0.6610\n"
     ]
    },
    {
     "name": "stderr",
     "output_type": "stream",
     "text": [
      "\n",
      "\n",
      "100%|██████████| 2/2 [40:51<00:00, 1225.56s/it]\u001b[A\u001b[A\n",
      "\n",
      "100%|██████████| 3/3 [2:02:10<00:00, 2443.49s/it]\u001b[A\n",
      "100%|██████████| 4/4 [2:37:25<00:00, 2361.42s/it]"
     ]
    },
    {
     "name": "stdout",
     "output_type": "stream",
     "text": [
      "\n",
      "\n",
      "total run time: 157.42807729641598 mins\n"
     ]
    },
    {
     "name": "stderr",
     "output_type": "stream",
     "text": [
      "\n"
     ]
    }
   ],
   "source": [
    "start_time = time.time()\n",
    "\n",
    "layers1 = [20, 100, 200, 500]\n",
    "layers2 = [20, 50, 100]\n",
    "layers3 = [5, 20]\n",
    "input_shape = X_train_tfidf.shape[1]\n",
    "ep_size = 3\n",
    "batch_size = 128\n",
    "\n",
    "res_FFNN = pd.DataFrame(columns=['layer1', 'layer2', 'layer3', 'epoch', 'trainScore', 'testScore'])\n",
    "\n",
    "for units_1 in tqdm(layers1):\n",
    "    for units_2 in tqdm(layers2):\n",
    "        for units_3 in tqdm(layers3):\n",
    "            \n",
    "            inputs = keras.Input(shape=(input_shape, ))\n",
    "            x = layers.Dense(units_1, activation='relu')(inputs)\n",
    "            x = layers.Dense(units_2, activation='relu')(x)\n",
    "            x = layers.Dense(units_3, activation='relu')(x)\n",
    "            outputs = layers.Dense(1, activation='sigmoid')(x)\n",
    "\n",
    "            model = keras.Model(inputs=inputs, outputs=outputs)\n",
    "            model.compile(loss='binary_crossentropy', metrics=['accuracy'], optimizer='adam')\n",
    "            model.fit(x=X_train_tfidf, y=y_train_tfidf.values, validation_data=(X_test_tfidf, y_test_tfidf.values),\n",
    "                epochs=ep_size, batch_size=batch_size, verbose=1)\n",
    "            \n",
    "            history = model.history.history\n",
    "            \n",
    "            for ep in np.arange(ep_size):\n",
    "                res_FFNN = res_FFNN.append({'layer1':units_1, 'layer2':units_2, 'layer3':units_3, 'epoch':ep+1,\n",
    "                                  'trainScore':history['accuracy'][ep],\n",
    "                                  'testScore':history['val_accuracy'][ep]}, ignore_index=True)\n",
    "                \n",
    "# get run time\n",
    "end_time = time.time()\n",
    "delta_time = end_time - start_time\n",
    "print('\\n')\n",
    "print(\"total run time: {} mins\".format(delta_time/60))"
   ]
  },
  {
   "cell_type": "code",
   "execution_count": 34,
   "id": "1cb9255f-a7d4-48af-a303-d9b571fa62aa",
   "metadata": {},
   "outputs": [
    {
     "data": {
      "text/html": [
       "\n",
       "<div id=\"altair-viz-b5fd9c9c2e1a439f850dac6be3b8ce73\"></div>\n",
       "<script type=\"text/javascript\">\n",
       "  var VEGA_DEBUG = (typeof VEGA_DEBUG == \"undefined\") ? {} : VEGA_DEBUG;\n",
       "  (function(spec, embedOpt){\n",
       "    let outputDiv = document.currentScript.previousElementSibling;\n",
       "    if (outputDiv.id !== \"altair-viz-b5fd9c9c2e1a439f850dac6be3b8ce73\") {\n",
       "      outputDiv = document.getElementById(\"altair-viz-b5fd9c9c2e1a439f850dac6be3b8ce73\");\n",
       "    }\n",
       "    const paths = {\n",
       "      \"vega\": \"https://cdn.jsdelivr.net/npm//vega@5?noext\",\n",
       "      \"vega-lib\": \"https://cdn.jsdelivr.net/npm//vega-lib?noext\",\n",
       "      \"vega-lite\": \"https://cdn.jsdelivr.net/npm//vega-lite@4.17.0?noext\",\n",
       "      \"vega-embed\": \"https://cdn.jsdelivr.net/npm//vega-embed@6?noext\",\n",
       "    };\n",
       "\n",
       "    function maybeLoadScript(lib, version) {\n",
       "      var key = `${lib.replace(\"-\", \"\")}_version`;\n",
       "      return (VEGA_DEBUG[key] == version) ?\n",
       "        Promise.resolve(paths[lib]) :\n",
       "        new Promise(function(resolve, reject) {\n",
       "          var s = document.createElement('script');\n",
       "          document.getElementsByTagName(\"head\")[0].appendChild(s);\n",
       "          s.async = true;\n",
       "          s.onload = () => {\n",
       "            VEGA_DEBUG[key] = version;\n",
       "            return resolve(paths[lib]);\n",
       "          };\n",
       "          s.onerror = () => reject(`Error loading script: ${paths[lib]}`);\n",
       "          s.src = paths[lib];\n",
       "        });\n",
       "    }\n",
       "\n",
       "    function showError(err) {\n",
       "      outputDiv.innerHTML = `<div class=\"error\" style=\"color:red;\">${err}</div>`;\n",
       "      throw err;\n",
       "    }\n",
       "\n",
       "    function displayChart(vegaEmbed) {\n",
       "      vegaEmbed(outputDiv, spec, embedOpt)\n",
       "        .catch(err => showError(`Javascript Error: ${err.message}<br>This usually means there's a typo in your chart specification. See the javascript console for the full traceback.`));\n",
       "    }\n",
       "\n",
       "    if(typeof define === \"function\" && define.amd) {\n",
       "      requirejs.config({paths});\n",
       "      require([\"vega-embed\"], displayChart, err => showError(`Error loading script: ${err.message}`));\n",
       "    } else {\n",
       "      maybeLoadScript(\"vega\", \"5\")\n",
       "        .then(() => maybeLoadScript(\"vega-lite\", \"4.17.0\"))\n",
       "        .then(() => maybeLoadScript(\"vega-embed\", \"6\"))\n",
       "        .catch(showError)\n",
       "        .then(() => displayChart(vegaEmbed));\n",
       "    }\n",
       "  })({\"config\": {\"view\": {\"continuousWidth\": 400, \"continuousHeight\": 300}}, \"hconcat\": [{\"data\": {\"name\": \"data-6e35ff35bc64865bf60b35bdc7a56f0b\"}, \"mark\": \"line\", \"encoding\": {\"color\": {\"field\": \"group\", \"type\": \"nominal\"}, \"column\": {\"field\": \"layer3\", \"type\": \"quantitative\"}, \"row\": {\"field\": \"layer2\", \"type\": \"quantitative\"}, \"tooltip\": {\"field\": \"score\", \"type\": \"quantitative\"}, \"x\": {\"field\": \"epoch\", \"type\": \"quantitative\"}, \"y\": {\"field\": \"score\", \"scale\": {\"domain\": [0.6, 0.8]}, \"type\": \"quantitative\"}}, \"height\": 50, \"width\": 50}, {\"data\": {\"name\": \"data-283fcb1dc37cf0ea055dc8561061874e\"}, \"mark\": \"line\", \"encoding\": {\"color\": {\"field\": \"group\", \"type\": \"nominal\"}, \"column\": {\"field\": \"layer3\", \"type\": \"quantitative\"}, \"row\": {\"field\": \"layer2\", \"type\": \"quantitative\"}, \"tooltip\": {\"field\": \"score\", \"type\": \"quantitative\"}, \"x\": {\"field\": \"epoch\", \"type\": \"quantitative\"}, \"y\": {\"field\": \"score\", \"scale\": {\"domain\": [0.6, 0.8]}, \"type\": \"quantitative\"}}, \"height\": 50, \"width\": 50}, {\"data\": {\"name\": \"data-d34a5034527b26fd13a878e63d0f13e5\"}, \"mark\": \"line\", \"encoding\": {\"color\": {\"field\": \"group\", \"type\": \"nominal\"}, \"column\": {\"field\": \"layer3\", \"type\": \"quantitative\"}, \"row\": {\"field\": \"layer2\", \"type\": \"quantitative\"}, \"tooltip\": {\"field\": \"score\", \"type\": \"quantitative\"}, \"x\": {\"field\": \"epoch\", \"type\": \"quantitative\"}, \"y\": {\"field\": \"score\", \"scale\": {\"domain\": [0.6, 0.8]}, \"type\": \"quantitative\"}}, \"height\": 50, \"width\": 50}, {\"data\": {\"name\": \"data-df985df1638920b76760269b580f60c2\"}, \"mark\": \"line\", \"encoding\": {\"color\": {\"field\": \"group\", \"type\": \"nominal\"}, \"column\": {\"field\": \"layer3\", \"type\": \"quantitative\"}, \"row\": {\"field\": \"layer2\", \"type\": \"quantitative\"}, \"tooltip\": {\"field\": \"score\", \"type\": \"quantitative\"}, \"x\": {\"field\": \"epoch\", \"type\": \"quantitative\"}, \"y\": {\"field\": \"score\", \"scale\": {\"domain\": [0.6, 0.8]}, \"type\": \"quantitative\"}}, \"height\": 50, \"width\": 50}], \"$schema\": \"https://vega.github.io/schema/vega-lite/v4.17.0.json\", \"datasets\": {\"data-6e35ff35bc64865bf60b35bdc7a56f0b\": [{\"layer1\": 20.0, \"layer2\": 20.0, \"layer3\": 5.0, \"epoch\": 1.0, \"group\": \"trainScore\", \"score\": 0.6821756362915039}, {\"layer1\": 20.0, \"layer2\": 20.0, \"layer3\": 5.0, \"epoch\": 2.0, \"group\": \"trainScore\", \"score\": 0.7279038429260254}, {\"layer1\": 20.0, \"layer2\": 20.0, \"layer3\": 5.0, \"epoch\": 3.0, \"group\": \"trainScore\", \"score\": 0.7621756196022034}, {\"layer1\": 20.0, \"layer2\": 20.0, \"layer3\": 20.0, \"epoch\": 1.0, \"group\": \"trainScore\", \"score\": 0.6850957870483398}, {\"layer1\": 20.0, \"layer2\": 20.0, \"layer3\": 20.0, \"epoch\": 2.0, \"group\": \"trainScore\", \"score\": 0.7273906469345093}, {\"layer1\": 20.0, \"layer2\": 20.0, \"layer3\": 20.0, \"epoch\": 3.0, \"group\": \"trainScore\", \"score\": 0.7573978900909424}, {\"layer1\": 20.0, \"layer2\": 50.0, \"layer3\": 5.0, \"epoch\": 1.0, \"group\": \"trainScore\", \"score\": 0.6857752203941345}, {\"layer1\": 20.0, \"layer2\": 50.0, \"layer3\": 5.0, \"epoch\": 2.0, \"group\": \"trainScore\", \"score\": 0.7288652062416077}, {\"layer1\": 20.0, \"layer2\": 50.0, \"layer3\": 5.0, \"epoch\": 3.0, \"group\": \"trainScore\", \"score\": 0.7598518133163452}, {\"layer1\": 20.0, \"layer2\": 50.0, \"layer3\": 20.0, \"epoch\": 1.0, \"group\": \"trainScore\", \"score\": 0.6861799955368042}, {\"layer1\": 20.0, \"layer2\": 50.0, \"layer3\": 20.0, \"epoch\": 2.0, \"group\": \"trainScore\", \"score\": 0.7306830286979675}, {\"layer1\": 20.0, \"layer2\": 50.0, \"layer3\": 20.0, \"epoch\": 3.0, \"group\": \"trainScore\", \"score\": 0.7631044387817383}, {\"layer1\": 20.0, \"layer2\": 100.0, \"layer3\": 5.0, \"epoch\": 1.0, \"group\": \"trainScore\", \"score\": 0.6837224364280701}, {\"layer1\": 20.0, \"layer2\": 100.0, \"layer3\": 5.0, \"epoch\": 2.0, \"group\": \"trainScore\", \"score\": 0.727911114692688}, {\"layer1\": 20.0, \"layer2\": 100.0, \"layer3\": 5.0, \"epoch\": 3.0, \"group\": \"trainScore\", \"score\": 0.7561041116714478}, {\"layer1\": 20.0, \"layer2\": 100.0, \"layer3\": 20.0, \"epoch\": 1.0, \"group\": \"trainScore\", \"score\": 0.6873509287834167}, {\"layer1\": 20.0, \"layer2\": 100.0, \"layer3\": 20.0, \"epoch\": 2.0, \"group\": \"trainScore\", \"score\": 0.7318503856658936}, {\"layer1\": 20.0, \"layer2\": 100.0, \"layer3\": 20.0, \"epoch\": 3.0, \"group\": \"trainScore\", \"score\": 0.7663823366165161}, {\"layer1\": 20.0, \"layer2\": 20.0, \"layer3\": 5.0, \"epoch\": 1.0, \"group\": \"testScore\", \"score\": 0.6994723677635193}, {\"layer1\": 20.0, \"layer2\": 20.0, \"layer3\": 5.0, \"epoch\": 2.0, \"group\": \"testScore\", \"score\": 0.6895988583564758}, {\"layer1\": 20.0, \"layer2\": 20.0, \"layer3\": 5.0, \"epoch\": 3.0, \"group\": \"testScore\", \"score\": 0.6756342649459839}, {\"layer1\": 20.0, \"layer2\": 20.0, \"layer3\": 20.0, \"epoch\": 1.0, \"group\": \"testScore\", \"score\": 0.7008601427078247}, {\"layer1\": 20.0, \"layer2\": 20.0, \"layer3\": 20.0, \"epoch\": 2.0, \"group\": \"testScore\", \"score\": 0.6905673742294312}, {\"layer1\": 20.0, \"layer2\": 20.0, \"layer3\": 20.0, \"epoch\": 3.0, \"group\": \"testScore\", \"score\": 0.6827900409698486}, {\"layer1\": 20.0, \"layer2\": 50.0, \"layer3\": 5.0, \"epoch\": 1.0, \"group\": \"testScore\", \"score\": 0.7001373171806335}, {\"layer1\": 20.0, \"layer2\": 50.0, \"layer3\": 5.0, \"epoch\": 2.0, \"group\": \"testScore\", \"score\": 0.6903361082077026}, {\"layer1\": 20.0, \"layer2\": 50.0, \"layer3\": 5.0, \"epoch\": 3.0, \"group\": \"testScore\", \"score\": 0.6785399317741394}, {\"layer1\": 20.0, \"layer2\": 50.0, \"layer3\": 20.0, \"epoch\": 1.0, \"group\": \"testScore\", \"score\": 0.7003541588783264}, {\"layer1\": 20.0, \"layer2\": 50.0, \"layer3\": 20.0, \"epoch\": 2.0, \"group\": \"testScore\", \"score\": 0.6951066255569458}, {\"layer1\": 20.0, \"layer2\": 50.0, \"layer3\": 20.0, \"epoch\": 3.0, \"group\": \"testScore\", \"score\": 0.6784532070159912}, {\"layer1\": 20.0, \"layer2\": 100.0, \"layer3\": 5.0, \"epoch\": 1.0, \"group\": \"testScore\", \"score\": 0.6988651752471924}, {\"layer1\": 20.0, \"layer2\": 100.0, \"layer3\": 5.0, \"epoch\": 2.0, \"group\": \"testScore\", \"score\": 0.6942103505134583}, {\"layer1\": 20.0, \"layer2\": 100.0, \"layer3\": 5.0, \"epoch\": 3.0, \"group\": \"testScore\", \"score\": 0.6863895654678345}, {\"layer1\": 20.0, \"layer2\": 100.0, \"layer3\": 20.0, \"epoch\": 1.0, \"group\": \"testScore\", \"score\": 0.7005131840705872}, {\"layer1\": 20.0, \"layer2\": 100.0, \"layer3\": 20.0, \"epoch\": 2.0, \"group\": \"testScore\", \"score\": 0.6912178993225098}, {\"layer1\": 20.0, \"layer2\": 100.0, \"layer3\": 20.0, \"epoch\": 3.0, \"group\": \"testScore\", \"score\": 0.6780628561973572}], \"data-283fcb1dc37cf0ea055dc8561061874e\": [{\"layer1\": 100.0, \"layer2\": 20.0, \"layer3\": 5.0, \"epoch\": 1.0, \"group\": \"trainScore\", \"score\": 0.6875316500663757}, {\"layer1\": 100.0, \"layer2\": 20.0, \"layer3\": 5.0, \"epoch\": 2.0, \"group\": \"trainScore\", \"score\": 0.7354860901832581}, {\"layer1\": 100.0, \"layer2\": 20.0, \"layer3\": 5.0, \"epoch\": 3.0, \"group\": \"trainScore\", \"score\": 0.7790242433547974}, {\"layer1\": 100.0, \"layer2\": 20.0, \"layer3\": 20.0, \"epoch\": 1.0, \"group\": \"trainScore\", \"score\": 0.6871593594551086}, {\"layer1\": 100.0, \"layer2\": 20.0, \"layer3\": 20.0, \"epoch\": 2.0, \"group\": \"trainScore\", \"score\": 0.7359523177146912}, {\"layer1\": 100.0, \"layer2\": 20.0, \"layer3\": 20.0, \"epoch\": 3.0, \"group\": \"trainScore\", \"score\": 0.783588707447052}, {\"layer1\": 100.0, \"layer2\": 50.0, \"layer3\": 5.0, \"epoch\": 1.0, \"group\": \"trainScore\", \"score\": 0.684745192527771}, {\"layer1\": 100.0, \"layer2\": 50.0, \"layer3\": 5.0, \"epoch\": 2.0, \"group\": \"trainScore\", \"score\": 0.7349656820297241}, {\"layer1\": 100.0, \"layer2\": 50.0, \"layer3\": 5.0, \"epoch\": 3.0, \"group\": \"trainScore\", \"score\": 0.7798662781715393}, {\"layer1\": 100.0, \"layer2\": 50.0, \"layer3\": 20.0, \"epoch\": 1.0, \"group\": \"trainScore\", \"score\": 0.688861608505249}, {\"layer1\": 100.0, \"layer2\": 50.0, \"layer3\": 20.0, \"epoch\": 2.0, \"group\": \"trainScore\", \"score\": 0.736006498336792}, {\"layer1\": 100.0, \"layer2\": 50.0, \"layer3\": 20.0, \"epoch\": 3.0, \"group\": \"trainScore\", \"score\": 0.7803108096122742}, {\"layer1\": 100.0, \"layer2\": 100.0, \"layer3\": 5.0, \"epoch\": 1.0, \"group\": \"trainScore\", \"score\": 0.6891795992851257}, {\"layer1\": 100.0, \"layer2\": 100.0, \"layer3\": 5.0, \"epoch\": 2.0, \"group\": \"trainScore\", \"score\": 0.7371196150779724}, {\"layer1\": 100.0, \"layer2\": 100.0, \"layer3\": 5.0, \"epoch\": 3.0, \"group\": \"trainScore\", \"score\": 0.7822262644767761}, {\"layer1\": 100.0, \"layer2\": 100.0, \"layer3\": 20.0, \"epoch\": 1.0, \"group\": \"trainScore\", \"score\": 0.6898265480995178}, {\"layer1\": 100.0, \"layer2\": 100.0, \"layer3\": 20.0, \"epoch\": 2.0, \"group\": \"trainScore\", \"score\": 0.7364871501922607}, {\"layer1\": 100.0, \"layer2\": 100.0, \"layer3\": 20.0, \"epoch\": 3.0, \"group\": \"trainScore\", \"score\": 0.7812938094139099}, {\"layer1\": 100.0, \"layer2\": 20.0, \"layer3\": 5.0, \"epoch\": 1.0, \"group\": \"testScore\", \"score\": 0.7004119753837585}, {\"layer1\": 100.0, \"layer2\": 20.0, \"layer3\": 5.0, \"epoch\": 2.0, \"group\": \"testScore\", \"score\": 0.6922009587287903}, {\"layer1\": 100.0, \"layer2\": 20.0, \"layer3\": 5.0, \"epoch\": 3.0, \"group\": \"testScore\", \"score\": 0.6720346808433533}, {\"layer1\": 100.0, \"layer2\": 20.0, \"layer3\": 20.0, \"epoch\": 1.0, \"group\": \"testScore\", \"score\": 0.701004683971405}, {\"layer1\": 100.0, \"layer2\": 20.0, \"layer3\": 20.0, \"epoch\": 2.0, \"group\": \"testScore\", \"score\": 0.6910300254821777}, {\"layer1\": 100.0, \"layer2\": 20.0, \"layer3\": 20.0, \"epoch\": 3.0, \"group\": \"testScore\", \"score\": 0.6665558218955994}, {\"layer1\": 100.0, \"layer2\": 50.0, \"layer3\": 5.0, \"epoch\": 1.0, \"group\": \"testScore\", \"score\": 0.7002096176147461}, {\"layer1\": 100.0, \"layer2\": 50.0, \"layer3\": 5.0, \"epoch\": 2.0, \"group\": \"testScore\", \"score\": 0.6923310160636902}, {\"layer1\": 100.0, \"layer2\": 50.0, \"layer3\": 5.0, \"epoch\": 3.0, \"group\": \"testScore\", \"score\": 0.6712107062339783}, {\"layer1\": 100.0, \"layer2\": 50.0, \"layer3\": 20.0, \"epoch\": 1.0, \"group\": \"testScore\", \"score\": 0.702739417552948}, {\"layer1\": 100.0, \"layer2\": 50.0, \"layer3\": 20.0, \"epoch\": 2.0, \"group\": \"testScore\", \"score\": 0.691694974899292}, {\"layer1\": 100.0, \"layer2\": 50.0, \"layer3\": 20.0, \"epoch\": 3.0, \"group\": \"testScore\", \"score\": 0.6716732978820801}, {\"layer1\": 100.0, \"layer2\": 100.0, \"layer3\": 5.0, \"epoch\": 1.0, \"group\": \"testScore\", \"score\": 0.703288733959198}, {\"layer1\": 100.0, \"layer2\": 100.0, \"layer3\": 5.0, \"epoch\": 2.0, \"group\": \"testScore\", \"score\": 0.688832700252533}, {\"layer1\": 100.0, \"layer2\": 100.0, \"layer3\": 5.0, \"epoch\": 3.0, \"group\": \"testScore\", \"score\": 0.6728008389472961}, {\"layer1\": 100.0, \"layer2\": 100.0, \"layer3\": 20.0, \"epoch\": 1.0, \"group\": \"testScore\", \"score\": 0.7016696929931641}, {\"layer1\": 100.0, \"layer2\": 100.0, \"layer3\": 20.0, \"epoch\": 2.0, \"group\": \"testScore\", \"score\": 0.6915648579597473}, {\"layer1\": 100.0, \"layer2\": 100.0, \"layer3\": 20.0, \"epoch\": 3.0, \"group\": \"testScore\", \"score\": 0.6735525727272034}], \"data-d34a5034527b26fd13a878e63d0f13e5\": [{\"layer1\": 200.0, \"layer2\": 20.0, \"layer3\": 5.0, \"epoch\": 1.0, \"group\": \"trainScore\", \"score\": 0.6826454401016235}, {\"layer1\": 200.0, \"layer2\": 20.0, \"layer3\": 5.0, \"epoch\": 2.0, \"group\": \"trainScore\", \"score\": 0.7294362187385559}, {\"layer1\": 200.0, \"layer2\": 20.0, \"layer3\": 5.0, \"epoch\": 3.0, \"group\": \"trainScore\", \"score\": 0.7757318615913391}, {\"layer1\": 200.0, \"layer2\": 20.0, \"layer3\": 20.0, \"epoch\": 1.0, \"group\": \"trainScore\", \"score\": 0.689248263835907}, {\"layer1\": 200.0, \"layer2\": 20.0, \"layer3\": 20.0, \"epoch\": 2.0, \"group\": \"trainScore\", \"score\": 0.7375713586807251}, {\"layer1\": 200.0, \"layer2\": 20.0, \"layer3\": 20.0, \"epoch\": 3.0, \"group\": \"trainScore\", \"score\": 0.7858583331108093}, {\"layer1\": 200.0, \"layer2\": 50.0, \"layer3\": 5.0, \"epoch\": 1.0, \"group\": \"trainScore\", \"score\": 0.6884206533432007}, {\"layer1\": 200.0, \"layer2\": 50.0, \"layer3\": 5.0, \"epoch\": 2.0, \"group\": \"trainScore\", \"score\": 0.7375171780586243}, {\"layer1\": 200.0, \"layer2\": 50.0, \"layer3\": 5.0, \"epoch\": 3.0, \"group\": \"trainScore\", \"score\": 0.7859811782836914}, {\"layer1\": 200.0, \"layer2\": 50.0, \"layer3\": 20.0, \"epoch\": 1.0, \"group\": \"trainScore\", \"score\": 0.6899458169937134}, {\"layer1\": 200.0, \"layer2\": 50.0, \"layer3\": 20.0, \"epoch\": 2.0, \"group\": \"trainScore\", \"score\": 0.7357065677642822}, {\"layer1\": 200.0, \"layer2\": 50.0, \"layer3\": 20.0, \"epoch\": 3.0, \"group\": \"trainScore\", \"score\": 0.785229504108429}, {\"layer1\": 200.0, \"layer2\": 100.0, \"layer3\": 5.0, \"epoch\": 1.0, \"group\": \"trainScore\", \"score\": 0.6881821751594543}, {\"layer1\": 200.0, \"layer2\": 100.0, \"layer3\": 5.0, \"epoch\": 2.0, \"group\": \"trainScore\", \"score\": 0.7346512675285339}, {\"layer1\": 200.0, \"layer2\": 100.0, \"layer3\": 5.0, \"epoch\": 3.0, \"group\": \"trainScore\", \"score\": 0.7814925909042358}, {\"layer1\": 200.0, \"layer2\": 100.0, \"layer3\": 20.0, \"epoch\": 1.0, \"group\": \"trainScore\", \"score\": 0.6891579031944275}, {\"layer1\": 200.0, \"layer2\": 100.0, \"layer3\": 20.0, \"epoch\": 2.0, \"group\": \"trainScore\", \"score\": 0.7370328903198242}, {\"layer1\": 200.0, \"layer2\": 100.0, \"layer3\": 20.0, \"epoch\": 3.0, \"group\": \"trainScore\", \"score\": 0.7867003679275513}, {\"layer1\": 200.0, \"layer2\": 20.0, \"layer3\": 5.0, \"epoch\": 1.0, \"group\": \"testScore\", \"score\": 0.6982291340827942}, {\"layer1\": 200.0, \"layer2\": 20.0, \"layer3\": 5.0, \"epoch\": 2.0, \"group\": \"testScore\", \"score\": 0.6918106079101562}, {\"layer1\": 200.0, \"layer2\": 20.0, \"layer3\": 5.0, \"epoch\": 3.0, \"group\": \"testScore\", \"score\": 0.6750704646110535}, {\"layer1\": 200.0, \"layer2\": 20.0, \"layer3\": 20.0, \"epoch\": 1.0, \"group\": \"testScore\", \"score\": 0.7025948762893677}, {\"layer1\": 200.0, \"layer2\": 20.0, \"layer3\": 20.0, \"epoch\": 2.0, \"group\": \"testScore\", \"score\": 0.6947307586669922}, {\"layer1\": 200.0, \"layer2\": 20.0, \"layer3\": 20.0, \"epoch\": 3.0, \"group\": \"testScore\", \"score\": 0.6721792817115784}, {\"layer1\": 200.0, \"layer2\": 50.0, \"layer3\": 5.0, \"epoch\": 1.0, \"group\": \"testScore\", \"score\": 0.7022190093994141}, {\"layer1\": 200.0, \"layer2\": 50.0, \"layer3\": 5.0, \"epoch\": 2.0, \"group\": \"testScore\", \"score\": 0.690755307674408}, {\"layer1\": 200.0, \"layer2\": 50.0, \"layer3\": 5.0, \"epoch\": 3.0, \"group\": \"testScore\", \"score\": 0.6673509478569031}, {\"layer1\": 200.0, \"layer2\": 50.0, \"layer3\": 20.0, \"epoch\": 1.0, \"group\": \"testScore\", \"score\": 0.7010480761528015}, {\"layer1\": 200.0, \"layer2\": 50.0, \"layer3\": 20.0, \"epoch\": 2.0, \"group\": \"testScore\", \"score\": 0.6933284997940063}, {\"layer1\": 200.0, \"layer2\": 50.0, \"layer3\": 20.0, \"epoch\": 3.0, \"group\": \"testScore\", \"score\": 0.6702421307563782}, {\"layer1\": 200.0, \"layer2\": 100.0, \"layer3\": 5.0, \"epoch\": 1.0, \"group\": \"testScore\", \"score\": 0.701554000377655}, {\"layer1\": 200.0, \"layer2\": 100.0, \"layer3\": 5.0, \"epoch\": 2.0, \"group\": \"testScore\", \"score\": 0.6932128667831421}, {\"layer1\": 200.0, \"layer2\": 100.0, \"layer3\": 5.0, \"epoch\": 3.0, \"group\": \"testScore\", \"score\": 0.6725261807441711}, {\"layer1\": 200.0, \"layer2\": 100.0, \"layer3\": 20.0, \"epoch\": 1.0, \"group\": \"testScore\", \"score\": 0.7003108263015747}, {\"layer1\": 200.0, \"layer2\": 100.0, \"layer3\": 20.0, \"epoch\": 2.0, \"group\": \"testScore\", \"score\": 0.6927936673164368}, {\"layer1\": 200.0, \"layer2\": 100.0, \"layer3\": 20.0, \"epoch\": 3.0, \"group\": \"testScore\", \"score\": 0.6709360480308533}], \"data-df985df1638920b76760269b580f60c2\": [{\"layer1\": 500.0, \"layer2\": 20.0, \"layer3\": 5.0, \"epoch\": 1.0, \"group\": \"trainScore\", \"score\": 0.6888399124145508}, {\"layer1\": 500.0, \"layer2\": 20.0, \"layer3\": 5.0, \"epoch\": 2.0, \"group\": \"trainScore\", \"score\": 0.7383013963699341}, {\"layer1\": 500.0, \"layer2\": 20.0, \"layer3\": 5.0, \"epoch\": 3.0, \"group\": \"trainScore\", \"score\": 0.7902855277061462}, {\"layer1\": 500.0, \"layer2\": 20.0, \"layer3\": 20.0, \"epoch\": 1.0, \"group\": \"trainScore\", \"score\": 0.6895410418510437}, {\"layer1\": 500.0, \"layer2\": 20.0, \"layer3\": 20.0, \"epoch\": 2.0, \"group\": \"trainScore\", \"score\": 0.7366642355918884}, {\"layer1\": 500.0, \"layer2\": 20.0, \"layer3\": 20.0, \"epoch\": 3.0, \"group\": \"trainScore\", \"score\": 0.7884784936904907}, {\"layer1\": 500.0, \"layer2\": 50.0, \"layer3\": 5.0, \"epoch\": 1.0, \"group\": \"trainScore\", \"score\": 0.6895807981491089}, {\"layer1\": 500.0, \"layer2\": 50.0, \"layer3\": 5.0, \"epoch\": 2.0, \"group\": \"trainScore\", \"score\": 0.7381387948989868}, {\"layer1\": 500.0, \"layer2\": 50.0, \"layer3\": 5.0, \"epoch\": 3.0, \"group\": \"trainScore\", \"score\": 0.7912431955337524}, {\"layer1\": 500.0, \"layer2\": 50.0, \"layer3\": 20.0, \"epoch\": 1.0, \"group\": \"trainScore\", \"score\": 0.6886664032936096}, {\"layer1\": 500.0, \"layer2\": 50.0, \"layer3\": 20.0, \"epoch\": 2.0, \"group\": \"trainScore\", \"score\": 0.7371665835380554}, {\"layer1\": 500.0, \"layer2\": 50.0, \"layer3\": 20.0, \"epoch\": 3.0, \"group\": \"trainScore\", \"score\": 0.7912613153457642}, {\"layer1\": 500.0, \"layer2\": 100.0, \"layer3\": 5.0, \"epoch\": 1.0, \"group\": \"trainScore\", \"score\": 0.6893350481987}, {\"layer1\": 500.0, \"layer2\": 100.0, \"layer3\": 5.0, \"epoch\": 2.0, \"group\": \"trainScore\", \"score\": 0.7363606691360474}, {\"layer1\": 500.0, \"layer2\": 100.0, \"layer3\": 5.0, \"epoch\": 3.0, \"group\": \"trainScore\", \"score\": 0.7899855375289917}, {\"layer1\": 500.0, \"layer2\": 100.0, \"layer3\": 20.0, \"epoch\": 1.0, \"group\": \"trainScore\", \"score\": 0.6893097162246704}, {\"layer1\": 500.0, \"layer2\": 100.0, \"layer3\": 20.0, \"epoch\": 2.0, \"group\": \"trainScore\", \"score\": 0.7380375862121582}, {\"layer1\": 500.0, \"layer2\": 100.0, \"layer3\": 20.0, \"epoch\": 3.0, \"group\": \"trainScore\", \"score\": 0.7937188148498535}, {\"layer1\": 500.0, \"layer2\": 20.0, \"layer3\": 5.0, \"epoch\": 1.0, \"group\": \"testScore\", \"score\": 0.7006143927574158}, {\"layer1\": 500.0, \"layer2\": 20.0, \"layer3\": 5.0, \"epoch\": 2.0, \"group\": \"testScore\", \"score\": 0.6915937662124634}, {\"layer1\": 500.0, \"layer2\": 20.0, \"layer3\": 5.0, \"epoch\": 3.0, \"group\": \"testScore\", \"score\": 0.668941080570221}, {\"layer1\": 500.0, \"layer2\": 20.0, \"layer3\": 20.0, \"epoch\": 1.0, \"group\": \"testScore\", \"score\": 0.701250433921814}, {\"layer1\": 500.0, \"layer2\": 20.0, \"layer3\": 20.0, \"epoch\": 2.0, \"group\": \"testScore\", \"score\": 0.6934875249862671}, {\"layer1\": 500.0, \"layer2\": 20.0, \"layer3\": 20.0, \"epoch\": 3.0, \"group\": \"testScore\", \"score\": 0.6706902980804443}, {\"layer1\": 500.0, \"layer2\": 50.0, \"layer3\": 5.0, \"epoch\": 1.0, \"group\": \"testScore\", \"score\": 0.7017419338226318}, {\"layer1\": 500.0, \"layer2\": 50.0, \"layer3\": 5.0, \"epoch\": 2.0, \"group\": \"testScore\", \"score\": 0.6951355338096619}, {\"layer1\": 500.0, \"layer2\": 50.0, \"layer3\": 5.0, \"epoch\": 3.0, \"group\": \"testScore\", \"score\": 0.6652836799621582}, {\"layer1\": 500.0, \"layer2\": 50.0, \"layer3\": 20.0, \"epoch\": 1.0, \"group\": \"testScore\", \"score\": 0.7024213671684265}, {\"layer1\": 500.0, \"layer2\": 50.0, \"layer3\": 20.0, \"epoch\": 2.0, \"group\": \"testScore\", \"score\": 0.6926490664482117}, {\"layer1\": 500.0, \"layer2\": 50.0, \"layer3\": 20.0, \"epoch\": 3.0, \"group\": \"testScore\", \"score\": 0.6588796377182007}, {\"layer1\": 500.0, \"layer2\": 100.0, \"layer3\": 5.0, \"epoch\": 1.0, \"group\": \"testScore\", \"score\": 0.701554000377655}, {\"layer1\": 500.0, \"layer2\": 100.0, \"layer3\": 5.0, \"epoch\": 2.0, \"group\": \"testScore\", \"score\": 0.6928080916404724}, {\"layer1\": 500.0, \"layer2\": 100.0, \"layer3\": 5.0, \"epoch\": 3.0, \"group\": \"testScore\", \"score\": 0.6646620631217957}, {\"layer1\": 500.0, \"layer2\": 100.0, \"layer3\": 20.0, \"epoch\": 1.0, \"group\": \"testScore\", \"score\": 0.7007445096969604}, {\"layer1\": 500.0, \"layer2\": 100.0, \"layer3\": 20.0, \"epoch\": 2.0, \"group\": \"testScore\", \"score\": 0.6921141743659973}, {\"layer1\": 500.0, \"layer2\": 100.0, \"layer3\": 20.0, \"epoch\": 3.0, \"group\": \"testScore\", \"score\": 0.6610480546951294}]}}, {\"mode\": \"vega-lite\"});\n",
       "</script>"
      ],
      "text/plain": [
       "alt.HConcatChart(...)"
      ]
     },
     "execution_count": 34,
     "metadata": {},
     "output_type": "execute_result"
    }
   ],
   "source": [
    "resLong = res_FFNN.melt(id_vars=['layer1', 'layer2', 'layer3', 'epoch'], value_vars=['trainScore', 'testScore'],\n",
    "         var_name='group', value_name='score')\n",
    "\n",
    "layer1_20 = alt.Chart(resLong[resLong.layer1==20]).mark_line().encode(\n",
    "    row = 'layer2',\n",
    "    column = 'layer3',\n",
    "    x = 'epoch',\n",
    "    y = alt.Y('score', scale=alt.Scale(domain=[0.6,0.8])),\n",
    "    color = 'group',\n",
    "    tooltip = 'score'\n",
    ").properties(width=50, height=50)\n",
    "\n",
    "layer1_100 = alt.Chart(resLong[resLong.layer1==100]).mark_line().encode(\n",
    "    row = 'layer2',\n",
    "    column = 'layer3',\n",
    "    x = 'epoch',\n",
    "    y = alt.Y('score', scale=alt.Scale(domain=[0.6,0.8])),\n",
    "    color = 'group',\n",
    "    tooltip = 'score'\n",
    ").properties(width=50, height=50)\n",
    "\n",
    "layer1_200 = alt.Chart(resLong[resLong.layer1==200]).mark_line().encode(\n",
    "    row = 'layer2',\n",
    "    column = 'layer3',\n",
    "    x = 'epoch',\n",
    "    y = alt.Y('score', scale=alt.Scale(domain=[0.6,0.8])),\n",
    "    color = 'group',\n",
    "    tooltip = 'score'\n",
    ").properties(width=50, height=50)\n",
    "\n",
    "layer1_500 = alt.Chart(resLong[resLong.layer1==500]).mark_line().encode(\n",
    "    row = 'layer2',\n",
    "    column = 'layer3',\n",
    "    x = 'epoch',\n",
    "    y = alt.Y('score', scale=alt.Scale(domain=[0.6,0.8])),\n",
    "    color = 'group',\n",
    "    tooltip = 'score'\n",
    ").properties(width=50, height=50)\n",
    "\n",
    "layer1_20 | layer1_100 | layer1_200 | layer1_500"
   ]
  },
  {
   "cell_type": "code",
   "execution_count": 35,
   "id": "fcedd42a-7d37-4802-840f-e90a2e2b9a36",
   "metadata": {},
   "outputs": [
    {
     "name": "stdout",
     "output_type": "stream",
     "text": [
      "Epoch 1/2\n",
      "1730/1730 [==============================] - 9s 4ms/step - loss: 0.5869 - accuracy: 0.6830 - recall: 0.7100 - val_loss: 0.5653 - val_accuracy: 0.6964 - val_recall: 0.7195\n",
      "Epoch 2/2\n",
      "1730/1730 [==============================] - 8s 4ms/step - loss: 0.5188 - accuracy: 0.7333 - recall: 0.7536 - val_loss: 0.5785 - val_accuracy: 0.6873 - val_recall: 0.7003\n",
      "Epoch 1/2\n",
      "1730/1730 [==============================] - 9s 4ms/step - loss: 0.5856 - accuracy: 0.6844 - recall: 0.7098 - val_loss: 0.5702 - val_accuracy: 0.6931 - val_recall: 0.7603\n",
      "Epoch 2/2\n",
      "1730/1730 [==============================] - 7s 4ms/step - loss: 0.5185 - accuracy: 0.7333 - recall: 0.7586 - val_loss: 0.5870 - val_accuracy: 0.6855 - val_recall: 0.7096\n",
      "Epoch 1/2\n",
      "1730/1730 [==============================] - 9s 4ms/step - loss: 0.5875 - accuracy: 0.6839 - recall: 0.7060 - val_loss: 0.5688 - val_accuracy: 0.6948 - val_recall: 0.7130\n",
      "Epoch 2/2\n",
      "1730/1730 [==============================] - 8s 4ms/step - loss: 0.5210 - accuracy: 0.7322 - recall: 0.7551 - val_loss: 0.5825 - val_accuracy: 0.6848 - val_recall: 0.7379\n",
      "Epoch 1/2\n",
      "1730/1730 [==============================] - 9s 4ms/step - loss: 0.5864 - accuracy: 0.6837 - recall: 0.7101 - val_loss: 0.5659 - val_accuracy: 0.6969 - val_recall: 0.7751\n",
      "Epoch 2/2\n",
      "1730/1730 [==============================] - 7s 4ms/step - loss: 0.5168 - accuracy: 0.7339 - recall: 0.7565 - val_loss: 0.5841 - val_accuracy: 0.6879 - val_recall: 0.6754\n",
      "Epoch 1/2\n",
      "1730/1730 [==============================] - 9s 4ms/step - loss: 0.5863 - accuracy: 0.6845 - recall: 0.7120 - val_loss: 0.5645 - val_accuracy: 0.6966 - val_recall: 0.7433\n",
      "Epoch 2/2\n",
      "1730/1730 [==============================] - 8s 4ms/step - loss: 0.5202 - accuracy: 0.7334 - recall: 0.7546 - val_loss: 0.5819 - val_accuracy: 0.6824 - val_recall: 0.6818\n"
     ]
    }
   ],
   "source": [
    "# generate report result\n",
    "\n",
    "res_FFNN_report = pd.DataFrame(columns=['rand', 'trainScore_accuracy', 'trainScore_recall',\n",
    "                           'testScore_accuracy', 'testScore_recall'])\n",
    "\n",
    "for rand in [10, 20, 30, 40, 50]:\n",
    "    X_train_, X_test_, y_train_, y_test_ = \\\n",
    "        train_test_split(X_train_tfidf, y_train_tfidf, test_size=0.2, random_state=rand)\n",
    "    \n",
    "    input_shape = X_train_.shape[1]\n",
    "    \n",
    "    inputs = keras.Input(shape=(input_shape, ))\n",
    "    x = layers.Dense(20, activation='relu')(inputs)\n",
    "    x = layers.Dense(50, activation='relu')(x)\n",
    "    x = layers.Dense(20, activation='relu')(x)\n",
    "    outputs = layers.Dense(1, activation='sigmoid')(x)\n",
    "\n",
    "    model = keras.Model(inputs=inputs, outputs=outputs)\n",
    "    model.compile(loss='binary_crossentropy', metrics=['accuracy', 'Recall'], optimizer='adam')\n",
    "    model.fit(x=X_train_, y=y_train_.values, validation_data=(X_test_, y_test_.values),\n",
    "        epochs=2, batch_size=128, verbose=1)\n",
    "\n",
    "    history = model.history.history\n",
    "\n",
    "    res_FFNN_report = res_FFNN_report.append({'rand':rand, 'trainScore_accuracy':history['accuracy'][1],\n",
    "                      'trainScore_recall':history['recall'][1],\n",
    "                      'testScore_accuracy':history['val_accuracy'][1],\n",
    "                      'testScore_recall':history['val_recall'][1],}, ignore_index=True)"
   ]
  },
  {
   "cell_type": "code",
   "execution_count": 36,
   "id": "63b63ace-0e3b-4535-bcdf-1cb0117d3b6d",
   "metadata": {
    "tags": []
   },
   "outputs": [
    {
     "data": {
      "text/html": [
       "<div>\n",
       "<style scoped>\n",
       "    .dataframe tbody tr th:only-of-type {\n",
       "        vertical-align: middle;\n",
       "    }\n",
       "\n",
       "    .dataframe tbody tr th {\n",
       "        vertical-align: top;\n",
       "    }\n",
       "\n",
       "    .dataframe thead th {\n",
       "        text-align: right;\n",
       "    }\n",
       "</style>\n",
       "<table border=\"1\" class=\"dataframe\">\n",
       "  <thead>\n",
       "    <tr style=\"text-align: right;\">\n",
       "      <th></th>\n",
       "      <th>n_estimators</th>\n",
       "      <th>leraning_rate</th>\n",
       "      <th>trainScore</th>\n",
       "      <th>testScore</th>\n",
       "      <th>learning_rate</th>\n",
       "    </tr>\n",
       "  </thead>\n",
       "  <tbody>\n",
       "    <tr>\n",
       "      <th>count</th>\n",
       "      <td>12.000000</td>\n",
       "      <td>0.0</td>\n",
       "      <td>12.000000</td>\n",
       "      <td>12.000000</td>\n",
       "      <td>12.000000</td>\n",
       "    </tr>\n",
       "    <tr>\n",
       "      <th>mean</th>\n",
       "      <td>103.333333</td>\n",
       "      <td>NaN</td>\n",
       "      <td>0.637953</td>\n",
       "      <td>0.633609</td>\n",
       "      <td>2.777500</td>\n",
       "    </tr>\n",
       "    <tr>\n",
       "      <th>std</th>\n",
       "      <td>81.053667</td>\n",
       "      <td>NaN</td>\n",
       "      <td>0.073196</td>\n",
       "      <td>0.071450</td>\n",
       "      <td>4.374058</td>\n",
       "    </tr>\n",
       "    <tr>\n",
       "      <th>min</th>\n",
       "      <td>10.000000</td>\n",
       "      <td>NaN</td>\n",
       "      <td>0.522841</td>\n",
       "      <td>0.518786</td>\n",
       "      <td>0.010000</td>\n",
       "    </tr>\n",
       "    <tr>\n",
       "      <th>25%</th>\n",
       "      <td>10.000000</td>\n",
       "      <td>NaN</td>\n",
       "      <td>0.609008</td>\n",
       "      <td>0.608536</td>\n",
       "      <td>0.077500</td>\n",
       "    </tr>\n",
       "    <tr>\n",
       "      <th>50%</th>\n",
       "      <td>100.000000</td>\n",
       "      <td>NaN</td>\n",
       "      <td>0.658910</td>\n",
       "      <td>0.658937</td>\n",
       "      <td>0.550000</td>\n",
       "    </tr>\n",
       "    <tr>\n",
       "      <th>75%</th>\n",
       "      <td>200.000000</td>\n",
       "      <td>NaN</td>\n",
       "      <td>0.684124</td>\n",
       "      <td>0.681406</td>\n",
       "      <td>3.250000</td>\n",
       "    </tr>\n",
       "    <tr>\n",
       "      <th>max</th>\n",
       "      <td>200.000000</td>\n",
       "      <td>NaN</td>\n",
       "      <td>0.722125</td>\n",
       "      <td>0.699082</td>\n",
       "      <td>10.000000</td>\n",
       "    </tr>\n",
       "  </tbody>\n",
       "</table>\n",
       "</div>"
      ],
      "text/plain": [
       "       n_estimators  leraning_rate  trainScore  testScore  learning_rate\n",
       "count     12.000000            0.0   12.000000  12.000000      12.000000\n",
       "mean     103.333333            NaN    0.637953   0.633609       2.777500\n",
       "std       81.053667            NaN    0.073196   0.071450       4.374058\n",
       "min       10.000000            NaN    0.522841   0.518786       0.010000\n",
       "25%       10.000000            NaN    0.609008   0.608536       0.077500\n",
       "50%      100.000000            NaN    0.658910   0.658937       0.550000\n",
       "75%      200.000000            NaN    0.684124   0.681406       3.250000\n",
       "max      200.000000            NaN    0.722125   0.699082      10.000000"
      ]
     },
     "execution_count": 36,
     "metadata": {},
     "output_type": "execute_result"
    }
   ],
   "source": [
    "res.describe()"
   ]
  },
  {
   "cell_type": "markdown",
   "id": "answering-complexity",
   "metadata": {
    "id": "answering-complexity"
   },
   "source": [
    "### b) CNN"
   ]
  },
  {
   "cell_type": "code",
   "execution_count": 37,
   "id": "8wc-hK3pZ1Pe",
   "metadata": {
    "colab": {
     "base_uri": "https://localhost:8080/"
    },
    "collapsed": true,
    "id": "8wc-hK3pZ1Pe",
    "jupyter": {
     "outputs_hidden": true
    },
    "outputId": "748c9678-f1d5-44a3-e1b3-5486722347d7",
    "tags": []
   },
   "outputs": [
    {
     "name": "stderr",
     "output_type": "stream",
     "text": [
      "  0%|          | 0/2 [00:00<?, ?it/s]\n",
      "  0%|          | 0/2 [00:00<?, ?it/s]\u001b[A\n",
      "\n",
      "  0%|          | 0/2 [00:00<?, ?it/s]\u001b[A\u001b[A"
     ]
    },
    {
     "name": "stdout",
     "output_type": "stream",
     "text": [
      "Epoch 1/2\n",
      "326/326 [==============================] - 73s 221ms/step - loss: 0.6024 - accuracy: 0.6763 - val_loss: 0.5675 - val_accuracy: 0.6986\n",
      "Epoch 2/2\n",
      "326/326 [==============================] - 72s 220ms/step - loss: 0.5137 - accuracy: 0.7481 - val_loss: 0.5560 - val_accuracy: 0.7084\n"
     ]
    },
    {
     "name": "stderr",
     "output_type": "stream",
     "text": [
      "\n",
      "\n",
      " 50%|█████     | 1/2 [02:24<02:24, 144.74s/it]\u001b[A\u001b[A"
     ]
    },
    {
     "name": "stdout",
     "output_type": "stream",
     "text": [
      "Epoch 1/2\n",
      "326/326 [==============================] - 73s 220ms/step - loss: 0.5973 - accuracy: 0.6768 - val_loss: 0.5604 - val_accuracy: 0.7051\n",
      "Epoch 2/2\n",
      "326/326 [==============================] - 71s 217ms/step - loss: 0.4954 - accuracy: 0.7577 - val_loss: 0.5565 - val_accuracy: 0.7097\n"
     ]
    },
    {
     "name": "stderr",
     "output_type": "stream",
     "text": [
      "\n",
      "\n",
      "100%|██████████| 2/2 [04:48<00:00, 144.09s/it]\u001b[A\u001b[A\n",
      "\n",
      " 50%|█████     | 1/2 [04:48<04:48, 288.18s/it]\u001b[A\n",
      "\n",
      "  0%|          | 0/2 [00:00<?, ?it/s]\u001b[A\u001b[A"
     ]
    },
    {
     "name": "stdout",
     "output_type": "stream",
     "text": [
      "Epoch 1/2\n",
      "326/326 [==============================] - 75s 227ms/step - loss: 0.5967 - accuracy: 0.6801 - val_loss: 0.5613 - val_accuracy: 0.7036\n",
      "Epoch 2/2\n",
      "326/326 [==============================] - 74s 226ms/step - loss: 0.5074 - accuracy: 0.7489 - val_loss: 0.5605 - val_accuracy: 0.7061\n"
     ]
    },
    {
     "name": "stderr",
     "output_type": "stream",
     "text": [
      "\n",
      "\n",
      " 50%|█████     | 1/2 [02:28<02:28, 148.88s/it]\u001b[A\u001b[A"
     ]
    },
    {
     "name": "stdout",
     "output_type": "stream",
     "text": [
      "Epoch 1/2\n",
      "326/326 [==============================] - 75s 226ms/step - loss: 0.5939 - accuracy: 0.6808 - val_loss: 0.5589 - val_accuracy: 0.7066\n",
      "Epoch 2/2\n",
      "326/326 [==============================] - 73s 225ms/step - loss: 0.4962 - accuracy: 0.7552 - val_loss: 0.5518 - val_accuracy: 0.7124\n"
     ]
    },
    {
     "name": "stderr",
     "output_type": "stream",
     "text": [
      "\n",
      "\n",
      "100%|██████████| 2/2 [04:56<00:00, 148.41s/it]\u001b[A\u001b[A\n",
      "\n",
      "100%|██████████| 2/2 [09:45<00:00, 292.50s/it]\u001b[A\n",
      " 50%|█████     | 1/2 [09:45<09:45, 585.01s/it]\n",
      "  0%|          | 0/2 [00:00<?, ?it/s]\u001b[A\n",
      "\n",
      "  0%|          | 0/2 [00:00<?, ?it/s]\u001b[A\u001b[A"
     ]
    },
    {
     "name": "stdout",
     "output_type": "stream",
     "text": [
      "Epoch 1/2\n",
      "326/326 [==============================] - 88s 266ms/step - loss: 0.5963 - accuracy: 0.6786 - val_loss: 0.5600 - val_accuracy: 0.7045\n",
      "Epoch 2/2\n",
      "326/326 [==============================] - 86s 264ms/step - loss: 0.5054 - accuracy: 0.7495 - val_loss: 0.5576 - val_accuracy: 0.7082\n"
     ]
    },
    {
     "name": "stderr",
     "output_type": "stream",
     "text": [
      "\n",
      "\n",
      " 50%|█████     | 1/2 [02:53<02:53, 173.79s/it]\u001b[A\u001b[A"
     ]
    },
    {
     "name": "stdout",
     "output_type": "stream",
     "text": [
      "Epoch 1/2\n",
      "326/326 [==============================] - 87s 265ms/step - loss: 0.5939 - accuracy: 0.6804 - val_loss: 0.5590 - val_accuracy: 0.7071\n",
      "Epoch 2/2\n",
      "326/326 [==============================] - 86s 265ms/step - loss: 0.4978 - accuracy: 0.7545 - val_loss: 0.5559 - val_accuracy: 0.7110\n"
     ]
    },
    {
     "name": "stderr",
     "output_type": "stream",
     "text": [
      "\n",
      "\n",
      "100%|██████████| 2/2 [05:47<00:00, 173.64s/it]\u001b[A\u001b[A\n",
      "\n",
      " 50%|█████     | 1/2 [05:47<05:47, 347.28s/it]\u001b[A\n",
      "\n",
      "  0%|          | 0/2 [00:00<?, ?it/s]\u001b[A\u001b[A"
     ]
    },
    {
     "name": "stdout",
     "output_type": "stream",
     "text": [
      "Epoch 1/2\n",
      "326/326 [==============================] - 91s 278ms/step - loss: 0.5920 - accuracy: 0.6813 - val_loss: 0.5548 - val_accuracy: 0.7063\n",
      "Epoch 2/2\n",
      "326/326 [==============================] - 91s 279ms/step - loss: 0.5029 - accuracy: 0.7477 - val_loss: 0.5514 - val_accuracy: 0.7108\n"
     ]
    },
    {
     "name": "stderr",
     "output_type": "stream",
     "text": [
      "\n",
      "\n",
      " 50%|█████     | 1/2 [03:02<03:02, 182.35s/it]\u001b[A\u001b[A"
     ]
    },
    {
     "name": "stdout",
     "output_type": "stream",
     "text": [
      "Epoch 1/2\n",
      "326/326 [==============================] - 92s 278ms/step - loss: 0.5879 - accuracy: 0.6833 - val_loss: 0.5551 - val_accuracy: 0.7065\n",
      "Epoch 2/2\n",
      "326/326 [==============================] - 91s 280ms/step - loss: 0.4942 - accuracy: 0.7544 - val_loss: 0.5513 - val_accuracy: 0.7072\n"
     ]
    },
    {
     "name": "stderr",
     "output_type": "stream",
     "text": [
      "\n",
      "\n",
      "100%|██████████| 2/2 [06:05<00:00, 182.58s/it]\u001b[A\u001b[A\n",
      "\n",
      "100%|██████████| 2/2 [11:52<00:00, 356.22s/it]\u001b[A\n",
      "100%|██████████| 2/2 [21:37<00:00, 648.73s/it]"
     ]
    },
    {
     "name": "stdout",
     "output_type": "stream",
     "text": [
      "\n",
      "\n",
      "total run time: 21.624282042185467 mins\n"
     ]
    },
    {
     "name": "stderr",
     "output_type": "stream",
     "text": [
      "\n"
     ]
    }
   ],
   "source": [
    "start_time = time.time()\n",
    "\n",
    "layers1 = [32, 128]\n",
    "layers2 = [32, 128]\n",
    "layers3 = [32, 128]\n",
    "dropRate = 0.2\n",
    "convSize = 7\n",
    "striSize = 3\n",
    "input_shape = 500\n",
    "max_features = 40000\n",
    "embedding_dim = 128\n",
    "ep_size = 2\n",
    "batch_size = 1024\n",
    "\n",
    "res_CNN = pd.DataFrame(columns=['layer1', 'layer2', 'layer3', 'epoch', 'trainScore', 'testScore'])\n",
    "\n",
    "for units_1 in tqdm(layers1):\n",
    "    for units_2 in tqdm(layers2):\n",
    "        for units_3 in tqdm(layers3):\n",
    "        \n",
    "            inputs = keras.Input(shape=(input_shape,), dtype=\"int64\")\n",
    "\n",
    "            x = layers.Embedding(max_features, embedding_dim)(inputs)\n",
    "            x = layers.Dropout(dropRate)(x)\n",
    "\n",
    "            x = layers.Conv1D(units_1, convSize, padding=\"valid\", activation=\"relu\", strides=striSize)(x)\n",
    "            x = layers.Conv1D(units_2, convSize, padding=\"valid\", activation=\"relu\", strides=striSize)(x)\n",
    "            x = layers.GlobalMaxPooling1D()(x)\n",
    "\n",
    "            x = layers.Dense(units_3, activation=\"relu\")(x)\n",
    "            x = layers.Dropout(dropRate)(x)\n",
    "\n",
    "            outputs = layers.Dense(1, activation=\"sigmoid\")(x)\n",
    "\n",
    "            model = keras.Model(inputs=inputs, outputs=outputs)\n",
    "            model.compile(loss='binary_crossentropy', metrics=['accuracy'], optimizer='adam')\n",
    "            model.fit(x=X_train_indice, y=y_train_indice.values, validation_data=(X_test_indice, y_test_indice.values),\n",
    "                      epochs=ep_size, batch_size=batch_size, verbose=1)\n",
    "\n",
    "            history = model.history.history\n",
    "\n",
    "            for ep in np.arange(ep_size):\n",
    "                res_CNN = res_CNN.append({'layer1':units_1, 'layer2':units_2, 'layer3':units_3, 'epoch':ep+1,\n",
    "                                  'trainScore':history['accuracy'][ep],\n",
    "                                  'testScore':history['val_accuracy'][ep]}, ignore_index=True)\n",
    "                \n",
    "                \n",
    "# get run time\n",
    "end_time = time.time()\n",
    "delta_time = end_time - start_time\n",
    "print('\\n')\n",
    "print(\"total run time: {} mins\".format(delta_time/60))"
   ]
  },
  {
   "cell_type": "code",
   "execution_count": 38,
   "id": "0cdc8e20-3a2e-4140-b8ae-754847132418",
   "metadata": {},
   "outputs": [
    {
     "data": {
      "text/html": [
       "\n",
       "<div id=\"altair-viz-138614008503477dbf548ff2565a6218\"></div>\n",
       "<script type=\"text/javascript\">\n",
       "  var VEGA_DEBUG = (typeof VEGA_DEBUG == \"undefined\") ? {} : VEGA_DEBUG;\n",
       "  (function(spec, embedOpt){\n",
       "    let outputDiv = document.currentScript.previousElementSibling;\n",
       "    if (outputDiv.id !== \"altair-viz-138614008503477dbf548ff2565a6218\") {\n",
       "      outputDiv = document.getElementById(\"altair-viz-138614008503477dbf548ff2565a6218\");\n",
       "    }\n",
       "    const paths = {\n",
       "      \"vega\": \"https://cdn.jsdelivr.net/npm//vega@5?noext\",\n",
       "      \"vega-lib\": \"https://cdn.jsdelivr.net/npm//vega-lib?noext\",\n",
       "      \"vega-lite\": \"https://cdn.jsdelivr.net/npm//vega-lite@4.17.0?noext\",\n",
       "      \"vega-embed\": \"https://cdn.jsdelivr.net/npm//vega-embed@6?noext\",\n",
       "    };\n",
       "\n",
       "    function maybeLoadScript(lib, version) {\n",
       "      var key = `${lib.replace(\"-\", \"\")}_version`;\n",
       "      return (VEGA_DEBUG[key] == version) ?\n",
       "        Promise.resolve(paths[lib]) :\n",
       "        new Promise(function(resolve, reject) {\n",
       "          var s = document.createElement('script');\n",
       "          document.getElementsByTagName(\"head\")[0].appendChild(s);\n",
       "          s.async = true;\n",
       "          s.onload = () => {\n",
       "            VEGA_DEBUG[key] = version;\n",
       "            return resolve(paths[lib]);\n",
       "          };\n",
       "          s.onerror = () => reject(`Error loading script: ${paths[lib]}`);\n",
       "          s.src = paths[lib];\n",
       "        });\n",
       "    }\n",
       "\n",
       "    function showError(err) {\n",
       "      outputDiv.innerHTML = `<div class=\"error\" style=\"color:red;\">${err}</div>`;\n",
       "      throw err;\n",
       "    }\n",
       "\n",
       "    function displayChart(vegaEmbed) {\n",
       "      vegaEmbed(outputDiv, spec, embedOpt)\n",
       "        .catch(err => showError(`Javascript Error: ${err.message}<br>This usually means there's a typo in your chart specification. See the javascript console for the full traceback.`));\n",
       "    }\n",
       "\n",
       "    if(typeof define === \"function\" && define.amd) {\n",
       "      requirejs.config({paths});\n",
       "      require([\"vega-embed\"], displayChart, err => showError(`Error loading script: ${err.message}`));\n",
       "    } else {\n",
       "      maybeLoadScript(\"vega\", \"5\")\n",
       "        .then(() => maybeLoadScript(\"vega-lite\", \"4.17.0\"))\n",
       "        .then(() => maybeLoadScript(\"vega-embed\", \"6\"))\n",
       "        .catch(showError)\n",
       "        .then(() => displayChart(vegaEmbed));\n",
       "    }\n",
       "  })({\"config\": {\"view\": {\"continuousWidth\": 400, \"continuousHeight\": 300}}, \"hconcat\": [{\"data\": {\"name\": \"data-de40d363454793221ad9ab4e7fff990a\"}, \"mark\": \"line\", \"encoding\": {\"color\": {\"field\": \"group\", \"type\": \"nominal\"}, \"column\": {\"field\": \"layer3\", \"type\": \"quantitative\"}, \"row\": {\"field\": \"layer2\", \"type\": \"quantitative\"}, \"tooltip\": {\"field\": \"score\", \"type\": \"quantitative\"}, \"x\": {\"field\": \"epoch\", \"type\": \"quantitative\"}, \"y\": {\"field\": \"score\", \"scale\": {\"domain\": [0.6, 0.8]}, \"type\": \"quantitative\"}}, \"height\": 50, \"width\": 50}, {\"data\": {\"name\": \"data-67ce1029c906803127170659da15c53f\"}, \"mark\": \"line\", \"encoding\": {\"color\": {\"field\": \"group\", \"type\": \"nominal\"}, \"column\": {\"field\": \"layer3\", \"type\": \"quantitative\"}, \"row\": {\"field\": \"layer2\", \"type\": \"quantitative\"}, \"tooltip\": {\"field\": \"score\", \"type\": \"quantitative\"}, \"x\": {\"field\": \"epoch\", \"type\": \"quantitative\"}, \"y\": {\"field\": \"score\", \"scale\": {\"domain\": [0.6, 0.8]}, \"type\": \"quantitative\"}}, \"height\": 50, \"width\": 50}], \"$schema\": \"https://vega.github.io/schema/vega-lite/v4.17.0.json\", \"datasets\": {\"data-de40d363454793221ad9ab4e7fff990a\": [{\"layer1\": 32.0, \"layer2\": 32.0, \"layer3\": 32.0, \"epoch\": 1.0, \"group\": \"trainScore\", \"score\": 0.6763213276863098}, {\"layer1\": 32.0, \"layer2\": 32.0, \"layer3\": 32.0, \"epoch\": 2.0, \"group\": \"trainScore\", \"score\": 0.7480849623680115}, {\"layer1\": 32.0, \"layer2\": 32.0, \"layer3\": 128.0, \"epoch\": 1.0, \"group\": \"trainScore\", \"score\": 0.6768192052841187}, {\"layer1\": 32.0, \"layer2\": 32.0, \"layer3\": 128.0, \"epoch\": 2.0, \"group\": \"trainScore\", \"score\": 0.7576796412467957}, {\"layer1\": 32.0, \"layer2\": 128.0, \"layer3\": 32.0, \"epoch\": 1.0, \"group\": \"trainScore\", \"score\": 0.6801034212112427}, {\"layer1\": 32.0, \"layer2\": 128.0, \"layer3\": 32.0, \"epoch\": 2.0, \"group\": \"trainScore\", \"score\": 0.7488557696342468}, {\"layer1\": 32.0, \"layer2\": 128.0, \"layer3\": 128.0, \"epoch\": 1.0, \"group\": \"trainScore\", \"score\": 0.6807632446289062}, {\"layer1\": 32.0, \"layer2\": 128.0, \"layer3\": 128.0, \"epoch\": 2.0, \"group\": \"trainScore\", \"score\": 0.7551872730255127}, {\"layer1\": 32.0, \"layer2\": 32.0, \"layer3\": 32.0, \"epoch\": 1.0, \"group\": \"testScore\", \"score\": 0.6985987424850464}, {\"layer1\": 32.0, \"layer2\": 32.0, \"layer3\": 32.0, \"epoch\": 2.0, \"group\": \"testScore\", \"score\": 0.7083883285522461}, {\"layer1\": 32.0, \"layer2\": 32.0, \"layer3\": 128.0, \"epoch\": 1.0, \"group\": \"testScore\", \"score\": 0.7051011323928833}, {\"layer1\": 32.0, \"layer2\": 32.0, \"layer3\": 128.0, \"epoch\": 2.0, \"group\": \"testScore\", \"score\": 0.7096840143203735}, {\"layer1\": 32.0, \"layer2\": 128.0, \"layer3\": 32.0, \"epoch\": 1.0, \"group\": \"testScore\", \"score\": 0.7036374807357788}, {\"layer1\": 32.0, \"layer2\": 128.0, \"layer3\": 32.0, \"epoch\": 2.0, \"group\": \"testScore\", \"score\": 0.7061328887939453}, {\"layer1\": 32.0, \"layer2\": 128.0, \"layer3\": 128.0, \"epoch\": 1.0, \"group\": \"testScore\", \"score\": 0.7065528035163879}, {\"layer1\": 32.0, \"layer2\": 128.0, \"layer3\": 128.0, \"epoch\": 2.0, \"group\": \"testScore\", \"score\": 0.7123953104019165}], \"data-67ce1029c906803127170659da15c53f\": [{\"layer1\": 128.0, \"layer2\": 32.0, \"layer3\": 32.0, \"epoch\": 1.0, \"group\": \"trainScore\", \"score\": 0.678642749786377}, {\"layer1\": 128.0, \"layer2\": 32.0, \"layer3\": 32.0, \"epoch\": 2.0, \"group\": \"trainScore\", \"score\": 0.7495155930519104}, {\"layer1\": 128.0, \"layer2\": 32.0, \"layer3\": 128.0, \"epoch\": 1.0, \"group\": \"trainScore\", \"score\": 0.6804003715515137}, {\"layer1\": 128.0, \"layer2\": 32.0, \"layer3\": 128.0, \"epoch\": 2.0, \"group\": \"trainScore\", \"score\": 0.7544944286346436}, {\"layer1\": 128.0, \"layer2\": 128.0, \"layer3\": 32.0, \"epoch\": 1.0, \"group\": \"trainScore\", \"score\": 0.6812881231307983}, {\"layer1\": 128.0, \"layer2\": 128.0, \"layer3\": 32.0, \"epoch\": 2.0, \"group\": \"trainScore\", \"score\": 0.7477220296859741}, {\"layer1\": 128.0, \"layer2\": 128.0, \"layer3\": 128.0, \"epoch\": 1.0, \"group\": \"trainScore\", \"score\": 0.6832706332206726}, {\"layer1\": 128.0, \"layer2\": 128.0, \"layer3\": 128.0, \"epoch\": 2.0, \"group\": \"trainScore\", \"score\": 0.7544434070587158}, {\"layer1\": 128.0, \"layer2\": 32.0, \"layer3\": 32.0, \"epoch\": 1.0, \"group\": \"testScore\", \"score\": 0.7044773101806641}, {\"layer1\": 128.0, \"layer2\": 32.0, \"layer3\": 32.0, \"epoch\": 2.0, \"group\": \"testScore\", \"score\": 0.7082443833351135}, {\"layer1\": 128.0, \"layer2\": 32.0, \"layer3\": 128.0, \"epoch\": 1.0, \"group\": \"testScore\", \"score\": 0.7071046233177185}, {\"layer1\": 128.0, \"layer2\": 32.0, \"layer3\": 128.0, \"epoch\": 2.0, \"group\": \"testScore\", \"score\": 0.7109556794166565}, {\"layer1\": 128.0, \"layer2\": 128.0, \"layer3\": 32.0, \"epoch\": 1.0, \"group\": \"testScore\", \"score\": 0.7062888145446777}, {\"layer1\": 128.0, \"layer2\": 128.0, \"layer3\": 32.0, \"epoch\": 2.0, \"group\": \"testScore\", \"score\": 0.7108356952667236}, {\"layer1\": 128.0, \"layer2\": 128.0, \"layer3\": 128.0, \"epoch\": 1.0, \"group\": \"testScore\", \"score\": 0.7064927816390991}, {\"layer1\": 128.0, \"layer2\": 128.0, \"layer3\": 128.0, \"epoch\": 2.0, \"group\": \"testScore\", \"score\": 0.7071766257286072}]}}, {\"mode\": \"vega-lite\"});\n",
       "</script>"
      ],
      "text/plain": [
       "alt.HConcatChart(...)"
      ]
     },
     "execution_count": 38,
     "metadata": {},
     "output_type": "execute_result"
    }
   ],
   "source": [
    "resLong = res_CNN.melt(id_vars=['layer1', 'layer2', 'layer3', 'epoch'], value_vars=['trainScore', 'testScore'],\n",
    "         var_name='group', value_name='score')\n",
    "\n",
    "layer1_32 = alt.Chart(resLong[resLong.layer1==32]).mark_line().encode(\n",
    "    row = 'layer2',\n",
    "    column = 'layer3',\n",
    "    x = 'epoch',\n",
    "    y = alt.Y('score', scale=alt.Scale(domain=[0.6,0.8])),\n",
    "    color = 'group',\n",
    "    tooltip = 'score'\n",
    ").properties(width=50, height=50)\n",
    "\n",
    "layer1_128 = alt.Chart(resLong[resLong.layer1==128]).mark_line().encode(\n",
    "    row = 'layer2',\n",
    "    column = 'layer3',\n",
    "    x = 'epoch',\n",
    "    y = alt.Y('score', scale=alt.Scale(domain=[0.6,0.8])),\n",
    "    color = 'group',\n",
    "    tooltip = 'score'\n",
    ").properties(width=50, height=50)\n",
    "\n",
    "layer1_32 | layer1_128"
   ]
  },
  {
   "cell_type": "code",
   "execution_count": 39,
   "id": "1c493849-7401-46fa-b1fc-f0d3711d0a4a",
   "metadata": {},
   "outputs": [
    {
     "name": "stdout",
     "output_type": "stream",
     "text": [
      "Epoch 1/2\n",
      "261/261 [==============================] - 74s 278ms/step - loss: 0.5959 - accuracy: 0.6778 - recall: 0.7028 - val_loss: 0.5638 - val_accuracy: 0.6994 - val_recall: 0.7564\n",
      "Epoch 2/2\n",
      "261/261 [==============================] - 72s 275ms/step - loss: 0.4972 - accuracy: 0.7564 - recall: 0.7578 - val_loss: 0.5626 - val_accuracy: 0.7022 - val_recall: 0.6953\n",
      "Epoch 1/2\n",
      "261/261 [==============================] - 74s 278ms/step - loss: 0.5947 - accuracy: 0.6787 - recall: 0.7087 - val_loss: 0.5624 - val_accuracy: 0.7010 - val_recall: 0.7684\n",
      "Epoch 2/2\n",
      "261/261 [==============================] - 72s 275ms/step - loss: 0.4976 - accuracy: 0.7547 - recall: 0.7515 - val_loss: 0.5682 - val_accuracy: 0.7038 - val_recall: 0.6471\n",
      "Epoch 1/2\n",
      "261/261 [==============================] - 74s 279ms/step - loss: 0.5963 - accuracy: 0.6774 - recall: 0.7045 - val_loss: 0.5620 - val_accuracy: 0.7018 - val_recall: 0.6997\n",
      "Epoch 2/2\n",
      "261/261 [==============================] - 72s 278ms/step - loss: 0.4992 - accuracy: 0.7526 - recall: 0.7529 - val_loss: 0.5602 - val_accuracy: 0.7038 - val_recall: 0.6584\n",
      "Epoch 1/2\n",
      "261/261 [==============================] - 74s 281ms/step - loss: 0.5946 - accuracy: 0.6795 - recall: 0.7101 - val_loss: 0.5683 - val_accuracy: 0.6961 - val_recall: 0.6339\n",
      "Epoch 2/2\n",
      "261/261 [==============================] - 72s 277ms/step - loss: 0.4990 - accuracy: 0.7528 - recall: 0.7511 - val_loss: 0.5751 - val_accuracy: 0.6993 - val_recall: 0.6090\n",
      "Epoch 1/2\n",
      "261/261 [==============================] - 73s 277ms/step - loss: 0.5953 - accuracy: 0.6781 - recall: 0.7029 - val_loss: 0.5661 - val_accuracy: 0.7001 - val_recall: 0.7847\n",
      "Epoch 2/2\n",
      "261/261 [==============================] - 72s 276ms/step - loss: 0.4974 - accuracy: 0.7552 - recall: 0.7527 - val_loss: 0.5605 - val_accuracy: 0.7027 - val_recall: 0.6524\n"
     ]
    }
   ],
   "source": [
    "# generate report result\n",
    "\n",
    "res_CNN_report = pd.DataFrame(columns=['rand', 'trainScore_accuracy', 'trainScore_recall',\n",
    "                           'testScore_accuracy', 'testScore_recall'])\n",
    "\n",
    "for rand in [10, 20, 30, 40, 50]:\n",
    "    X_train_, X_test_, y_train_, y_test_ = \\\n",
    "        train_test_split(X_train_indice.numpy(), y_train_indice, test_size=0.2, random_state=rand)\n",
    "    \n",
    "    input_shape = X_train_.shape[1]\n",
    "    \n",
    "    inputs = keras.Input(shape=(input_shape,), dtype=\"int64\")\n",
    "\n",
    "    x = layers.Embedding(40000, 128)(inputs)\n",
    "    x = layers.Dropout(0.2)(x)\n",
    "\n",
    "    x = layers.Conv1D(128, 7, padding=\"valid\", activation=\"relu\", strides=3)(x)\n",
    "    x = layers.Conv1D(128, 7, padding=\"valid\", activation=\"relu\", strides=3)(x)\n",
    "    x = layers.GlobalMaxPooling1D()(x)\n",
    "\n",
    "    x = layers.Dense(128, activation=\"relu\")(x)\n",
    "    x = layers.Dropout(0.2)(x)\n",
    "\n",
    "    outputs = layers.Dense(1, activation=\"sigmoid\")(x)\n",
    "\n",
    "    model = keras.Model(inputs=inputs, outputs=outputs)\n",
    "    model.compile(loss='binary_crossentropy', metrics=['accuracy', 'Recall'], optimizer='adam')\n",
    "    model.fit(x=X_train_, y=y_train_.values, validation_data=(X_test_, y_test_.values),\n",
    "              epochs=2, batch_size=1024, verbose=1)\n",
    "\n",
    "    history = model.history.history\n",
    "    \n",
    "    res_CNN_report = res_CNN_report.append({'rand':rand, 'trainScore_accuracy':history['accuracy'][1],\n",
    "                      'trainScore_recall':history['recall'][1],\n",
    "                      'testScore_accuracy':history['val_accuracy'][1],\n",
    "                      'testScore_recall':history['val_recall'][1],}, ignore_index=True)"
   ]
  },
  {
   "cell_type": "code",
   "execution_count": null,
   "id": "24d22105-07d8-408a-a84e-47a05a7efbc7",
   "metadata": {},
   "outputs": [
    {
     "data": {
      "text/html": [
       "<div>\n",
       "<style scoped>\n",
       "    .dataframe tbody tr th:only-of-type {\n",
       "        vertical-align: middle;\n",
       "    }\n",
       "\n",
       "    .dataframe tbody tr th {\n",
       "        vertical-align: top;\n",
       "    }\n",
       "\n",
       "    .dataframe thead th {\n",
       "        text-align: right;\n",
       "    }\n",
       "</style>\n",
       "<table border=\"1\" class=\"dataframe\">\n",
       "  <thead>\n",
       "    <tr style=\"text-align: right;\">\n",
       "      <th></th>\n",
       "      <th>rand</th>\n",
       "      <th>trainScore_accuracy</th>\n",
       "      <th>trainScore_recall</th>\n",
       "      <th>testScore_accuracy</th>\n",
       "      <th>testScore_recall</th>\n",
       "    </tr>\n",
       "  </thead>\n",
       "  <tbody>\n",
       "    <tr>\n",
       "      <th>count</th>\n",
       "      <td>5.000000</td>\n",
       "      <td>5.000000</td>\n",
       "      <td>5.000000</td>\n",
       "      <td>5.000000</td>\n",
       "      <td>5.000000</td>\n",
       "    </tr>\n",
       "    <tr>\n",
       "      <th>mean</th>\n",
       "      <td>30.000000</td>\n",
       "      <td>0.754349</td>\n",
       "      <td>0.753173</td>\n",
       "      <td>0.702359</td>\n",
       "      <td>0.652430</td>\n",
       "    </tr>\n",
       "    <tr>\n",
       "      <th>std</th>\n",
       "      <td>15.811388</td>\n",
       "      <td>0.001627</td>\n",
       "      <td>0.002677</td>\n",
       "      <td>0.001847</td>\n",
       "      <td>0.030764</td>\n",
       "    </tr>\n",
       "    <tr>\n",
       "      <th>min</th>\n",
       "      <td>10.000000</td>\n",
       "      <td>0.752620</td>\n",
       "      <td>0.751083</td>\n",
       "      <td>0.699294</td>\n",
       "      <td>0.609005</td>\n",
       "    </tr>\n",
       "    <tr>\n",
       "      <th>25%</th>\n",
       "      <td>20.000000</td>\n",
       "      <td>0.752788</td>\n",
       "      <td>0.751455</td>\n",
       "      <td>0.702248</td>\n",
       "      <td>0.647069</td>\n",
       "    </tr>\n",
       "    <tr>\n",
       "      <th>50%</th>\n",
       "      <td>30.000000</td>\n",
       "      <td>0.754700</td>\n",
       "      <td>0.752717</td>\n",
       "      <td>0.702653</td>\n",
       "      <td>0.652369</td>\n",
       "    </tr>\n",
       "    <tr>\n",
       "      <th>75%</th>\n",
       "      <td>40.000000</td>\n",
       "      <td>0.755214</td>\n",
       "      <td>0.752851</td>\n",
       "      <td>0.703763</td>\n",
       "      <td>0.658440</td>\n",
       "    </tr>\n",
       "    <tr>\n",
       "      <th>max</th>\n",
       "      <td>50.000000</td>\n",
       "      <td>0.756421</td>\n",
       "      <td>0.757759</td>\n",
       "      <td>0.703838</td>\n",
       "      <td>0.695267</td>\n",
       "    </tr>\n",
       "  </tbody>\n",
       "</table>\n",
       "</div>"
      ],
      "text/plain": [
       "            rand  trainScore_accuracy  trainScore_recall  testScore_accuracy  \\\n",
       "count   5.000000             5.000000           5.000000            5.000000   \n",
       "mean   30.000000             0.754349           0.753173            0.702359   \n",
       "std    15.811388             0.001627           0.002677            0.001847   \n",
       "min    10.000000             0.752620           0.751083            0.699294   \n",
       "25%    20.000000             0.752788           0.751455            0.702248   \n",
       "50%    30.000000             0.754700           0.752717            0.702653   \n",
       "75%    40.000000             0.755214           0.752851            0.703763   \n",
       "max    50.000000             0.756421           0.757759            0.703838   \n",
       "\n",
       "       testScore_recall  \n",
       "count          5.000000  \n",
       "mean           0.652430  \n",
       "std            0.030764  \n",
       "min            0.609005  \n",
       "25%            0.647069  \n",
       "50%            0.652369  \n",
       "75%            0.658440  \n",
       "max            0.695267  "
      ]
     },
     "execution_count": 40,
     "metadata": {},
     "output_type": "execute_result"
    }
   ],
   "source": [
    "res_CNN_report.describe()"
   ]
  },
  {
   "cell_type": "markdown",
   "id": "eastern-report",
   "metadata": {
    "id": "eastern-report"
   },
   "source": [
    "### c) LSTM"
   ]
  },
  {
   "cell_type": "code",
   "execution_count": null,
   "id": "11pUVusMazCJ",
   "metadata": {
    "colab": {
     "base_uri": "https://localhost:8080/",
     "height": 478
    },
    "id": "11pUVusMazCJ",
    "outputId": "ce681081-90d1-4547-a2ff-418006283e00"
   },
   "outputs": [
    {
     "name": "stderr",
     "output_type": "stream",
     "text": [
      "  0%|          | 0/2 [00:00<?, ?it/s]\n",
      "  0%|          | 0/2 [00:00<?, ?it/s]\u001b[A"
     ]
    },
    {
     "name": "stdout",
     "output_type": "stream",
     "text": [
      "Epoch 1/2\n",
      "326/326 [==============================] - 368s 1s/step - loss: 0.5895 - accuracy: 0.6811 - val_loss: 0.5590 - val_accuracy: 0.7023\n",
      "Epoch 2/2\n",
      "326/326 [==============================] - 360s 1s/step - loss: 0.5228 - accuracy: 0.7292 - val_loss: 0.5608 - val_accuracy: 0.6996\n"
     ]
    },
    {
     "name": "stderr",
     "output_type": "stream",
     "text": [
      "\n",
      " 50%|█████     | 1/2 [12:08<12:08, 728.38s/it]\u001b[A"
     ]
    },
    {
     "name": "stdout",
     "output_type": "stream",
     "text": [
      "Epoch 1/2\n",
      "326/326 [==============================] - 518s 2s/step - loss: 0.5901 - accuracy: 0.6785 - val_loss: 0.5605 - val_accuracy: 0.7006\n",
      "Epoch 2/2\n",
      "326/326 [==============================] - 512s 2s/step - loss: 0.5277 - accuracy: 0.7256 - val_loss: 0.5629 - val_accuracy: 0.7035\n"
     ]
    },
    {
     "name": "stderr",
     "output_type": "stream",
     "text": [
      "\n",
      "100%|██████████| 2/2 [29:19<00:00, 879.79s/it]\u001b[A\n",
      " 50%|█████     | 1/2 [29:19<29:19, 1759.58s/it]\n",
      "  0%|          | 0/2 [00:00<?, ?it/s]\u001b[A"
     ]
    },
    {
     "name": "stdout",
     "output_type": "stream",
     "text": [
      "Epoch 1/2\n",
      "326/326 [==============================] - 671s 2s/step - loss: 0.5887 - accuracy: 0.6815 - val_loss: 0.5610 - val_accuracy: 0.6978\n",
      "Epoch 2/2\n",
      "326/326 [==============================] - 667s 2s/step - loss: 0.5246 - accuracy: 0.7281 - val_loss: 0.5655 - val_accuracy: 0.6998\n"
     ]
    },
    {
     "name": "stderr",
     "output_type": "stream",
     "text": [
      "\n",
      " 50%|█████     | 1/2 [22:18<22:18, 1338.04s/it]\u001b[A"
     ]
    },
    {
     "name": "stdout",
     "output_type": "stream",
     "text": [
      "Epoch 1/2\n",
      "326/326 [==============================] - 841s 3s/step - loss: 0.5869 - accuracy: 0.6823 - val_loss: 0.5595 - val_accuracy: 0.6989\n",
      "Epoch 2/2\n",
      "326/326 [==============================] - 835s 3s/step - loss: 0.5246 - accuracy: 0.7270 - val_loss: 0.5615 - val_accuracy: 0.7044\n"
     ]
    },
    {
     "name": "stderr",
     "output_type": "stream",
     "text": [
      "\n",
      "100%|██████████| 2/2 [50:14<00:00, 1507.26s/it]\u001b[A\n",
      "100%|██████████| 2/2 [1:19:34<00:00, 2387.05s/it]"
     ]
    },
    {
     "name": "stdout",
     "output_type": "stream",
     "text": [
      "\n",
      "\n",
      "total run time: 79.56831512451171 mins\n"
     ]
    },
    {
     "name": "stderr",
     "output_type": "stream",
     "text": [
      "\n"
     ]
    }
   ],
   "source": [
    "start_time = time.time()\n",
    "\n",
    "layers1 = [16, 64]\n",
    "layers2 = [16, 64]\n",
    "input_shape = 500\n",
    "max_features = 40000\n",
    "embedding_dim = 128\n",
    "ep_size = 2\n",
    "batch_size = 1024\n",
    "\n",
    "res_LSTM = pd.DataFrame(columns=['layer1', 'layer2', 'epoch', 'trainScore', 'testScore'])\n",
    "\n",
    "for units_1 in tqdm(layers1):\n",
    "    for units_2 in tqdm(layers2):\n",
    "            \n",
    "        inputs = keras.Input(shape=(input_shape,), dtype=\"int32\")\n",
    "        \n",
    "        x = layers.Embedding(max_features, embedding_dim)(inputs)\n",
    "        x = layers.Bidirectional(layers.LSTM(units_1, return_sequences=True))(x)\n",
    "        x = layers.Bidirectional(layers.LSTM(units_2))(x)\n",
    "\n",
    "        outputs = layers.Dense(1, activation=\"sigmoid\")(x)\n",
    "        \n",
    "        model = keras.Model(inputs, outputs)\n",
    "        model.compile(loss='binary_crossentropy', metrics=['accuracy'], optimizer='adam')\n",
    "        model.fit(x=X_train_indice, y=y_train_indice.values, validation_data=(X_test_indice, y_test_indice.values),\n",
    "                      epochs=ep_size, batch_size=batch_size, verbose=1)\n",
    "\n",
    "        history = model.history.history\n",
    "\n",
    "        for ep in np.arange(ep_size):\n",
    "            res_LSTM = res_LSTM.append({'layer1':units_1, 'layer2':units_2, 'epoch':ep+1,\n",
    "                              'trainScore':history['accuracy'][ep],\n",
    "                              'testScore':history['val_accuracy'][ep]}, ignore_index=True)\n",
    "            \n",
    "# get run time\n",
    "end_time = time.time()\n",
    "delta_time = end_time - start_time\n",
    "print('\\n')\n",
    "print(\"total run time: {} mins\".format(delta_time/60))"
   ]
  },
  {
   "cell_type": "code",
   "execution_count": null,
   "id": "c568c71d-34c5-423b-ad34-fc9c71342adb",
   "metadata": {},
   "outputs": [
    {
     "data": {
      "text/html": [
       "\n",
       "<div id=\"altair-viz-0be14aa13757439798a4218a5467a5ca\"></div>\n",
       "<script type=\"text/javascript\">\n",
       "  var VEGA_DEBUG = (typeof VEGA_DEBUG == \"undefined\") ? {} : VEGA_DEBUG;\n",
       "  (function(spec, embedOpt){\n",
       "    let outputDiv = document.currentScript.previousElementSibling;\n",
       "    if (outputDiv.id !== \"altair-viz-0be14aa13757439798a4218a5467a5ca\") {\n",
       "      outputDiv = document.getElementById(\"altair-viz-0be14aa13757439798a4218a5467a5ca\");\n",
       "    }\n",
       "    const paths = {\n",
       "      \"vega\": \"https://cdn.jsdelivr.net/npm//vega@5?noext\",\n",
       "      \"vega-lib\": \"https://cdn.jsdelivr.net/npm//vega-lib?noext\",\n",
       "      \"vega-lite\": \"https://cdn.jsdelivr.net/npm//vega-lite@4.17.0?noext\",\n",
       "      \"vega-embed\": \"https://cdn.jsdelivr.net/npm//vega-embed@6?noext\",\n",
       "    };\n",
       "\n",
       "    function maybeLoadScript(lib, version) {\n",
       "      var key = `${lib.replace(\"-\", \"\")}_version`;\n",
       "      return (VEGA_DEBUG[key] == version) ?\n",
       "        Promise.resolve(paths[lib]) :\n",
       "        new Promise(function(resolve, reject) {\n",
       "          var s = document.createElement('script');\n",
       "          document.getElementsByTagName(\"head\")[0].appendChild(s);\n",
       "          s.async = true;\n",
       "          s.onload = () => {\n",
       "            VEGA_DEBUG[key] = version;\n",
       "            return resolve(paths[lib]);\n",
       "          };\n",
       "          s.onerror = () => reject(`Error loading script: ${paths[lib]}`);\n",
       "          s.src = paths[lib];\n",
       "        });\n",
       "    }\n",
       "\n",
       "    function showError(err) {\n",
       "      outputDiv.innerHTML = `<div class=\"error\" style=\"color:red;\">${err}</div>`;\n",
       "      throw err;\n",
       "    }\n",
       "\n",
       "    function displayChart(vegaEmbed) {\n",
       "      vegaEmbed(outputDiv, spec, embedOpt)\n",
       "        .catch(err => showError(`Javascript Error: ${err.message}<br>This usually means there's a typo in your chart specification. See the javascript console for the full traceback.`));\n",
       "    }\n",
       "\n",
       "    if(typeof define === \"function\" && define.amd) {\n",
       "      requirejs.config({paths});\n",
       "      require([\"vega-embed\"], displayChart, err => showError(`Error loading script: ${err.message}`));\n",
       "    } else {\n",
       "      maybeLoadScript(\"vega\", \"5\")\n",
       "        .then(() => maybeLoadScript(\"vega-lite\", \"4.17.0\"))\n",
       "        .then(() => maybeLoadScript(\"vega-embed\", \"6\"))\n",
       "        .catch(showError)\n",
       "        .then(() => displayChart(vegaEmbed));\n",
       "    }\n",
       "  })({\"config\": {\"view\": {\"continuousWidth\": 400, \"continuousHeight\": 300}}, \"data\": {\"name\": \"data-a521e2e89917ddbd543782780aa61ca2\"}, \"mark\": \"line\", \"encoding\": {\"color\": {\"field\": \"group\", \"type\": \"nominal\"}, \"column\": {\"field\": \"layer2\", \"type\": \"quantitative\"}, \"row\": {\"field\": \"layer1\", \"type\": \"quantitative\"}, \"tooltip\": {\"field\": \"score\", \"type\": \"quantitative\"}, \"x\": {\"field\": \"epoch\", \"type\": \"quantitative\"}, \"y\": {\"field\": \"score\", \"scale\": {\"domain\": [0.65, 0.75]}, \"type\": \"quantitative\"}}, \"height\": 50, \"width\": 50, \"$schema\": \"https://vega.github.io/schema/vega-lite/v4.17.0.json\", \"datasets\": {\"data-a521e2e89917ddbd543782780aa61ca2\": [{\"layer1\": 16.0, \"layer2\": 16.0, \"epoch\": 1.0, \"group\": \"trainScore\", \"score\": 0.6810901761054993}, {\"layer1\": 16.0, \"layer2\": 16.0, \"epoch\": 2.0, \"group\": \"trainScore\", \"score\": 0.7292015552520752}, {\"layer1\": 16.0, \"layer2\": 64.0, \"epoch\": 1.0, \"group\": \"trainScore\", \"score\": 0.6784568428993225}, {\"layer1\": 16.0, \"layer2\": 64.0, \"epoch\": 2.0, \"group\": \"trainScore\", \"score\": 0.7255933880805969}, {\"layer1\": 64.0, \"layer2\": 16.0, \"epoch\": 1.0, \"group\": \"trainScore\", \"score\": 0.6815040707588196}, {\"layer1\": 64.0, \"layer2\": 16.0, \"epoch\": 2.0, \"group\": \"trainScore\", \"score\": 0.7281067967414856}, {\"layer1\": 64.0, \"layer2\": 64.0, \"epoch\": 1.0, \"group\": \"trainScore\", \"score\": 0.6823078989982605}, {\"layer1\": 64.0, \"layer2\": 64.0, \"epoch\": 2.0, \"group\": \"trainScore\", \"score\": 0.7269850969314575}, {\"layer1\": 16.0, \"layer2\": 16.0, \"epoch\": 1.0, \"group\": \"testScore\", \"score\": 0.7022818326950073}, {\"layer1\": 16.0, \"layer2\": 16.0, \"epoch\": 2.0, \"group\": \"testScore\", \"score\": 0.6995704770088196}, {\"layer1\": 16.0, \"layer2\": 64.0, \"epoch\": 1.0, \"group\": \"testScore\", \"score\": 0.7006022334098816}, {\"layer1\": 16.0, \"layer2\": 64.0, \"epoch\": 2.0, \"group\": \"testScore\", \"score\": 0.7034815549850464}, {\"layer1\": 64.0, \"layer2\": 16.0, \"epoch\": 1.0, \"group\": \"testScore\", \"score\": 0.6977949738502502}, {\"layer1\": 64.0, \"layer2\": 16.0, \"epoch\": 2.0, \"group\": \"testScore\", \"score\": 0.699774444103241}, {\"layer1\": 64.0, \"layer2\": 64.0, \"epoch\": 1.0, \"group\": \"testScore\", \"score\": 0.698850691318512}, {\"layer1\": 64.0, \"layer2\": 64.0, \"epoch\": 2.0, \"group\": \"testScore\", \"score\": 0.7043933272361755}]}}, {\"mode\": \"vega-lite\"});\n",
       "</script>"
      ],
      "text/plain": [
       "alt.Chart(...)"
      ]
     },
     "execution_count": 42,
     "metadata": {},
     "output_type": "execute_result"
    }
   ],
   "source": [
    "resLong = res_LSTM.melt(id_vars=['layer1', 'layer2', 'epoch'], value_vars=['trainScore', 'testScore'],\n",
    "         var_name='group', value_name='score')\n",
    "\n",
    "alt.Chart(resLong).mark_line().encode(\n",
    "    row = 'layer1',\n",
    "    column = 'layer2',\n",
    "    x = 'epoch',\n",
    "    y = alt.Y('score', scale=alt.Scale(domain=[0.65,0.75])),\n",
    "    color = 'group',\n",
    "    tooltip = 'score'\n",
    ").properties(width=50, height=50)"
   ]
  },
  {
   "cell_type": "code",
   "execution_count": null,
   "id": "f2bb0d3d-be92-4dec-992e-92d3a0389aa2",
   "metadata": {},
   "outputs": [
    {
     "name": "stdout",
     "output_type": "stream",
     "text": [
      "Epoch 1/2\n",
      "326/326 [==============================] - 369s 1s/step - loss: 0.5938 - accuracy: 0.6803 - recall: 0.7070 - val_loss: 0.5633 - val_accuracy: 0.7003 - val_recall: 0.7577\n",
      "Epoch 2/2\n",
      "326/326 [==============================] - 366s 1s/step - loss: 0.5280 - accuracy: 0.7285 - recall: 0.7399 - val_loss: 0.5628 - val_accuracy: 0.7010 - val_recall: 0.7406\n",
      "Epoch 1/2\n",
      "326/326 [==============================] - 373s 1s/step - loss: 0.5900 - accuracy: 0.6811 - recall: 0.7039 - val_loss: 0.5600 - val_accuracy: 0.7009 - val_recall: 0.7149\n",
      "Epoch 2/2\n",
      "326/326 [==============================] - 368s 1s/step - loss: 0.5223 - accuracy: 0.7295 - recall: 0.7366 - val_loss: 0.5587 - val_accuracy: 0.7012 - val_recall: 0.7009\n",
      "Epoch 1/2\n",
      "326/326 [==============================] - 376s 1s/step - loss: 0.5914 - accuracy: 0.6803 - recall: 0.6971 - val_loss: 0.5599 - val_accuracy: 0.7014 - val_recall: 0.7119\n",
      "Epoch 2/2\n",
      "326/326 [==============================] - 370s 1s/step - loss: 0.5246 - accuracy: 0.7283 - recall: 0.7406 - val_loss: 0.5606 - val_accuracy: 0.7028 - val_recall: 0.7131\n",
      "Epoch 1/2\n",
      "326/326 [==============================] - 376s 1s/step - loss: 0.5920 - accuracy: 0.6794 - recall: 0.6810 - val_loss: 0.5634 - val_accuracy: 0.7002 - val_recall: 0.7111\n",
      "Epoch 2/2\n",
      "326/326 [==============================] - 371s 1s/step - loss: 0.5284 - accuracy: 0.7264 - recall: 0.7345 - val_loss: 0.5584 - val_accuracy: 0.7025 - val_recall: 0.7063\n",
      "Epoch 1/2\n",
      "326/326 [==============================] - 379s 1s/step - loss: 0.5899 - accuracy: 0.6805 - recall: 0.6950 - val_loss: 0.5593 - val_accuracy: 0.7021 - val_recall: 0.7341\n",
      "Epoch 2/2\n",
      "326/326 [==============================] - 373s 1s/step - loss: 0.5241 - accuracy: 0.7284 - recall: 0.7390 - val_loss: 0.5594 - val_accuracy: 0.7041 - val_recall: 0.7477\n"
     ]
    }
   ],
   "source": [
    "# generate report result\n",
    "\n",
    "res_LSTM_report = pd.DataFrame(columns=['rand', 'trainScore_accuracy', 'trainScore_recall',\n",
    "                           'testScore_accuracy', 'testScore_recall'])\n",
    "\n",
    "for rand in [10, 20, 30, 40, 50]:\n",
    "    X_train_, X_test_, y_train_, y_test_ = \\\n",
    "        train_test_split(X_train_indice.numpy(), y_train_indice, test_size=0.2, random_state=rand)\n",
    "    \n",
    "    input_shape = X_train_.shape[1]\n",
    "    \n",
    "    inputs = keras.Input(shape=(input_shape,), dtype=\"int64\")\n",
    "\n",
    "    x = layers.Embedding(40000, 128)(inputs)\n",
    "    x = layers.Bidirectional(layers.LSTM(16, return_sequences=True))(x)\n",
    "    x = layers.Bidirectional(layers.LSTM(16))(x)\n",
    "\n",
    "    outputs = layers.Dense(1, activation=\"sigmoid\")(x)\n",
    "\n",
    "    model = keras.Model(inputs, outputs)\n",
    "    model.compile(loss='binary_crossentropy', metrics=['accuracy', 'Recall'], optimizer='adam')\n",
    "    model.fit(x=X_train_indice, y=y_train_indice.values, validation_data=(X_test_indice, y_test_indice.values),\n",
    "                  epochs=2, batch_size=1024, verbose=1)\n",
    "\n",
    "    history = model.history.history\n",
    "    \n",
    "    res_LSTM_report = res_LSTM_report.append({'rand':rand, 'trainScore_accuracy':history['accuracy'][1],\n",
    "                      'trainScore_recall':history['recall'][1],\n",
    "                      'testScore_accuracy':history['val_accuracy'][1],\n",
    "                      'testScore_recall':history['val_recall'][1],}, ignore_index=True)"
   ]
  },
  {
   "cell_type": "code",
   "execution_count": null,
   "id": "7532fc8a-fd40-4471-970e-d9720e314620",
   "metadata": {},
   "outputs": [
    {
     "data": {
      "text/html": [
       "<div>\n",
       "<style scoped>\n",
       "    .dataframe tbody tr th:only-of-type {\n",
       "        vertical-align: middle;\n",
       "    }\n",
       "\n",
       "    .dataframe tbody tr th {\n",
       "        vertical-align: top;\n",
       "    }\n",
       "\n",
       "    .dataframe thead th {\n",
       "        text-align: right;\n",
       "    }\n",
       "</style>\n",
       "<table border=\"1\" class=\"dataframe\">\n",
       "  <thead>\n",
       "    <tr style=\"text-align: right;\">\n",
       "      <th></th>\n",
       "      <th>rand</th>\n",
       "      <th>trainScore_accuracy</th>\n",
       "      <th>trainScore_recall</th>\n",
       "      <th>testScore_accuracy</th>\n",
       "      <th>testScore_recall</th>\n",
       "    </tr>\n",
       "  </thead>\n",
       "  <tbody>\n",
       "    <tr>\n",
       "      <th>count</th>\n",
       "      <td>5.000000</td>\n",
       "      <td>5.000000</td>\n",
       "      <td>5.000000</td>\n",
       "      <td>5.000000</td>\n",
       "      <td>5.000000</td>\n",
       "    </tr>\n",
       "    <tr>\n",
       "      <th>mean</th>\n",
       "      <td>30.000000</td>\n",
       "      <td>0.728206</td>\n",
       "      <td>0.738150</td>\n",
       "      <td>0.702303</td>\n",
       "      <td>0.721706</td>\n",
       "    </tr>\n",
       "    <tr>\n",
       "      <th>std</th>\n",
       "      <td>15.811388</td>\n",
       "      <td>0.001119</td>\n",
       "      <td>0.002524</td>\n",
       "      <td>0.001251</td>\n",
       "      <td>0.021069</td>\n",
       "    </tr>\n",
       "    <tr>\n",
       "      <th>min</th>\n",
       "      <td>10.000000</td>\n",
       "      <td>0.726397</td>\n",
       "      <td>0.734531</td>\n",
       "      <td>0.701034</td>\n",
       "      <td>0.700940</td>\n",
       "    </tr>\n",
       "    <tr>\n",
       "      <th>25%</th>\n",
       "      <td>20.000000</td>\n",
       "      <td>0.728290</td>\n",
       "      <td>0.736631</td>\n",
       "      <td>0.701154</td>\n",
       "      <td>0.706265</td>\n",
       "    </tr>\n",
       "    <tr>\n",
       "      <th>50%</th>\n",
       "      <td>30.000000</td>\n",
       "      <td>0.728365</td>\n",
       "      <td>0.739031</td>\n",
       "      <td>0.702510</td>\n",
       "      <td>0.713052</td>\n",
       "    </tr>\n",
       "    <tr>\n",
       "      <th>75%</th>\n",
       "      <td>40.000000</td>\n",
       "      <td>0.728503</td>\n",
       "      <td>0.739924</td>\n",
       "      <td>0.702762</td>\n",
       "      <td>0.740610</td>\n",
       "    </tr>\n",
       "    <tr>\n",
       "      <th>max</th>\n",
       "      <td>50.000000</td>\n",
       "      <td>0.729477</td>\n",
       "      <td>0.740632</td>\n",
       "      <td>0.704057</td>\n",
       "      <td>0.747662</td>\n",
       "    </tr>\n",
       "  </tbody>\n",
       "</table>\n",
       "</div>"
      ],
      "text/plain": [
       "            rand  trainScore_accuracy  trainScore_recall  testScore_accuracy  \\\n",
       "count   5.000000             5.000000           5.000000            5.000000   \n",
       "mean   30.000000             0.728206           0.738150            0.702303   \n",
       "std    15.811388             0.001119           0.002524            0.001251   \n",
       "min    10.000000             0.726397           0.734531            0.701034   \n",
       "25%    20.000000             0.728290           0.736631            0.701154   \n",
       "50%    30.000000             0.728365           0.739031            0.702510   \n",
       "75%    40.000000             0.728503           0.739924            0.702762   \n",
       "max    50.000000             0.729477           0.740632            0.704057   \n",
       "\n",
       "       testScore_recall  \n",
       "count          5.000000  \n",
       "mean           0.721706  \n",
       "std            0.021069  \n",
       "min            0.700940  \n",
       "25%            0.706265  \n",
       "50%            0.713052  \n",
       "75%            0.740610  \n",
       "max            0.747662  "
      ]
     },
     "execution_count": 44,
     "metadata": {},
     "output_type": "execute_result"
    }
   ],
   "source": [
    "res_LSTM_report.describe()"
   ]
  },
  {
   "cell_type": "markdown",
   "id": "I80KgPlSd5Ba",
   "metadata": {
    "id": "I80KgPlSd5Ba"
   },
   "source": [
    "### d) Transformer"
   ]
  },
  {
   "cell_type": "code",
   "execution_count": null,
   "id": "HPmqBoH3eDhB",
   "metadata": {
    "id": "HPmqBoH3eDhB"
   },
   "outputs": [],
   "source": [
    "## Implement a transformer blocker\n",
    "\n",
    "class TransformerBlock(layers.Layer):\n",
    "    def __init__(self, embed_dim, num_heads, ff_dim, rate=0.1):\n",
    "        super().__init__()\n",
    "        self.att = layers.MultiHeadAttention(num_heads=num_heads, key_dim=embed_dim)\n",
    "        self.ffn = keras.Sequential(\n",
    "            [layers.Dense(ff_dim, activation=\"relu\"), layers.Dense(embed_dim),]\n",
    "        )\n",
    "        self.layernorm1 = layers.LayerNormalization(epsilon=1e-6)\n",
    "        self.layernorm2 = layers.LayerNormalization(epsilon=1e-6)\n",
    "        self.dropout1 = layers.Dropout(rate)\n",
    "        self.dropout2 = layers.Dropout(rate)\n",
    "\n",
    "    def call(self, inputs, training):\n",
    "        attn_output = self.att(inputs, inputs)\n",
    "        attn_output = self.dropout1(attn_output, training=training)\n",
    "        out1 = self.layernorm1(inputs + attn_output)\n",
    "        ffn_output = self.ffn(out1)\n",
    "        ffn_output = self.dropout2(ffn_output, training=training)\n",
    "        return self.layernorm2(out1 + ffn_output)"
   ]
  },
  {
   "cell_type": "code",
   "execution_count": null,
   "id": "LDYByEsJeUOJ",
   "metadata": {
    "id": "LDYByEsJeUOJ"
   },
   "outputs": [],
   "source": [
    "## Implement embedding layer\n",
    "## two layers, one for token, one for positions\n",
    "\n",
    "class TokenAndPositionEmbedding(layers.Layer):\n",
    "    def __init__(self, maxlen, vocab_size, embed_dim):\n",
    "        super().__init__()\n",
    "        self.token_emb = layers.Embedding(input_dim=vocab_size, output_dim=embed_dim)\n",
    "        self.pos_emb = layers.Embedding(input_dim=maxlen, output_dim=embed_dim)\n",
    "\n",
    "    def call(self, x):\n",
    "        maxlen = tf.shape(x)[-1]\n",
    "        positions = tf.range(start=0, limit=maxlen, delta=1)\n",
    "        positions = self.pos_emb(positions)\n",
    "        x = self.token_emb(x)\n",
    "        return x + positions"
   ]
  },
  {
   "cell_type": "code",
   "execution_count": null,
   "id": "mEcEBv8denHo",
   "metadata": {
    "id": "mEcEBv8denHo"
   },
   "outputs": [
    {
     "name": "stderr",
     "output_type": "stream",
     "text": [
      "  0%|          | 0/1 [00:00<?, ?it/s]\n",
      "  0%|          | 0/1 [00:00<?, ?it/s]\u001b[A\n",
      "\n",
      "  0%|          | 0/1 [00:00<?, ?it/s]\u001b[A\u001b[A"
     ]
    },
    {
     "name": "stdout",
     "output_type": "stream",
     "text": [
      "Epoch 1/3\n",
      "326/326 [==============================] - 1256s 4s/step - loss: 0.6359 - accuracy: 0.6319 - val_loss: 0.5828 - val_accuracy: 0.6938\n",
      "Epoch 2/3\n",
      "326/326 [==============================] - 1278s 4s/step - loss: 0.5637 - accuracy: 0.7112 - val_loss: 0.5691 - val_accuracy: 0.7009\n",
      "Epoch 3/3\n",
      "326/326 [==============================] - 1279s 4s/step - loss: 0.5340 - accuracy: 0.7289 - val_loss: 0.5686 - val_accuracy: 0.7014\n"
     ]
    },
    {
     "name": "stderr",
     "output_type": "stream",
     "text": [
      "\n",
      "\n",
      "100%|██████████| 1/1 [1:03:32<00:00, 3812.98s/it]\u001b[A\u001b[A\n",
      "\n",
      "100%|██████████| 1/1 [1:03:32<00:00, 3812.98s/it]\u001b[A\n",
      "100%|██████████| 1/1 [1:03:32<00:00, 3812.98s/it]\n"
     ]
    }
   ],
   "source": [
    "embed_dim_list = [32]  # Embedding size for each token\n",
    "num_heads_list = [2]  # Number of attention heads\n",
    "ff_dim_list = [32]  # Hidden layer size in feed forward network inside transformer\n",
    "maxlen = 500\n",
    "vocab_size = 40000\n",
    "ep_size = 3\n",
    "batch_size = 1024\n",
    "\n",
    "res = pd.DataFrame(columns=['embed_dim', 'num_heads', 'ff_dim',\n",
    "                            'epoch', 'trainScore', 'testScore'])\n",
    "\n",
    "for embed_dim in tqdm(embed_dim_list):\n",
    "    for num_heads in tqdm(num_heads_list):\n",
    "        for ff_dim in tqdm(ff_dim_list):\n",
    "\n",
    "            inputs = layers.Input(shape=(maxlen,))\n",
    "\n",
    "            embedding_layer = TokenAndPositionEmbedding(maxlen, vocab_size, embed_dim)\n",
    "            x = embedding_layer(inputs)\n",
    "            transformer_block = TransformerBlock(embed_dim, num_heads, ff_dim)\n",
    "            x = transformer_block(x)\n",
    "            x = layers.GlobalAveragePooling1D()(x)\n",
    "            x = layers.Dropout(0.1)(x)\n",
    "            x = layers.Dense(20, activation=\"relu\")(x)\n",
    "            x = layers.Dropout(0.1)(x)\n",
    "\n",
    "            outputs = layers.Dense(1, activation=\"sigmoid\")(x)\n",
    "\n",
    "            model = keras.Model(inputs=inputs, outputs=outputs)\n",
    "            model.compile(loss='binary_crossentropy', metrics=['accuracy'],\n",
    "                          optimizer='adam')\n",
    "            model.fit(x=X_train_indice, y=y_train_indice.values,\n",
    "                      validation_data=(X_test_indice, y_test_indice.values),\n",
    "                      epochs=ep_size, batch_size=batch_size, verbose=1)\n",
    "\n",
    "            history = model.history.history\n",
    "\n",
    "            for ep in np.arange(ep_size):\n",
    "                res = res.append({'embed_dim':embed_dim, 'num_heads':num_heads,\n",
    "                                  'ff_dim':ff_dim,'epoch':ep+1,\n",
    "                                  'trainScore':history['accuracy'][ep],\n",
    "                                  'testScore':history['val_accuracy'][ep]},\n",
    "                                  ignore_index=True)"
   ]
  }
 ],
 "metadata": {
  "accelerator": "GPU",
  "colab": {
   "machine_shape": "hm",
   "provenance": []
  },
  "gpuClass": "standard",
  "kernelspec": {
   "display_name": "Python 3 (ipykernel)",
   "language": "python",
   "name": "python3"
  },
  "language_info": {
   "codemirror_mode": {
    "name": "ipython",
    "version": 3
   },
   "file_extension": ".py",
   "mimetype": "text/x-python",
   "name": "python",
   "nbconvert_exporter": "python",
   "pygments_lexer": "ipython3",
   "version": "3.9.12"
  }
 },
 "nbformat": 4,
 "nbformat_minor": 5
}
